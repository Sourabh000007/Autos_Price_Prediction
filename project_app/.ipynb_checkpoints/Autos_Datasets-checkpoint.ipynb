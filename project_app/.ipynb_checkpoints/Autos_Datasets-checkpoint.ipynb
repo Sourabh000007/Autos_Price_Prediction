{
 "cells": [
  {
   "cell_type": "code",
   "execution_count": 1,
   "id": "f3763511",
   "metadata": {},
   "outputs": [],
   "source": [
    "import pandas as pd\n",
    "import numpy as np\n",
    "\n",
    "import seaborn as sns\n",
    "import matplotlib.pyplot as plt\n",
    "\n",
    "from sklearn.preprocessing import OneHotEncoder\n",
    "\n",
    "from statsmodels.stats.outliers_influence import variance_inflation_factor\n",
    "from sklearn.linear_model import LinearRegression,Ridge,Lasso\n",
    "from sklearn.metrics import mean_absolute_error,mean_squared_error,r2_score\n",
    "from sklearn.model_selection import train_test_split,RandomizedSearchCV,GridSearchCV\n",
    "\n",
    "from scipy.stats import shapiro\n",
    "from scipy.stats import kstest\n",
    "from scipy.stats import normaltest\n",
    "import statsmodels.api as sm\n",
    "\n",
    "import pickle\n",
    "import json\n",
    "\n",
    "\n",
    "import warnings\n",
    "warnings.filterwarnings(\"ignore\")"
   ]
  },
  {
   "cell_type": "markdown",
   "id": "34c11a1a",
   "metadata": {},
   "source": [
    "# Problem Statement"
   ]
  },
  {
   "cell_type": "raw",
   "id": "b68a0c1d",
   "metadata": {},
   "source": [
    "To predict the price of Car by using Linear Regression as supervised machine learning  "
   ]
  },
  {
   "cell_type": "code",
   "execution_count": 2,
   "id": "38417056",
   "metadata": {},
   "outputs": [
    {
     "data": {
      "text/html": [
       "<div>\n",
       "<style scoped>\n",
       "    .dataframe tbody tr th:only-of-type {\n",
       "        vertical-align: middle;\n",
       "    }\n",
       "\n",
       "    .dataframe tbody tr th {\n",
       "        vertical-align: top;\n",
       "    }\n",
       "\n",
       "    .dataframe thead th {\n",
       "        text-align: right;\n",
       "    }\n",
       "</style>\n",
       "<table border=\"1\" class=\"dataframe\">\n",
       "  <thead>\n",
       "    <tr style=\"text-align: right;\">\n",
       "      <th></th>\n",
       "      <th>symboling</th>\n",
       "      <th>normalized-losses</th>\n",
       "      <th>make</th>\n",
       "      <th>fuel-type</th>\n",
       "      <th>aspiration</th>\n",
       "      <th>num-of-doors</th>\n",
       "      <th>body-style</th>\n",
       "      <th>drive-wheels</th>\n",
       "      <th>engine-location</th>\n",
       "      <th>wheel-base</th>\n",
       "      <th>...</th>\n",
       "      <th>engine-size</th>\n",
       "      <th>fuel-system</th>\n",
       "      <th>bore</th>\n",
       "      <th>stroke</th>\n",
       "      <th>compression-ratio</th>\n",
       "      <th>horsepower</th>\n",
       "      <th>peak-rpm</th>\n",
       "      <th>city-mpg</th>\n",
       "      <th>highway-mpg</th>\n",
       "      <th>price</th>\n",
       "    </tr>\n",
       "  </thead>\n",
       "  <tbody>\n",
       "    <tr>\n",
       "      <th>0</th>\n",
       "      <td>3</td>\n",
       "      <td>?</td>\n",
       "      <td>alfa-romero</td>\n",
       "      <td>gas</td>\n",
       "      <td>std</td>\n",
       "      <td>two</td>\n",
       "      <td>convertible</td>\n",
       "      <td>rwd</td>\n",
       "      <td>front</td>\n",
       "      <td>88.6</td>\n",
       "      <td>...</td>\n",
       "      <td>130</td>\n",
       "      <td>mpfi</td>\n",
       "      <td>3.47</td>\n",
       "      <td>2.68</td>\n",
       "      <td>9.0</td>\n",
       "      <td>111</td>\n",
       "      <td>5000</td>\n",
       "      <td>21</td>\n",
       "      <td>27</td>\n",
       "      <td>13495</td>\n",
       "    </tr>\n",
       "    <tr>\n",
       "      <th>1</th>\n",
       "      <td>3</td>\n",
       "      <td>?</td>\n",
       "      <td>alfa-romero</td>\n",
       "      <td>gas</td>\n",
       "      <td>std</td>\n",
       "      <td>two</td>\n",
       "      <td>convertible</td>\n",
       "      <td>rwd</td>\n",
       "      <td>front</td>\n",
       "      <td>88.6</td>\n",
       "      <td>...</td>\n",
       "      <td>130</td>\n",
       "      <td>mpfi</td>\n",
       "      <td>3.47</td>\n",
       "      <td>2.68</td>\n",
       "      <td>9.0</td>\n",
       "      <td>111</td>\n",
       "      <td>5000</td>\n",
       "      <td>21</td>\n",
       "      <td>27</td>\n",
       "      <td>16500</td>\n",
       "    </tr>\n",
       "    <tr>\n",
       "      <th>2</th>\n",
       "      <td>1</td>\n",
       "      <td>?</td>\n",
       "      <td>alfa-romero</td>\n",
       "      <td>gas</td>\n",
       "      <td>std</td>\n",
       "      <td>two</td>\n",
       "      <td>hatchback</td>\n",
       "      <td>rwd</td>\n",
       "      <td>front</td>\n",
       "      <td>94.5</td>\n",
       "      <td>...</td>\n",
       "      <td>152</td>\n",
       "      <td>mpfi</td>\n",
       "      <td>2.68</td>\n",
       "      <td>3.47</td>\n",
       "      <td>9.0</td>\n",
       "      <td>154</td>\n",
       "      <td>5000</td>\n",
       "      <td>19</td>\n",
       "      <td>26</td>\n",
       "      <td>16500</td>\n",
       "    </tr>\n",
       "    <tr>\n",
       "      <th>3</th>\n",
       "      <td>2</td>\n",
       "      <td>164</td>\n",
       "      <td>audi</td>\n",
       "      <td>gas</td>\n",
       "      <td>std</td>\n",
       "      <td>four</td>\n",
       "      <td>sedan</td>\n",
       "      <td>fwd</td>\n",
       "      <td>front</td>\n",
       "      <td>99.8</td>\n",
       "      <td>...</td>\n",
       "      <td>109</td>\n",
       "      <td>mpfi</td>\n",
       "      <td>3.19</td>\n",
       "      <td>3.4</td>\n",
       "      <td>10.0</td>\n",
       "      <td>102</td>\n",
       "      <td>5500</td>\n",
       "      <td>24</td>\n",
       "      <td>30</td>\n",
       "      <td>13950</td>\n",
       "    </tr>\n",
       "    <tr>\n",
       "      <th>4</th>\n",
       "      <td>2</td>\n",
       "      <td>164</td>\n",
       "      <td>audi</td>\n",
       "      <td>gas</td>\n",
       "      <td>std</td>\n",
       "      <td>four</td>\n",
       "      <td>sedan</td>\n",
       "      <td>4wd</td>\n",
       "      <td>front</td>\n",
       "      <td>99.4</td>\n",
       "      <td>...</td>\n",
       "      <td>136</td>\n",
       "      <td>mpfi</td>\n",
       "      <td>3.19</td>\n",
       "      <td>3.4</td>\n",
       "      <td>8.0</td>\n",
       "      <td>115</td>\n",
       "      <td>5500</td>\n",
       "      <td>18</td>\n",
       "      <td>22</td>\n",
       "      <td>17450</td>\n",
       "    </tr>\n",
       "    <tr>\n",
       "      <th>...</th>\n",
       "      <td>...</td>\n",
       "      <td>...</td>\n",
       "      <td>...</td>\n",
       "      <td>...</td>\n",
       "      <td>...</td>\n",
       "      <td>...</td>\n",
       "      <td>...</td>\n",
       "      <td>...</td>\n",
       "      <td>...</td>\n",
       "      <td>...</td>\n",
       "      <td>...</td>\n",
       "      <td>...</td>\n",
       "      <td>...</td>\n",
       "      <td>...</td>\n",
       "      <td>...</td>\n",
       "      <td>...</td>\n",
       "      <td>...</td>\n",
       "      <td>...</td>\n",
       "      <td>...</td>\n",
       "      <td>...</td>\n",
       "      <td>...</td>\n",
       "    </tr>\n",
       "    <tr>\n",
       "      <th>200</th>\n",
       "      <td>-1</td>\n",
       "      <td>95</td>\n",
       "      <td>volvo</td>\n",
       "      <td>gas</td>\n",
       "      <td>std</td>\n",
       "      <td>four</td>\n",
       "      <td>sedan</td>\n",
       "      <td>rwd</td>\n",
       "      <td>front</td>\n",
       "      <td>109.1</td>\n",
       "      <td>...</td>\n",
       "      <td>141</td>\n",
       "      <td>mpfi</td>\n",
       "      <td>3.78</td>\n",
       "      <td>3.15</td>\n",
       "      <td>9.5</td>\n",
       "      <td>114</td>\n",
       "      <td>5400</td>\n",
       "      <td>23</td>\n",
       "      <td>28</td>\n",
       "      <td>16845</td>\n",
       "    </tr>\n",
       "    <tr>\n",
       "      <th>201</th>\n",
       "      <td>-1</td>\n",
       "      <td>95</td>\n",
       "      <td>volvo</td>\n",
       "      <td>gas</td>\n",
       "      <td>turbo</td>\n",
       "      <td>four</td>\n",
       "      <td>sedan</td>\n",
       "      <td>rwd</td>\n",
       "      <td>front</td>\n",
       "      <td>109.1</td>\n",
       "      <td>...</td>\n",
       "      <td>141</td>\n",
       "      <td>mpfi</td>\n",
       "      <td>3.78</td>\n",
       "      <td>3.15</td>\n",
       "      <td>8.7</td>\n",
       "      <td>160</td>\n",
       "      <td>5300</td>\n",
       "      <td>19</td>\n",
       "      <td>25</td>\n",
       "      <td>19045</td>\n",
       "    </tr>\n",
       "    <tr>\n",
       "      <th>202</th>\n",
       "      <td>-1</td>\n",
       "      <td>95</td>\n",
       "      <td>volvo</td>\n",
       "      <td>gas</td>\n",
       "      <td>std</td>\n",
       "      <td>four</td>\n",
       "      <td>sedan</td>\n",
       "      <td>rwd</td>\n",
       "      <td>front</td>\n",
       "      <td>109.1</td>\n",
       "      <td>...</td>\n",
       "      <td>173</td>\n",
       "      <td>mpfi</td>\n",
       "      <td>3.58</td>\n",
       "      <td>2.87</td>\n",
       "      <td>8.8</td>\n",
       "      <td>134</td>\n",
       "      <td>5500</td>\n",
       "      <td>18</td>\n",
       "      <td>23</td>\n",
       "      <td>21485</td>\n",
       "    </tr>\n",
       "    <tr>\n",
       "      <th>203</th>\n",
       "      <td>-1</td>\n",
       "      <td>95</td>\n",
       "      <td>volvo</td>\n",
       "      <td>diesel</td>\n",
       "      <td>turbo</td>\n",
       "      <td>four</td>\n",
       "      <td>sedan</td>\n",
       "      <td>rwd</td>\n",
       "      <td>front</td>\n",
       "      <td>109.1</td>\n",
       "      <td>...</td>\n",
       "      <td>145</td>\n",
       "      <td>idi</td>\n",
       "      <td>3.01</td>\n",
       "      <td>3.4</td>\n",
       "      <td>23.0</td>\n",
       "      <td>106</td>\n",
       "      <td>4800</td>\n",
       "      <td>26</td>\n",
       "      <td>27</td>\n",
       "      <td>22470</td>\n",
       "    </tr>\n",
       "    <tr>\n",
       "      <th>204</th>\n",
       "      <td>-1</td>\n",
       "      <td>95</td>\n",
       "      <td>volvo</td>\n",
       "      <td>gas</td>\n",
       "      <td>turbo</td>\n",
       "      <td>four</td>\n",
       "      <td>sedan</td>\n",
       "      <td>rwd</td>\n",
       "      <td>front</td>\n",
       "      <td>109.1</td>\n",
       "      <td>...</td>\n",
       "      <td>141</td>\n",
       "      <td>mpfi</td>\n",
       "      <td>3.78</td>\n",
       "      <td>3.15</td>\n",
       "      <td>9.5</td>\n",
       "      <td>114</td>\n",
       "      <td>5400</td>\n",
       "      <td>19</td>\n",
       "      <td>25</td>\n",
       "      <td>22625</td>\n",
       "    </tr>\n",
       "  </tbody>\n",
       "</table>\n",
       "<p>205 rows × 26 columns</p>\n",
       "</div>"
      ],
      "text/plain": [
       "     symboling normalized-losses         make fuel-type aspiration  \\\n",
       "0            3                 ?  alfa-romero       gas        std   \n",
       "1            3                 ?  alfa-romero       gas        std   \n",
       "2            1                 ?  alfa-romero       gas        std   \n",
       "3            2               164         audi       gas        std   \n",
       "4            2               164         audi       gas        std   \n",
       "..         ...               ...          ...       ...        ...   \n",
       "200         -1                95        volvo       gas        std   \n",
       "201         -1                95        volvo       gas      turbo   \n",
       "202         -1                95        volvo       gas        std   \n",
       "203         -1                95        volvo    diesel      turbo   \n",
       "204         -1                95        volvo       gas      turbo   \n",
       "\n",
       "    num-of-doors   body-style drive-wheels engine-location  wheel-base  ...  \\\n",
       "0            two  convertible          rwd           front        88.6  ...   \n",
       "1            two  convertible          rwd           front        88.6  ...   \n",
       "2            two    hatchback          rwd           front        94.5  ...   \n",
       "3           four        sedan          fwd           front        99.8  ...   \n",
       "4           four        sedan          4wd           front        99.4  ...   \n",
       "..           ...          ...          ...             ...         ...  ...   \n",
       "200         four        sedan          rwd           front       109.1  ...   \n",
       "201         four        sedan          rwd           front       109.1  ...   \n",
       "202         four        sedan          rwd           front       109.1  ...   \n",
       "203         four        sedan          rwd           front       109.1  ...   \n",
       "204         four        sedan          rwd           front       109.1  ...   \n",
       "\n",
       "     engine-size  fuel-system  bore  stroke compression-ratio horsepower  \\\n",
       "0            130         mpfi  3.47    2.68               9.0        111   \n",
       "1            130         mpfi  3.47    2.68               9.0        111   \n",
       "2            152         mpfi  2.68    3.47               9.0        154   \n",
       "3            109         mpfi  3.19     3.4              10.0        102   \n",
       "4            136         mpfi  3.19     3.4               8.0        115   \n",
       "..           ...          ...   ...     ...               ...        ...   \n",
       "200          141         mpfi  3.78    3.15               9.5        114   \n",
       "201          141         mpfi  3.78    3.15               8.7        160   \n",
       "202          173         mpfi  3.58    2.87               8.8        134   \n",
       "203          145          idi  3.01     3.4              23.0        106   \n",
       "204          141         mpfi  3.78    3.15               9.5        114   \n",
       "\n",
       "     peak-rpm city-mpg highway-mpg  price  \n",
       "0        5000       21          27  13495  \n",
       "1        5000       21          27  16500  \n",
       "2        5000       19          26  16500  \n",
       "3        5500       24          30  13950  \n",
       "4        5500       18          22  17450  \n",
       "..        ...      ...         ...    ...  \n",
       "200      5400       23          28  16845  \n",
       "201      5300       19          25  19045  \n",
       "202      5500       18          23  21485  \n",
       "203      4800       26          27  22470  \n",
       "204      5400       19          25  22625  \n",
       "\n",
       "[205 rows x 26 columns]"
      ]
     },
     "execution_count": 2,
     "metadata": {},
     "output_type": "execute_result"
    }
   ],
   "source": [
    "df = pd.read_csv(r\"D:\\Python practice\\Datasets\\linear regression Datasets\\autos_dataset.csv\")\n",
    "df"
   ]
  },
  {
   "cell_type": "markdown",
   "id": "9fb0d87a",
   "metadata": {},
   "source": [
    "# Exploratory Data Analyisis"
   ]
  },
  {
   "cell_type": "code",
   "execution_count": 3,
   "id": "4b876491",
   "metadata": {},
   "outputs": [
    {
     "data": {
      "text/plain": [
       "(205, 26)"
      ]
     },
     "execution_count": 3,
     "metadata": {},
     "output_type": "execute_result"
    }
   ],
   "source": [
    "df.shape"
   ]
  },
  {
   "cell_type": "code",
   "execution_count": 4,
   "id": "7e41addc",
   "metadata": {},
   "outputs": [
    {
     "data": {
      "text/plain": [
       "Index(['symboling', 'normalized-losses', 'make', 'fuel-type', 'aspiration',\n",
       "       'num-of-doors', 'body-style', 'drive-wheels', 'engine-location',\n",
       "       'wheel-base', 'length', 'width', 'height', 'curb-weight', 'engine-type',\n",
       "       'num-of-cylinders', 'engine-size', 'fuel-system', 'bore', 'stroke',\n",
       "       'compression-ratio', 'horsepower', 'peak-rpm', 'city-mpg',\n",
       "       'highway-mpg', 'price'],\n",
       "      dtype='object')"
      ]
     },
     "execution_count": 4,
     "metadata": {},
     "output_type": "execute_result"
    }
   ],
   "source": [
    "df.columns"
   ]
  },
  {
   "cell_type": "code",
   "execution_count": 5,
   "id": "b07f600f",
   "metadata": {},
   "outputs": [
    {
     "name": "stdout",
     "output_type": "stream",
     "text": [
      "<class 'pandas.core.frame.DataFrame'>\n",
      "RangeIndex: 205 entries, 0 to 204\n",
      "Data columns (total 26 columns):\n",
      " #   Column             Non-Null Count  Dtype  \n",
      "---  ------             --------------  -----  \n",
      " 0   symboling          205 non-null    int64  \n",
      " 1   normalized-losses  205 non-null    object \n",
      " 2   make               205 non-null    object \n",
      " 3   fuel-type          205 non-null    object \n",
      " 4   aspiration         205 non-null    object \n",
      " 5   num-of-doors       205 non-null    object \n",
      " 6   body-style         205 non-null    object \n",
      " 7   drive-wheels       205 non-null    object \n",
      " 8   engine-location    205 non-null    object \n",
      " 9   wheel-base         205 non-null    float64\n",
      " 10  length             205 non-null    float64\n",
      " 11  width              205 non-null    float64\n",
      " 12  height             205 non-null    float64\n",
      " 13  curb-weight        205 non-null    int64  \n",
      " 14  engine-type        205 non-null    object \n",
      " 15  num-of-cylinders   205 non-null    object \n",
      " 16  engine-size        205 non-null    int64  \n",
      " 17  fuel-system        205 non-null    object \n",
      " 18  bore               205 non-null    object \n",
      " 19  stroke             205 non-null    object \n",
      " 20  compression-ratio  205 non-null    float64\n",
      " 21  horsepower         205 non-null    object \n",
      " 22  peak-rpm           205 non-null    object \n",
      " 23  city-mpg           205 non-null    int64  \n",
      " 24  highway-mpg        205 non-null    int64  \n",
      " 25  price              205 non-null    object \n",
      "dtypes: float64(5), int64(5), object(16)\n",
      "memory usage: 41.8+ KB\n"
     ]
    }
   ],
   "source": [
    "df.info()"
   ]
  },
  {
   "cell_type": "code",
   "execution_count": 6,
   "id": "bbe30476",
   "metadata": {},
   "outputs": [
    {
     "data": {
      "text/plain": [
       "symboling            0\n",
       "normalized-losses    0\n",
       "make                 0\n",
       "fuel-type            0\n",
       "aspiration           0\n",
       "num-of-doors         0\n",
       "body-style           0\n",
       "drive-wheels         0\n",
       "engine-location      0\n",
       "wheel-base           0\n",
       "length               0\n",
       "width                0\n",
       "height               0\n",
       "curb-weight          0\n",
       "engine-type          0\n",
       "num-of-cylinders     0\n",
       "engine-size          0\n",
       "fuel-system          0\n",
       "bore                 0\n",
       "stroke               0\n",
       "compression-ratio    0\n",
       "horsepower           0\n",
       "peak-rpm             0\n",
       "city-mpg             0\n",
       "highway-mpg          0\n",
       "price                0\n",
       "dtype: int64"
      ]
     },
     "execution_count": 6,
     "metadata": {},
     "output_type": "execute_result"
    }
   ],
   "source": [
    "df.isna().sum()"
   ]
  },
  {
   "cell_type": "code",
   "execution_count": 7,
   "id": "8949d109",
   "metadata": {},
   "outputs": [
    {
     "data": {
      "text/plain": [
       "symboling              6\n",
       "normalized-losses     52\n",
       "make                  22\n",
       "fuel-type              2\n",
       "aspiration             2\n",
       "num-of-doors           3\n",
       "body-style             5\n",
       "drive-wheels           3\n",
       "engine-location        2\n",
       "wheel-base            53\n",
       "length                75\n",
       "width                 44\n",
       "height                49\n",
       "curb-weight          171\n",
       "engine-type            7\n",
       "num-of-cylinders       7\n",
       "engine-size           44\n",
       "fuel-system            8\n",
       "bore                  39\n",
       "stroke                37\n",
       "compression-ratio     32\n",
       "horsepower            60\n",
       "peak-rpm              24\n",
       "city-mpg              29\n",
       "highway-mpg           30\n",
       "price                187\n",
       "dtype: int64"
      ]
     },
     "execution_count": 7,
     "metadata": {},
     "output_type": "execute_result"
    }
   ],
   "source": [
    "df.nunique()"
   ]
  },
  {
   "cell_type": "code",
   "execution_count": 8,
   "id": "28f6cbad",
   "metadata": {},
   "outputs": [
    {
     "data": {
      "text/html": [
       "<div>\n",
       "<style scoped>\n",
       "    .dataframe tbody tr th:only-of-type {\n",
       "        vertical-align: middle;\n",
       "    }\n",
       "\n",
       "    .dataframe tbody tr th {\n",
       "        vertical-align: top;\n",
       "    }\n",
       "\n",
       "    .dataframe thead th {\n",
       "        text-align: right;\n",
       "    }\n",
       "</style>\n",
       "<table border=\"1\" class=\"dataframe\">\n",
       "  <thead>\n",
       "    <tr style=\"text-align: right;\">\n",
       "      <th></th>\n",
       "      <th>count</th>\n",
       "      <th>mean</th>\n",
       "      <th>std</th>\n",
       "      <th>min</th>\n",
       "      <th>25%</th>\n",
       "      <th>50%</th>\n",
       "      <th>75%</th>\n",
       "      <th>max</th>\n",
       "    </tr>\n",
       "  </thead>\n",
       "  <tbody>\n",
       "    <tr>\n",
       "      <th>symboling</th>\n",
       "      <td>205.0</td>\n",
       "      <td>0.834146</td>\n",
       "      <td>1.245307</td>\n",
       "      <td>-2.0</td>\n",
       "      <td>0.0</td>\n",
       "      <td>1.0</td>\n",
       "      <td>2.0</td>\n",
       "      <td>3.0</td>\n",
       "    </tr>\n",
       "    <tr>\n",
       "      <th>wheel-base</th>\n",
       "      <td>205.0</td>\n",
       "      <td>98.756585</td>\n",
       "      <td>6.021776</td>\n",
       "      <td>86.6</td>\n",
       "      <td>94.5</td>\n",
       "      <td>97.0</td>\n",
       "      <td>102.4</td>\n",
       "      <td>120.9</td>\n",
       "    </tr>\n",
       "    <tr>\n",
       "      <th>length</th>\n",
       "      <td>205.0</td>\n",
       "      <td>174.049268</td>\n",
       "      <td>12.337289</td>\n",
       "      <td>141.1</td>\n",
       "      <td>166.3</td>\n",
       "      <td>173.2</td>\n",
       "      <td>183.1</td>\n",
       "      <td>208.1</td>\n",
       "    </tr>\n",
       "    <tr>\n",
       "      <th>width</th>\n",
       "      <td>205.0</td>\n",
       "      <td>65.907805</td>\n",
       "      <td>2.145204</td>\n",
       "      <td>60.3</td>\n",
       "      <td>64.1</td>\n",
       "      <td>65.5</td>\n",
       "      <td>66.9</td>\n",
       "      <td>72.3</td>\n",
       "    </tr>\n",
       "    <tr>\n",
       "      <th>height</th>\n",
       "      <td>205.0</td>\n",
       "      <td>53.724878</td>\n",
       "      <td>2.443522</td>\n",
       "      <td>47.8</td>\n",
       "      <td>52.0</td>\n",
       "      <td>54.1</td>\n",
       "      <td>55.5</td>\n",
       "      <td>59.8</td>\n",
       "    </tr>\n",
       "    <tr>\n",
       "      <th>curb-weight</th>\n",
       "      <td>205.0</td>\n",
       "      <td>2555.565854</td>\n",
       "      <td>520.680204</td>\n",
       "      <td>1488.0</td>\n",
       "      <td>2145.0</td>\n",
       "      <td>2414.0</td>\n",
       "      <td>2935.0</td>\n",
       "      <td>4066.0</td>\n",
       "    </tr>\n",
       "    <tr>\n",
       "      <th>engine-size</th>\n",
       "      <td>205.0</td>\n",
       "      <td>126.907317</td>\n",
       "      <td>41.642693</td>\n",
       "      <td>61.0</td>\n",
       "      <td>97.0</td>\n",
       "      <td>120.0</td>\n",
       "      <td>141.0</td>\n",
       "      <td>326.0</td>\n",
       "    </tr>\n",
       "    <tr>\n",
       "      <th>compression-ratio</th>\n",
       "      <td>205.0</td>\n",
       "      <td>10.142537</td>\n",
       "      <td>3.972040</td>\n",
       "      <td>7.0</td>\n",
       "      <td>8.6</td>\n",
       "      <td>9.0</td>\n",
       "      <td>9.4</td>\n",
       "      <td>23.0</td>\n",
       "    </tr>\n",
       "    <tr>\n",
       "      <th>city-mpg</th>\n",
       "      <td>205.0</td>\n",
       "      <td>25.219512</td>\n",
       "      <td>6.542142</td>\n",
       "      <td>13.0</td>\n",
       "      <td>19.0</td>\n",
       "      <td>24.0</td>\n",
       "      <td>30.0</td>\n",
       "      <td>49.0</td>\n",
       "    </tr>\n",
       "    <tr>\n",
       "      <th>highway-mpg</th>\n",
       "      <td>205.0</td>\n",
       "      <td>30.751220</td>\n",
       "      <td>6.886443</td>\n",
       "      <td>16.0</td>\n",
       "      <td>25.0</td>\n",
       "      <td>30.0</td>\n",
       "      <td>34.0</td>\n",
       "      <td>54.0</td>\n",
       "    </tr>\n",
       "  </tbody>\n",
       "</table>\n",
       "</div>"
      ],
      "text/plain": [
       "                   count         mean         std     min     25%     50%  \\\n",
       "symboling          205.0     0.834146    1.245307    -2.0     0.0     1.0   \n",
       "wheel-base         205.0    98.756585    6.021776    86.6    94.5    97.0   \n",
       "length             205.0   174.049268   12.337289   141.1   166.3   173.2   \n",
       "width              205.0    65.907805    2.145204    60.3    64.1    65.5   \n",
       "height             205.0    53.724878    2.443522    47.8    52.0    54.1   \n",
       "curb-weight        205.0  2555.565854  520.680204  1488.0  2145.0  2414.0   \n",
       "engine-size        205.0   126.907317   41.642693    61.0    97.0   120.0   \n",
       "compression-ratio  205.0    10.142537    3.972040     7.0     8.6     9.0   \n",
       "city-mpg           205.0    25.219512    6.542142    13.0    19.0    24.0   \n",
       "highway-mpg        205.0    30.751220    6.886443    16.0    25.0    30.0   \n",
       "\n",
       "                      75%     max  \n",
       "symboling             2.0     3.0  \n",
       "wheel-base          102.4   120.9  \n",
       "length              183.1   208.1  \n",
       "width                66.9    72.3  \n",
       "height               55.5    59.8  \n",
       "curb-weight        2935.0  4066.0  \n",
       "engine-size         141.0   326.0  \n",
       "compression-ratio     9.4    23.0  \n",
       "city-mpg             30.0    49.0  \n",
       "highway-mpg          34.0    54.0  "
      ]
     },
     "execution_count": 8,
     "metadata": {},
     "output_type": "execute_result"
    }
   ],
   "source": [
    "df.describe().T"
   ]
  },
  {
   "cell_type": "code",
   "execution_count": 9,
   "id": "586fbf1d",
   "metadata": {},
   "outputs": [
    {
     "data": {
      "text/html": [
       "<div>\n",
       "<style scoped>\n",
       "    .dataframe tbody tr th:only-of-type {\n",
       "        vertical-align: middle;\n",
       "    }\n",
       "\n",
       "    .dataframe tbody tr th {\n",
       "        vertical-align: top;\n",
       "    }\n",
       "\n",
       "    .dataframe thead th {\n",
       "        text-align: right;\n",
       "    }\n",
       "</style>\n",
       "<table border=\"1\" class=\"dataframe\">\n",
       "  <thead>\n",
       "    <tr style=\"text-align: right;\">\n",
       "      <th></th>\n",
       "      <th>symboling</th>\n",
       "      <th>normalized-losses</th>\n",
       "      <th>make</th>\n",
       "      <th>fuel-type</th>\n",
       "      <th>aspiration</th>\n",
       "      <th>num-of-doors</th>\n",
       "      <th>body-style</th>\n",
       "      <th>drive-wheels</th>\n",
       "      <th>engine-location</th>\n",
       "      <th>wheel-base</th>\n",
       "      <th>...</th>\n",
       "      <th>engine-size</th>\n",
       "      <th>fuel-system</th>\n",
       "      <th>bore</th>\n",
       "      <th>stroke</th>\n",
       "      <th>compression-ratio</th>\n",
       "      <th>horsepower</th>\n",
       "      <th>peak-rpm</th>\n",
       "      <th>city-mpg</th>\n",
       "      <th>highway-mpg</th>\n",
       "      <th>price</th>\n",
       "    </tr>\n",
       "  </thead>\n",
       "  <tbody>\n",
       "    <tr>\n",
       "      <th>0</th>\n",
       "      <td>3</td>\n",
       "      <td>?</td>\n",
       "      <td>alfa-romero</td>\n",
       "      <td>gas</td>\n",
       "      <td>std</td>\n",
       "      <td>two</td>\n",
       "      <td>convertible</td>\n",
       "      <td>rwd</td>\n",
       "      <td>front</td>\n",
       "      <td>88.6</td>\n",
       "      <td>...</td>\n",
       "      <td>130</td>\n",
       "      <td>mpfi</td>\n",
       "      <td>3.47</td>\n",
       "      <td>2.68</td>\n",
       "      <td>9.0</td>\n",
       "      <td>111</td>\n",
       "      <td>5000</td>\n",
       "      <td>21</td>\n",
       "      <td>27</td>\n",
       "      <td>13495</td>\n",
       "    </tr>\n",
       "    <tr>\n",
       "      <th>1</th>\n",
       "      <td>3</td>\n",
       "      <td>?</td>\n",
       "      <td>alfa-romero</td>\n",
       "      <td>gas</td>\n",
       "      <td>std</td>\n",
       "      <td>two</td>\n",
       "      <td>convertible</td>\n",
       "      <td>rwd</td>\n",
       "      <td>front</td>\n",
       "      <td>88.6</td>\n",
       "      <td>...</td>\n",
       "      <td>130</td>\n",
       "      <td>mpfi</td>\n",
       "      <td>3.47</td>\n",
       "      <td>2.68</td>\n",
       "      <td>9.0</td>\n",
       "      <td>111</td>\n",
       "      <td>5000</td>\n",
       "      <td>21</td>\n",
       "      <td>27</td>\n",
       "      <td>16500</td>\n",
       "    </tr>\n",
       "  </tbody>\n",
       "</table>\n",
       "<p>2 rows × 26 columns</p>\n",
       "</div>"
      ],
      "text/plain": [
       "   symboling normalized-losses         make fuel-type aspiration num-of-doors  \\\n",
       "0          3                 ?  alfa-romero       gas        std          two   \n",
       "1          3                 ?  alfa-romero       gas        std          two   \n",
       "\n",
       "    body-style drive-wheels engine-location  wheel-base  ...  engine-size  \\\n",
       "0  convertible          rwd           front        88.6  ...          130   \n",
       "1  convertible          rwd           front        88.6  ...          130   \n",
       "\n",
       "   fuel-system  bore  stroke compression-ratio horsepower  peak-rpm city-mpg  \\\n",
       "0         mpfi  3.47    2.68               9.0        111      5000       21   \n",
       "1         mpfi  3.47    2.68               9.0        111      5000       21   \n",
       "\n",
       "  highway-mpg  price  \n",
       "0          27  13495  \n",
       "1          27  16500  \n",
       "\n",
       "[2 rows x 26 columns]"
      ]
     },
     "execution_count": 9,
     "metadata": {},
     "output_type": "execute_result"
    }
   ],
   "source": [
    "df.head(2)"
   ]
  },
  {
   "cell_type": "markdown",
   "id": "ebb43e83",
   "metadata": {},
   "source": [
    "# Feature Engineering"
   ]
  },
  {
   "cell_type": "markdown",
   "id": "2873c505",
   "metadata": {},
   "source": [
    "### 1. Symboling"
   ]
  },
  {
   "cell_type": "code",
   "execution_count": 10,
   "id": "2a94eaa4",
   "metadata": {},
   "outputs": [
    {
     "data": {
      "text/plain": [
       "array([ 3,  1,  2,  0, -1, -2], dtype=int64)"
      ]
     },
     "execution_count": 10,
     "metadata": {},
     "output_type": "execute_result"
    }
   ],
   "source": [
    "df[\"symboling\"].unique()"
   ]
  },
  {
   "cell_type": "code",
   "execution_count": 11,
   "id": "738ad253",
   "metadata": {},
   "outputs": [
    {
     "data": {
      "text/plain": [
       " 0    67\n",
       " 1    54\n",
       " 2    32\n",
       " 3    27\n",
       "-1    22\n",
       "-2     3\n",
       "Name: symboling, dtype: int64"
      ]
     },
     "execution_count": 11,
     "metadata": {},
     "output_type": "execute_result"
    }
   ],
   "source": [
    "df[\"symboling\"].value_counts()"
   ]
  },
  {
   "cell_type": "markdown",
   "id": "4291d3d2",
   "metadata": {},
   "source": [
    "### 2. Normalized-losses"
   ]
  },
  {
   "cell_type": "code",
   "execution_count": 12,
   "id": "c1144367",
   "metadata": {},
   "outputs": [
    {
     "data": {
      "text/plain": [
       "array(['?', '164', '158', '192', '188', '121', '98', '81', '118', '148',\n",
       "       '110', '145', '137', '101', '78', '106', '85', '107', '104', '113',\n",
       "       '150', '129', '115', '93', '142', '161', '153', '125', '128',\n",
       "       '122', '103', '168', '108', '194', '231', '119', '154', '74',\n",
       "       '186', '83', '102', '89', '87', '77', '91', '134', '65', '197',\n",
       "       '90', '94', '256', '95'], dtype=object)"
      ]
     },
     "execution_count": 12,
     "metadata": {},
     "output_type": "execute_result"
    }
   ],
   "source": [
    "df[\"normalized-losses\"].unique()"
   ]
  },
  {
   "cell_type": "code",
   "execution_count": 13,
   "id": "08ff0db1",
   "metadata": {},
   "outputs": [
    {
     "data": {
      "text/plain": [
       "?      41\n",
       "161    11\n",
       "91      8\n",
       "150     7\n",
       "134     6\n",
       "128     6\n",
       "104     6\n",
       "85      5\n",
       "94      5\n",
       "65      5\n",
       "102     5\n",
       "74      5\n",
       "168     5\n",
       "103     5\n",
       "95      5\n",
       "106     4\n",
       "93      4\n",
       "118     4\n",
       "148     4\n",
       "122     4\n",
       "83      3\n",
       "125     3\n",
       "154     3\n",
       "115     3\n",
       "137     3\n",
       "101     3\n",
       "119     2\n",
       "87      2\n",
       "89      2\n",
       "192     2\n",
       "197     2\n",
       "158     2\n",
       "81      2\n",
       "188     2\n",
       "194     2\n",
       "153     2\n",
       "129     2\n",
       "108     2\n",
       "110     2\n",
       "164     2\n",
       "145     2\n",
       "113     2\n",
       "256     1\n",
       "107     1\n",
       "90      1\n",
       "231     1\n",
       "142     1\n",
       "121     1\n",
       "78      1\n",
       "98      1\n",
       "186     1\n",
       "77      1\n",
       "Name: normalized-losses, dtype: int64"
      ]
     },
     "execution_count": 13,
     "metadata": {},
     "output_type": "execute_result"
    }
   ],
   "source": [
    "df[\"normalized-losses\"].value_counts()"
   ]
  },
  {
   "cell_type": "code",
   "execution_count": 14,
   "id": "70bdc658",
   "metadata": {},
   "outputs": [],
   "source": [
    "norm_mean = df.loc[~(df[\"normalized-losses\"] == \"?\"),\"normalized-losses\"].astype(int).mean()"
   ]
  },
  {
   "cell_type": "code",
   "execution_count": 15,
   "id": "755137f1",
   "metadata": {},
   "outputs": [],
   "source": [
    "df[\"normalized-losses\"] = df[\"normalized-losses\"].replace(\"?\",norm_mean).astype(int)"
   ]
  },
  {
   "cell_type": "code",
   "execution_count": 16,
   "id": "e232644e",
   "metadata": {},
   "outputs": [
    {
     "data": {
      "text/plain": [
       "122    45\n",
       "161    11\n",
       "91      8\n",
       "150     7\n",
       "128     6\n",
       "134     6\n",
       "104     6\n",
       "95      5\n",
       "102     5\n",
       "103     5\n",
       "74      5\n",
       "85      5\n",
       "65      5\n",
       "94      5\n",
       "168     5\n",
       "106     4\n",
       "148     4\n",
       "118     4\n",
       "93      4\n",
       "83      3\n",
       "101     3\n",
       "115     3\n",
       "154     3\n",
       "125     3\n",
       "137     3\n",
       "108     2\n",
       "87      2\n",
       "119     2\n",
       "194     2\n",
       "197     2\n",
       "89      2\n",
       "158     2\n",
       "192     2\n",
       "113     2\n",
       "188     2\n",
       "81      2\n",
       "110     2\n",
       "145     2\n",
       "129     2\n",
       "164     2\n",
       "153     2\n",
       "186     1\n",
       "107     1\n",
       "78      1\n",
       "231     1\n",
       "77      1\n",
       "142     1\n",
       "98      1\n",
       "121     1\n",
       "90      1\n",
       "256     1\n",
       "Name: normalized-losses, dtype: int64"
      ]
     },
     "execution_count": 16,
     "metadata": {},
     "output_type": "execute_result"
    }
   ],
   "source": [
    "df[\"normalized-losses\"].value_counts()"
   ]
  },
  {
   "cell_type": "code",
   "execution_count": 17,
   "id": "9db88948",
   "metadata": {},
   "outputs": [
    {
     "data": {
      "text/html": [
       "<div>\n",
       "<style scoped>\n",
       "    .dataframe tbody tr th:only-of-type {\n",
       "        vertical-align: middle;\n",
       "    }\n",
       "\n",
       "    .dataframe tbody tr th {\n",
       "        vertical-align: top;\n",
       "    }\n",
       "\n",
       "    .dataframe thead th {\n",
       "        text-align: right;\n",
       "    }\n",
       "</style>\n",
       "<table border=\"1\" class=\"dataframe\">\n",
       "  <thead>\n",
       "    <tr style=\"text-align: right;\">\n",
       "      <th></th>\n",
       "      <th>symboling</th>\n",
       "      <th>normalized-losses</th>\n",
       "      <th>make</th>\n",
       "      <th>fuel-type</th>\n",
       "      <th>aspiration</th>\n",
       "      <th>num-of-doors</th>\n",
       "      <th>body-style</th>\n",
       "      <th>drive-wheels</th>\n",
       "      <th>engine-location</th>\n",
       "      <th>wheel-base</th>\n",
       "      <th>...</th>\n",
       "      <th>engine-size</th>\n",
       "      <th>fuel-system</th>\n",
       "      <th>bore</th>\n",
       "      <th>stroke</th>\n",
       "      <th>compression-ratio</th>\n",
       "      <th>horsepower</th>\n",
       "      <th>peak-rpm</th>\n",
       "      <th>city-mpg</th>\n",
       "      <th>highway-mpg</th>\n",
       "      <th>price</th>\n",
       "    </tr>\n",
       "  </thead>\n",
       "  <tbody>\n",
       "    <tr>\n",
       "      <th>0</th>\n",
       "      <td>3</td>\n",
       "      <td>122</td>\n",
       "      <td>alfa-romero</td>\n",
       "      <td>gas</td>\n",
       "      <td>std</td>\n",
       "      <td>two</td>\n",
       "      <td>convertible</td>\n",
       "      <td>rwd</td>\n",
       "      <td>front</td>\n",
       "      <td>88.6</td>\n",
       "      <td>...</td>\n",
       "      <td>130</td>\n",
       "      <td>mpfi</td>\n",
       "      <td>3.47</td>\n",
       "      <td>2.68</td>\n",
       "      <td>9.0</td>\n",
       "      <td>111</td>\n",
       "      <td>5000</td>\n",
       "      <td>21</td>\n",
       "      <td>27</td>\n",
       "      <td>13495</td>\n",
       "    </tr>\n",
       "    <tr>\n",
       "      <th>1</th>\n",
       "      <td>3</td>\n",
       "      <td>122</td>\n",
       "      <td>alfa-romero</td>\n",
       "      <td>gas</td>\n",
       "      <td>std</td>\n",
       "      <td>two</td>\n",
       "      <td>convertible</td>\n",
       "      <td>rwd</td>\n",
       "      <td>front</td>\n",
       "      <td>88.6</td>\n",
       "      <td>...</td>\n",
       "      <td>130</td>\n",
       "      <td>mpfi</td>\n",
       "      <td>3.47</td>\n",
       "      <td>2.68</td>\n",
       "      <td>9.0</td>\n",
       "      <td>111</td>\n",
       "      <td>5000</td>\n",
       "      <td>21</td>\n",
       "      <td>27</td>\n",
       "      <td>16500</td>\n",
       "    </tr>\n",
       "  </tbody>\n",
       "</table>\n",
       "<p>2 rows × 26 columns</p>\n",
       "</div>"
      ],
      "text/plain": [
       "   symboling  normalized-losses         make fuel-type aspiration  \\\n",
       "0          3                122  alfa-romero       gas        std   \n",
       "1          3                122  alfa-romero       gas        std   \n",
       "\n",
       "  num-of-doors   body-style drive-wheels engine-location  wheel-base  ...  \\\n",
       "0          two  convertible          rwd           front        88.6  ...   \n",
       "1          two  convertible          rwd           front        88.6  ...   \n",
       "\n",
       "   engine-size  fuel-system  bore  stroke compression-ratio horsepower  \\\n",
       "0          130         mpfi  3.47    2.68               9.0        111   \n",
       "1          130         mpfi  3.47    2.68               9.0        111   \n",
       "\n",
       "   peak-rpm city-mpg highway-mpg  price  \n",
       "0      5000       21          27  13495  \n",
       "1      5000       21          27  16500  \n",
       "\n",
       "[2 rows x 26 columns]"
      ]
     },
     "execution_count": 17,
     "metadata": {},
     "output_type": "execute_result"
    }
   ],
   "source": [
    "df.head(2)"
   ]
  },
  {
   "cell_type": "markdown",
   "id": "a9956172",
   "metadata": {},
   "source": [
    "### 3. Make"
   ]
  },
  {
   "cell_type": "code",
   "execution_count": 18,
   "id": "10f2d6f8",
   "metadata": {},
   "outputs": [
    {
     "data": {
      "text/plain": [
       "array(['alfa-romero', 'audi', 'bmw', 'chevrolet', 'dodge', 'honda',\n",
       "       'isuzu', 'jaguar', 'mazda', 'mercedes-benz', 'mercury',\n",
       "       'mitsubishi', 'nissan', 'peugot', 'plymouth', 'porsche', 'renault',\n",
       "       'saab', 'subaru', 'toyota', 'volkswagen', 'volvo'], dtype=object)"
      ]
     },
     "execution_count": 18,
     "metadata": {},
     "output_type": "execute_result"
    }
   ],
   "source": [
    "df[\"make\"].unique()"
   ]
  },
  {
   "cell_type": "code",
   "execution_count": 19,
   "id": "bc5bfdf9",
   "metadata": {},
   "outputs": [
    {
     "data": {
      "text/plain": [
       "toyota           32\n",
       "nissan           18\n",
       "mazda            17\n",
       "mitsubishi       13\n",
       "honda            13\n",
       "volkswagen       12\n",
       "subaru           12\n",
       "peugot           11\n",
       "volvo            11\n",
       "dodge             9\n",
       "mercedes-benz     8\n",
       "bmw               8\n",
       "audi              7\n",
       "plymouth          7\n",
       "saab              6\n",
       "porsche           5\n",
       "isuzu             4\n",
       "jaguar            3\n",
       "chevrolet         3\n",
       "alfa-romero       3\n",
       "renault           2\n",
       "mercury           1\n",
       "Name: make, dtype: int64"
      ]
     },
     "execution_count": 19,
     "metadata": {},
     "output_type": "execute_result"
    }
   ],
   "source": [
    "df[\"make\"].value_counts()"
   ]
  },
  {
   "cell_type": "code",
   "execution_count": 20,
   "id": "aa8a42a3",
   "metadata": {},
   "outputs": [],
   "source": [
    "def make_othrs(value):\n",
    "\n",
    "    return 1 if value in [\"dodge\", \"mercedes-benz\",\"bmw\",\"audi\",\"plymouth\",\"saab\",\"porsche\",\n",
    "                          \"isuzu\",\"jaguar\",\"chevrolet\",\"alfa_romeo\",\"renault\",\"mercury\"] else 0\n"
   ]
  },
  {
   "cell_type": "code",
   "execution_count": 21,
   "id": "f3c6189e",
   "metadata": {},
   "outputs": [
    {
     "data": {
      "text/plain": [
       "0      0\n",
       "1      0\n",
       "2      0\n",
       "3      1\n",
       "4      1\n",
       "      ..\n",
       "200    0\n",
       "201    0\n",
       "202    0\n",
       "203    0\n",
       "204    0\n",
       "Name: make_others, Length: 205, dtype: int64"
      ]
     },
     "execution_count": 21,
     "metadata": {},
     "output_type": "execute_result"
    }
   ],
   "source": [
    "df[\"make_others\"] = df[\"make\"].apply(make_othrs)\n",
    "df[\"make_others\"]"
   ]
  },
  {
   "cell_type": "code",
   "execution_count": 22,
   "id": "ee94effe",
   "metadata": {},
   "outputs": [
    {
     "data": {
      "text/html": [
       "<div>\n",
       "<style scoped>\n",
       "    .dataframe tbody tr th:only-of-type {\n",
       "        vertical-align: middle;\n",
       "    }\n",
       "\n",
       "    .dataframe tbody tr th {\n",
       "        vertical-align: top;\n",
       "    }\n",
       "\n",
       "    .dataframe thead th {\n",
       "        text-align: right;\n",
       "    }\n",
       "</style>\n",
       "<table border=\"1\" class=\"dataframe\">\n",
       "  <thead>\n",
       "    <tr style=\"text-align: right;\">\n",
       "      <th></th>\n",
       "      <th>symboling</th>\n",
       "      <th>normalized-losses</th>\n",
       "      <th>make</th>\n",
       "      <th>fuel-type</th>\n",
       "      <th>aspiration</th>\n",
       "      <th>num-of-doors</th>\n",
       "      <th>body-style</th>\n",
       "      <th>drive-wheels</th>\n",
       "      <th>engine-location</th>\n",
       "      <th>wheel-base</th>\n",
       "      <th>...</th>\n",
       "      <th>make_nissan</th>\n",
       "      <th>make_peugot</th>\n",
       "      <th>make_plymouth</th>\n",
       "      <th>make_porsche</th>\n",
       "      <th>make_renault</th>\n",
       "      <th>make_saab</th>\n",
       "      <th>make_subaru</th>\n",
       "      <th>make_toyota</th>\n",
       "      <th>make_volkswagen</th>\n",
       "      <th>make_volvo</th>\n",
       "    </tr>\n",
       "  </thead>\n",
       "  <tbody>\n",
       "    <tr>\n",
       "      <th>0</th>\n",
       "      <td>3</td>\n",
       "      <td>122</td>\n",
       "      <td>alfa-romero</td>\n",
       "      <td>gas</td>\n",
       "      <td>std</td>\n",
       "      <td>two</td>\n",
       "      <td>convertible</td>\n",
       "      <td>rwd</td>\n",
       "      <td>front</td>\n",
       "      <td>88.6</td>\n",
       "      <td>...</td>\n",
       "      <td>0.0</td>\n",
       "      <td>0.0</td>\n",
       "      <td>0.0</td>\n",
       "      <td>0.0</td>\n",
       "      <td>0.0</td>\n",
       "      <td>0.0</td>\n",
       "      <td>0.0</td>\n",
       "      <td>0.0</td>\n",
       "      <td>0.0</td>\n",
       "      <td>0.0</td>\n",
       "    </tr>\n",
       "    <tr>\n",
       "      <th>1</th>\n",
       "      <td>3</td>\n",
       "      <td>122</td>\n",
       "      <td>alfa-romero</td>\n",
       "      <td>gas</td>\n",
       "      <td>std</td>\n",
       "      <td>two</td>\n",
       "      <td>convertible</td>\n",
       "      <td>rwd</td>\n",
       "      <td>front</td>\n",
       "      <td>88.6</td>\n",
       "      <td>...</td>\n",
       "      <td>0.0</td>\n",
       "      <td>0.0</td>\n",
       "      <td>0.0</td>\n",
       "      <td>0.0</td>\n",
       "      <td>0.0</td>\n",
       "      <td>0.0</td>\n",
       "      <td>0.0</td>\n",
       "      <td>0.0</td>\n",
       "      <td>0.0</td>\n",
       "      <td>0.0</td>\n",
       "    </tr>\n",
       "    <tr>\n",
       "      <th>2</th>\n",
       "      <td>1</td>\n",
       "      <td>122</td>\n",
       "      <td>alfa-romero</td>\n",
       "      <td>gas</td>\n",
       "      <td>std</td>\n",
       "      <td>two</td>\n",
       "      <td>hatchback</td>\n",
       "      <td>rwd</td>\n",
       "      <td>front</td>\n",
       "      <td>94.5</td>\n",
       "      <td>...</td>\n",
       "      <td>0.0</td>\n",
       "      <td>0.0</td>\n",
       "      <td>0.0</td>\n",
       "      <td>0.0</td>\n",
       "      <td>0.0</td>\n",
       "      <td>0.0</td>\n",
       "      <td>0.0</td>\n",
       "      <td>0.0</td>\n",
       "      <td>0.0</td>\n",
       "      <td>0.0</td>\n",
       "    </tr>\n",
       "    <tr>\n",
       "      <th>3</th>\n",
       "      <td>2</td>\n",
       "      <td>164</td>\n",
       "      <td>audi</td>\n",
       "      <td>gas</td>\n",
       "      <td>std</td>\n",
       "      <td>four</td>\n",
       "      <td>sedan</td>\n",
       "      <td>fwd</td>\n",
       "      <td>front</td>\n",
       "      <td>99.8</td>\n",
       "      <td>...</td>\n",
       "      <td>0.0</td>\n",
       "      <td>0.0</td>\n",
       "      <td>0.0</td>\n",
       "      <td>0.0</td>\n",
       "      <td>0.0</td>\n",
       "      <td>0.0</td>\n",
       "      <td>0.0</td>\n",
       "      <td>0.0</td>\n",
       "      <td>0.0</td>\n",
       "      <td>0.0</td>\n",
       "    </tr>\n",
       "    <tr>\n",
       "      <th>4</th>\n",
       "      <td>2</td>\n",
       "      <td>164</td>\n",
       "      <td>audi</td>\n",
       "      <td>gas</td>\n",
       "      <td>std</td>\n",
       "      <td>four</td>\n",
       "      <td>sedan</td>\n",
       "      <td>4wd</td>\n",
       "      <td>front</td>\n",
       "      <td>99.4</td>\n",
       "      <td>...</td>\n",
       "      <td>0.0</td>\n",
       "      <td>0.0</td>\n",
       "      <td>0.0</td>\n",
       "      <td>0.0</td>\n",
       "      <td>0.0</td>\n",
       "      <td>0.0</td>\n",
       "      <td>0.0</td>\n",
       "      <td>0.0</td>\n",
       "      <td>0.0</td>\n",
       "      <td>0.0</td>\n",
       "    </tr>\n",
       "  </tbody>\n",
       "</table>\n",
       "<p>5 rows × 49 columns</p>\n",
       "</div>"
      ],
      "text/plain": [
       "   symboling  normalized-losses         make fuel-type aspiration  \\\n",
       "0          3                122  alfa-romero       gas        std   \n",
       "1          3                122  alfa-romero       gas        std   \n",
       "2          1                122  alfa-romero       gas        std   \n",
       "3          2                164         audi       gas        std   \n",
       "4          2                164         audi       gas        std   \n",
       "\n",
       "  num-of-doors   body-style drive-wheels engine-location  wheel-base  ...  \\\n",
       "0          two  convertible          rwd           front        88.6  ...   \n",
       "1          two  convertible          rwd           front        88.6  ...   \n",
       "2          two    hatchback          rwd           front        94.5  ...   \n",
       "3         four        sedan          fwd           front        99.8  ...   \n",
       "4         four        sedan          4wd           front        99.4  ...   \n",
       "\n",
       "   make_nissan  make_peugot  make_plymouth  make_porsche make_renault  \\\n",
       "0          0.0          0.0            0.0           0.0          0.0   \n",
       "1          0.0          0.0            0.0           0.0          0.0   \n",
       "2          0.0          0.0            0.0           0.0          0.0   \n",
       "3          0.0          0.0            0.0           0.0          0.0   \n",
       "4          0.0          0.0            0.0           0.0          0.0   \n",
       "\n",
       "  make_saab  make_subaru make_toyota make_volkswagen make_volvo  \n",
       "0       0.0          0.0         0.0             0.0        0.0  \n",
       "1       0.0          0.0         0.0             0.0        0.0  \n",
       "2       0.0          0.0         0.0             0.0        0.0  \n",
       "3       0.0          0.0         0.0             0.0        0.0  \n",
       "4       0.0          0.0         0.0             0.0        0.0  \n",
       "\n",
       "[5 rows x 49 columns]"
      ]
     },
     "execution_count": 22,
     "metadata": {},
     "output_type": "execute_result"
    }
   ],
   "source": [
    "ohe = OneHotEncoder()\n",
    "features = ohe.fit_transform(df[[\"make\"]])\n",
    "\n",
    "df1 = pd.DataFrame(features.toarray(),columns=ohe.get_feature_names([\"make\"]))\n",
    "df = pd.concat([df,df1],axis=1)\n",
    "df.head(5)"
   ]
  },
  {
   "cell_type": "code",
   "execution_count": 23,
   "id": "b7460511",
   "metadata": {},
   "outputs": [
    {
     "data": {
      "text/plain": [
       "Index(['symboling', 'normalized-losses', 'make', 'fuel-type', 'aspiration',\n",
       "       'num-of-doors', 'body-style', 'drive-wheels', 'engine-location',\n",
       "       'wheel-base', 'length', 'width', 'height', 'curb-weight', 'engine-type',\n",
       "       'num-of-cylinders', 'engine-size', 'fuel-system', 'bore', 'stroke',\n",
       "       'compression-ratio', 'horsepower', 'peak-rpm', 'city-mpg',\n",
       "       'highway-mpg', 'price', 'make_others', 'make_alfa-romero', 'make_audi',\n",
       "       'make_bmw', 'make_chevrolet', 'make_dodge', 'make_honda', 'make_isuzu',\n",
       "       'make_jaguar', 'make_mazda', 'make_mercedes-benz', 'make_mercury',\n",
       "       'make_mitsubishi', 'make_nissan', 'make_peugot', 'make_plymouth',\n",
       "       'make_porsche', 'make_renault', 'make_saab', 'make_subaru',\n",
       "       'make_toyota', 'make_volkswagen', 'make_volvo'],\n",
       "      dtype='object')"
      ]
     },
     "execution_count": 23,
     "metadata": {},
     "output_type": "execute_result"
    }
   ],
   "source": [
    "df.columns"
   ]
  },
  {
   "cell_type": "code",
   "execution_count": 24,
   "id": "894d9087",
   "metadata": {},
   "outputs": [],
   "source": [
    "df.drop(['make','make_dodge','make_mercedes-benz','make_bmw','make_audi','make_plymouth','make_porsche', 'make_renault',\n",
    "         'make_saab','make_isuzu','make_jaguar','make_alfa-romero','make_chevrolet',\n",
    "         'make_mercury','make_honda'],axis=1,inplace=True)"
   ]
  },
  {
   "cell_type": "markdown",
   "id": "c8ddd2bf",
   "metadata": {},
   "source": [
    "### 4. Fuel-type"
   ]
  },
  {
   "cell_type": "code",
   "execution_count": 25,
   "id": "27ed0032",
   "metadata": {},
   "outputs": [
    {
     "data": {
      "text/plain": [
       "array(['gas', 'diesel'], dtype=object)"
      ]
     },
     "execution_count": 25,
     "metadata": {},
     "output_type": "execute_result"
    }
   ],
   "source": [
    "df[\"fuel-type\"].unique()"
   ]
  },
  {
   "cell_type": "code",
   "execution_count": 26,
   "id": "64a5fa2c",
   "metadata": {},
   "outputs": [
    {
     "data": {
      "text/plain": [
       "{'gas': 185, 'diesel': 20}"
      ]
     },
     "execution_count": 26,
     "metadata": {},
     "output_type": "execute_result"
    }
   ],
   "source": [
    "df[\"fuel-type\"].value_counts().to_dict()"
   ]
  },
  {
   "cell_type": "code",
   "execution_count": 27,
   "id": "d6bbe923",
   "metadata": {},
   "outputs": [],
   "source": [
    "fuel_type = {'gas': 0, 'diesel': 1}"
   ]
  },
  {
   "cell_type": "code",
   "execution_count": 28,
   "id": "529d5236",
   "metadata": {},
   "outputs": [],
   "source": [
    "df[\"fuel-type\"] = df[\"fuel-type\"].replace({'gas': 0, 'diesel': 1})"
   ]
  },
  {
   "cell_type": "code",
   "execution_count": 29,
   "id": "f766771d",
   "metadata": {},
   "outputs": [
    {
     "data": {
      "text/plain": [
       "0    185\n",
       "1     20\n",
       "Name: fuel-type, dtype: int64"
      ]
     },
     "execution_count": 29,
     "metadata": {},
     "output_type": "execute_result"
    }
   ],
   "source": [
    "df[\"fuel-type\"].value_counts()"
   ]
  },
  {
   "cell_type": "markdown",
   "id": "27b658fa",
   "metadata": {},
   "source": [
    "### 5. Aspiration"
   ]
  },
  {
   "cell_type": "code",
   "execution_count": 30,
   "id": "6897db31",
   "metadata": {},
   "outputs": [
    {
     "data": {
      "text/plain": [
       "array(['std', 'turbo'], dtype=object)"
      ]
     },
     "execution_count": 30,
     "metadata": {},
     "output_type": "execute_result"
    }
   ],
   "source": [
    "df[\"aspiration\"].unique()"
   ]
  },
  {
   "cell_type": "code",
   "execution_count": 31,
   "id": "b6df4785",
   "metadata": {},
   "outputs": [
    {
     "data": {
      "text/plain": [
       "{'std': 168, 'turbo': 37}"
      ]
     },
     "execution_count": 31,
     "metadata": {},
     "output_type": "execute_result"
    }
   ],
   "source": [
    "df[\"aspiration\"].value_counts().to_dict()"
   ]
  },
  {
   "cell_type": "code",
   "execution_count": 32,
   "id": "f443c3fa",
   "metadata": {},
   "outputs": [],
   "source": [
    "aspiration = {'std': 0, 'turbo': 1}"
   ]
  },
  {
   "cell_type": "code",
   "execution_count": 33,
   "id": "dc1610e9",
   "metadata": {},
   "outputs": [],
   "source": [
    "df[\"aspiration\"] = df[\"aspiration\"].replace({'std': 0, 'turbo': 1})"
   ]
  },
  {
   "cell_type": "code",
   "execution_count": 34,
   "id": "a7c47cdc",
   "metadata": {},
   "outputs": [
    {
     "data": {
      "text/plain": [
       "0    168\n",
       "1     37\n",
       "Name: aspiration, dtype: int64"
      ]
     },
     "execution_count": 34,
     "metadata": {},
     "output_type": "execute_result"
    }
   ],
   "source": [
    "df[\"aspiration\"].value_counts()"
   ]
  },
  {
   "cell_type": "markdown",
   "id": "086315c9",
   "metadata": {},
   "source": [
    "### 6. Num-of-doors"
   ]
  },
  {
   "cell_type": "code",
   "execution_count": 35,
   "id": "78a0d3be",
   "metadata": {},
   "outputs": [
    {
     "data": {
      "text/plain": [
       "array(['two', 'four', '?'], dtype=object)"
      ]
     },
     "execution_count": 35,
     "metadata": {},
     "output_type": "execute_result"
    }
   ],
   "source": [
    "df[\"num-of-doors\"].unique()"
   ]
  },
  {
   "cell_type": "code",
   "execution_count": 36,
   "id": "a3fc2cce",
   "metadata": {},
   "outputs": [
    {
     "data": {
      "text/plain": [
       "{'four': 114, 'two': 89, '?': 2}"
      ]
     },
     "execution_count": 36,
     "metadata": {},
     "output_type": "execute_result"
    }
   ],
   "source": [
    "df[\"num-of-doors\"].value_counts().to_dict()"
   ]
  },
  {
   "cell_type": "code",
   "execution_count": 37,
   "id": "d555d115",
   "metadata": {},
   "outputs": [],
   "source": [
    "df[\"num-of-doors\"] = df[\"num-of-doors\"].replace({'four': 4, 'two': 2, '?': 4})"
   ]
  },
  {
   "cell_type": "code",
   "execution_count": 38,
   "id": "13c75f5c",
   "metadata": {},
   "outputs": [],
   "source": [
    "num_of_doors = {'four': 4, 'two': 2}"
   ]
  },
  {
   "cell_type": "code",
   "execution_count": 39,
   "id": "b7bad7cb",
   "metadata": {},
   "outputs": [
    {
     "data": {
      "text/html": [
       "<div>\n",
       "<style scoped>\n",
       "    .dataframe tbody tr th:only-of-type {\n",
       "        vertical-align: middle;\n",
       "    }\n",
       "\n",
       "    .dataframe tbody tr th {\n",
       "        vertical-align: top;\n",
       "    }\n",
       "\n",
       "    .dataframe thead th {\n",
       "        text-align: right;\n",
       "    }\n",
       "</style>\n",
       "<table border=\"1\" class=\"dataframe\">\n",
       "  <thead>\n",
       "    <tr style=\"text-align: right;\">\n",
       "      <th></th>\n",
       "      <th>symboling</th>\n",
       "      <th>normalized-losses</th>\n",
       "      <th>fuel-type</th>\n",
       "      <th>aspiration</th>\n",
       "      <th>num-of-doors</th>\n",
       "      <th>body-style</th>\n",
       "      <th>drive-wheels</th>\n",
       "      <th>engine-location</th>\n",
       "      <th>wheel-base</th>\n",
       "      <th>length</th>\n",
       "      <th>...</th>\n",
       "      <th>price</th>\n",
       "      <th>make_others</th>\n",
       "      <th>make_mazda</th>\n",
       "      <th>make_mitsubishi</th>\n",
       "      <th>make_nissan</th>\n",
       "      <th>make_peugot</th>\n",
       "      <th>make_subaru</th>\n",
       "      <th>make_toyota</th>\n",
       "      <th>make_volkswagen</th>\n",
       "      <th>make_volvo</th>\n",
       "    </tr>\n",
       "  </thead>\n",
       "  <tbody>\n",
       "    <tr>\n",
       "      <th>0</th>\n",
       "      <td>3</td>\n",
       "      <td>122</td>\n",
       "      <td>0</td>\n",
       "      <td>0</td>\n",
       "      <td>2</td>\n",
       "      <td>convertible</td>\n",
       "      <td>rwd</td>\n",
       "      <td>front</td>\n",
       "      <td>88.6</td>\n",
       "      <td>168.8</td>\n",
       "      <td>...</td>\n",
       "      <td>13495</td>\n",
       "      <td>0</td>\n",
       "      <td>0.0</td>\n",
       "      <td>0.0</td>\n",
       "      <td>0.0</td>\n",
       "      <td>0.0</td>\n",
       "      <td>0.0</td>\n",
       "      <td>0.0</td>\n",
       "      <td>0.0</td>\n",
       "      <td>0.0</td>\n",
       "    </tr>\n",
       "    <tr>\n",
       "      <th>1</th>\n",
       "      <td>3</td>\n",
       "      <td>122</td>\n",
       "      <td>0</td>\n",
       "      <td>0</td>\n",
       "      <td>2</td>\n",
       "      <td>convertible</td>\n",
       "      <td>rwd</td>\n",
       "      <td>front</td>\n",
       "      <td>88.6</td>\n",
       "      <td>168.8</td>\n",
       "      <td>...</td>\n",
       "      <td>16500</td>\n",
       "      <td>0</td>\n",
       "      <td>0.0</td>\n",
       "      <td>0.0</td>\n",
       "      <td>0.0</td>\n",
       "      <td>0.0</td>\n",
       "      <td>0.0</td>\n",
       "      <td>0.0</td>\n",
       "      <td>0.0</td>\n",
       "      <td>0.0</td>\n",
       "    </tr>\n",
       "  </tbody>\n",
       "</table>\n",
       "<p>2 rows × 34 columns</p>\n",
       "</div>"
      ],
      "text/plain": [
       "   symboling  normalized-losses  fuel-type  aspiration  num-of-doors  \\\n",
       "0          3                122          0           0             2   \n",
       "1          3                122          0           0             2   \n",
       "\n",
       "    body-style drive-wheels engine-location  wheel-base  length  ...  price  \\\n",
       "0  convertible          rwd           front        88.6   168.8  ...  13495   \n",
       "1  convertible          rwd           front        88.6   168.8  ...  16500   \n",
       "\n",
       "   make_others  make_mazda make_mitsubishi make_nissan  make_peugot  \\\n",
       "0            0         0.0             0.0         0.0          0.0   \n",
       "1            0         0.0             0.0         0.0          0.0   \n",
       "\n",
       "  make_subaru make_toyota make_volkswagen  make_volvo  \n",
       "0         0.0         0.0             0.0         0.0  \n",
       "1         0.0         0.0             0.0         0.0  \n",
       "\n",
       "[2 rows x 34 columns]"
      ]
     },
     "execution_count": 39,
     "metadata": {},
     "output_type": "execute_result"
    }
   ],
   "source": [
    "df.head(2)"
   ]
  },
  {
   "cell_type": "markdown",
   "id": "6c6226e3",
   "metadata": {},
   "source": [
    "### 7. Body-style"
   ]
  },
  {
   "cell_type": "code",
   "execution_count": 40,
   "id": "ac4d6668",
   "metadata": {},
   "outputs": [
    {
     "data": {
      "text/plain": [
       "array(['convertible', 'hatchback', 'sedan', 'wagon', 'hardtop'],\n",
       "      dtype=object)"
      ]
     },
     "execution_count": 40,
     "metadata": {},
     "output_type": "execute_result"
    }
   ],
   "source": [
    "df[\"body-style\"].unique()"
   ]
  },
  {
   "cell_type": "code",
   "execution_count": 41,
   "id": "6fbd9405",
   "metadata": {},
   "outputs": [
    {
     "data": {
      "text/plain": [
       "sedan          96\n",
       "hatchback      70\n",
       "wagon          25\n",
       "hardtop         8\n",
       "convertible     6\n",
       "Name: body-style, dtype: int64"
      ]
     },
     "execution_count": 41,
     "metadata": {},
     "output_type": "execute_result"
    }
   ],
   "source": [
    "df[\"body-style\"].value_counts()"
   ]
  },
  {
   "cell_type": "code",
   "execution_count": 42,
   "id": "c4e4609b",
   "metadata": {},
   "outputs": [
    {
     "data": {
      "text/html": [
       "<div>\n",
       "<style scoped>\n",
       "    .dataframe tbody tr th:only-of-type {\n",
       "        vertical-align: middle;\n",
       "    }\n",
       "\n",
       "    .dataframe tbody tr th {\n",
       "        vertical-align: top;\n",
       "    }\n",
       "\n",
       "    .dataframe thead th {\n",
       "        text-align: right;\n",
       "    }\n",
       "</style>\n",
       "<table border=\"1\" class=\"dataframe\">\n",
       "  <thead>\n",
       "    <tr style=\"text-align: right;\">\n",
       "      <th></th>\n",
       "      <th>symboling</th>\n",
       "      <th>normalized-losses</th>\n",
       "      <th>fuel-type</th>\n",
       "      <th>aspiration</th>\n",
       "      <th>num-of-doors</th>\n",
       "      <th>drive-wheels</th>\n",
       "      <th>engine-location</th>\n",
       "      <th>wheel-base</th>\n",
       "      <th>length</th>\n",
       "      <th>width</th>\n",
       "      <th>...</th>\n",
       "      <th>make_nissan</th>\n",
       "      <th>make_peugot</th>\n",
       "      <th>make_subaru</th>\n",
       "      <th>make_toyota</th>\n",
       "      <th>make_volkswagen</th>\n",
       "      <th>make_volvo</th>\n",
       "      <th>body-style_hardtop</th>\n",
       "      <th>body-style_hatchback</th>\n",
       "      <th>body-style_sedan</th>\n",
       "      <th>body-style_wagon</th>\n",
       "    </tr>\n",
       "  </thead>\n",
       "  <tbody>\n",
       "    <tr>\n",
       "      <th>0</th>\n",
       "      <td>3</td>\n",
       "      <td>122</td>\n",
       "      <td>0</td>\n",
       "      <td>0</td>\n",
       "      <td>2</td>\n",
       "      <td>rwd</td>\n",
       "      <td>front</td>\n",
       "      <td>88.6</td>\n",
       "      <td>168.8</td>\n",
       "      <td>64.1</td>\n",
       "      <td>...</td>\n",
       "      <td>0.0</td>\n",
       "      <td>0.0</td>\n",
       "      <td>0.0</td>\n",
       "      <td>0.0</td>\n",
       "      <td>0.0</td>\n",
       "      <td>0.0</td>\n",
       "      <td>0</td>\n",
       "      <td>0</td>\n",
       "      <td>0</td>\n",
       "      <td>0</td>\n",
       "    </tr>\n",
       "    <tr>\n",
       "      <th>1</th>\n",
       "      <td>3</td>\n",
       "      <td>122</td>\n",
       "      <td>0</td>\n",
       "      <td>0</td>\n",
       "      <td>2</td>\n",
       "      <td>rwd</td>\n",
       "      <td>front</td>\n",
       "      <td>88.6</td>\n",
       "      <td>168.8</td>\n",
       "      <td>64.1</td>\n",
       "      <td>...</td>\n",
       "      <td>0.0</td>\n",
       "      <td>0.0</td>\n",
       "      <td>0.0</td>\n",
       "      <td>0.0</td>\n",
       "      <td>0.0</td>\n",
       "      <td>0.0</td>\n",
       "      <td>0</td>\n",
       "      <td>0</td>\n",
       "      <td>0</td>\n",
       "      <td>0</td>\n",
       "    </tr>\n",
       "    <tr>\n",
       "      <th>2</th>\n",
       "      <td>1</td>\n",
       "      <td>122</td>\n",
       "      <td>0</td>\n",
       "      <td>0</td>\n",
       "      <td>2</td>\n",
       "      <td>rwd</td>\n",
       "      <td>front</td>\n",
       "      <td>94.5</td>\n",
       "      <td>171.2</td>\n",
       "      <td>65.5</td>\n",
       "      <td>...</td>\n",
       "      <td>0.0</td>\n",
       "      <td>0.0</td>\n",
       "      <td>0.0</td>\n",
       "      <td>0.0</td>\n",
       "      <td>0.0</td>\n",
       "      <td>0.0</td>\n",
       "      <td>0</td>\n",
       "      <td>1</td>\n",
       "      <td>0</td>\n",
       "      <td>0</td>\n",
       "    </tr>\n",
       "    <tr>\n",
       "      <th>3</th>\n",
       "      <td>2</td>\n",
       "      <td>164</td>\n",
       "      <td>0</td>\n",
       "      <td>0</td>\n",
       "      <td>4</td>\n",
       "      <td>fwd</td>\n",
       "      <td>front</td>\n",
       "      <td>99.8</td>\n",
       "      <td>176.6</td>\n",
       "      <td>66.2</td>\n",
       "      <td>...</td>\n",
       "      <td>0.0</td>\n",
       "      <td>0.0</td>\n",
       "      <td>0.0</td>\n",
       "      <td>0.0</td>\n",
       "      <td>0.0</td>\n",
       "      <td>0.0</td>\n",
       "      <td>0</td>\n",
       "      <td>0</td>\n",
       "      <td>1</td>\n",
       "      <td>0</td>\n",
       "    </tr>\n",
       "    <tr>\n",
       "      <th>4</th>\n",
       "      <td>2</td>\n",
       "      <td>164</td>\n",
       "      <td>0</td>\n",
       "      <td>0</td>\n",
       "      <td>4</td>\n",
       "      <td>4wd</td>\n",
       "      <td>front</td>\n",
       "      <td>99.4</td>\n",
       "      <td>176.6</td>\n",
       "      <td>66.4</td>\n",
       "      <td>...</td>\n",
       "      <td>0.0</td>\n",
       "      <td>0.0</td>\n",
       "      <td>0.0</td>\n",
       "      <td>0.0</td>\n",
       "      <td>0.0</td>\n",
       "      <td>0.0</td>\n",
       "      <td>0</td>\n",
       "      <td>0</td>\n",
       "      <td>1</td>\n",
       "      <td>0</td>\n",
       "    </tr>\n",
       "    <tr>\n",
       "      <th>...</th>\n",
       "      <td>...</td>\n",
       "      <td>...</td>\n",
       "      <td>...</td>\n",
       "      <td>...</td>\n",
       "      <td>...</td>\n",
       "      <td>...</td>\n",
       "      <td>...</td>\n",
       "      <td>...</td>\n",
       "      <td>...</td>\n",
       "      <td>...</td>\n",
       "      <td>...</td>\n",
       "      <td>...</td>\n",
       "      <td>...</td>\n",
       "      <td>...</td>\n",
       "      <td>...</td>\n",
       "      <td>...</td>\n",
       "      <td>...</td>\n",
       "      <td>...</td>\n",
       "      <td>...</td>\n",
       "      <td>...</td>\n",
       "      <td>...</td>\n",
       "    </tr>\n",
       "    <tr>\n",
       "      <th>200</th>\n",
       "      <td>-1</td>\n",
       "      <td>95</td>\n",
       "      <td>0</td>\n",
       "      <td>0</td>\n",
       "      <td>4</td>\n",
       "      <td>rwd</td>\n",
       "      <td>front</td>\n",
       "      <td>109.1</td>\n",
       "      <td>188.8</td>\n",
       "      <td>68.9</td>\n",
       "      <td>...</td>\n",
       "      <td>0.0</td>\n",
       "      <td>0.0</td>\n",
       "      <td>0.0</td>\n",
       "      <td>0.0</td>\n",
       "      <td>0.0</td>\n",
       "      <td>1.0</td>\n",
       "      <td>0</td>\n",
       "      <td>0</td>\n",
       "      <td>1</td>\n",
       "      <td>0</td>\n",
       "    </tr>\n",
       "    <tr>\n",
       "      <th>201</th>\n",
       "      <td>-1</td>\n",
       "      <td>95</td>\n",
       "      <td>0</td>\n",
       "      <td>1</td>\n",
       "      <td>4</td>\n",
       "      <td>rwd</td>\n",
       "      <td>front</td>\n",
       "      <td>109.1</td>\n",
       "      <td>188.8</td>\n",
       "      <td>68.8</td>\n",
       "      <td>...</td>\n",
       "      <td>0.0</td>\n",
       "      <td>0.0</td>\n",
       "      <td>0.0</td>\n",
       "      <td>0.0</td>\n",
       "      <td>0.0</td>\n",
       "      <td>1.0</td>\n",
       "      <td>0</td>\n",
       "      <td>0</td>\n",
       "      <td>1</td>\n",
       "      <td>0</td>\n",
       "    </tr>\n",
       "    <tr>\n",
       "      <th>202</th>\n",
       "      <td>-1</td>\n",
       "      <td>95</td>\n",
       "      <td>0</td>\n",
       "      <td>0</td>\n",
       "      <td>4</td>\n",
       "      <td>rwd</td>\n",
       "      <td>front</td>\n",
       "      <td>109.1</td>\n",
       "      <td>188.8</td>\n",
       "      <td>68.9</td>\n",
       "      <td>...</td>\n",
       "      <td>0.0</td>\n",
       "      <td>0.0</td>\n",
       "      <td>0.0</td>\n",
       "      <td>0.0</td>\n",
       "      <td>0.0</td>\n",
       "      <td>1.0</td>\n",
       "      <td>0</td>\n",
       "      <td>0</td>\n",
       "      <td>1</td>\n",
       "      <td>0</td>\n",
       "    </tr>\n",
       "    <tr>\n",
       "      <th>203</th>\n",
       "      <td>-1</td>\n",
       "      <td>95</td>\n",
       "      <td>1</td>\n",
       "      <td>1</td>\n",
       "      <td>4</td>\n",
       "      <td>rwd</td>\n",
       "      <td>front</td>\n",
       "      <td>109.1</td>\n",
       "      <td>188.8</td>\n",
       "      <td>68.9</td>\n",
       "      <td>...</td>\n",
       "      <td>0.0</td>\n",
       "      <td>0.0</td>\n",
       "      <td>0.0</td>\n",
       "      <td>0.0</td>\n",
       "      <td>0.0</td>\n",
       "      <td>1.0</td>\n",
       "      <td>0</td>\n",
       "      <td>0</td>\n",
       "      <td>1</td>\n",
       "      <td>0</td>\n",
       "    </tr>\n",
       "    <tr>\n",
       "      <th>204</th>\n",
       "      <td>-1</td>\n",
       "      <td>95</td>\n",
       "      <td>0</td>\n",
       "      <td>1</td>\n",
       "      <td>4</td>\n",
       "      <td>rwd</td>\n",
       "      <td>front</td>\n",
       "      <td>109.1</td>\n",
       "      <td>188.8</td>\n",
       "      <td>68.9</td>\n",
       "      <td>...</td>\n",
       "      <td>0.0</td>\n",
       "      <td>0.0</td>\n",
       "      <td>0.0</td>\n",
       "      <td>0.0</td>\n",
       "      <td>0.0</td>\n",
       "      <td>1.0</td>\n",
       "      <td>0</td>\n",
       "      <td>0</td>\n",
       "      <td>1</td>\n",
       "      <td>0</td>\n",
       "    </tr>\n",
       "  </tbody>\n",
       "</table>\n",
       "<p>205 rows × 37 columns</p>\n",
       "</div>"
      ],
      "text/plain": [
       "     symboling  normalized-losses  fuel-type  aspiration  num-of-doors  \\\n",
       "0            3                122          0           0             2   \n",
       "1            3                122          0           0             2   \n",
       "2            1                122          0           0             2   \n",
       "3            2                164          0           0             4   \n",
       "4            2                164          0           0             4   \n",
       "..         ...                ...        ...         ...           ...   \n",
       "200         -1                 95          0           0             4   \n",
       "201         -1                 95          0           1             4   \n",
       "202         -1                 95          0           0             4   \n",
       "203         -1                 95          1           1             4   \n",
       "204         -1                 95          0           1             4   \n",
       "\n",
       "    drive-wheels engine-location  wheel-base  length  width  ...  make_nissan  \\\n",
       "0            rwd           front        88.6   168.8   64.1  ...          0.0   \n",
       "1            rwd           front        88.6   168.8   64.1  ...          0.0   \n",
       "2            rwd           front        94.5   171.2   65.5  ...          0.0   \n",
       "3            fwd           front        99.8   176.6   66.2  ...          0.0   \n",
       "4            4wd           front        99.4   176.6   66.4  ...          0.0   \n",
       "..           ...             ...         ...     ...    ...  ...          ...   \n",
       "200          rwd           front       109.1   188.8   68.9  ...          0.0   \n",
       "201          rwd           front       109.1   188.8   68.8  ...          0.0   \n",
       "202          rwd           front       109.1   188.8   68.9  ...          0.0   \n",
       "203          rwd           front       109.1   188.8   68.9  ...          0.0   \n",
       "204          rwd           front       109.1   188.8   68.9  ...          0.0   \n",
       "\n",
       "     make_peugot make_subaru make_toyota  make_volkswagen make_volvo  \\\n",
       "0            0.0         0.0         0.0              0.0        0.0   \n",
       "1            0.0         0.0         0.0              0.0        0.0   \n",
       "2            0.0         0.0         0.0              0.0        0.0   \n",
       "3            0.0         0.0         0.0              0.0        0.0   \n",
       "4            0.0         0.0         0.0              0.0        0.0   \n",
       "..           ...         ...         ...              ...        ...   \n",
       "200          0.0         0.0         0.0              0.0        1.0   \n",
       "201          0.0         0.0         0.0              0.0        1.0   \n",
       "202          0.0         0.0         0.0              0.0        1.0   \n",
       "203          0.0         0.0         0.0              0.0        1.0   \n",
       "204          0.0         0.0         0.0              0.0        1.0   \n",
       "\n",
       "    body-style_hardtop body-style_hatchback  body-style_sedan body-style_wagon  \n",
       "0                    0                    0                 0                0  \n",
       "1                    0                    0                 0                0  \n",
       "2                    0                    1                 0                0  \n",
       "3                    0                    0                 1                0  \n",
       "4                    0                    0                 1                0  \n",
       "..                 ...                  ...               ...              ...  \n",
       "200                  0                    0                 1                0  \n",
       "201                  0                    0                 1                0  \n",
       "202                  0                    0                 1                0  \n",
       "203                  0                    0                 1                0  \n",
       "204                  0                    0                 1                0  \n",
       "\n",
       "[205 rows x 37 columns]"
      ]
     },
     "execution_count": 42,
     "metadata": {},
     "output_type": "execute_result"
    }
   ],
   "source": [
    "df = pd.get_dummies(df,columns=[\"body-style\"],drop_first=True,)\n",
    "df"
   ]
  },
  {
   "cell_type": "markdown",
   "id": "71163272",
   "metadata": {},
   "source": [
    "### 8. Drive-wheels"
   ]
  },
  {
   "cell_type": "code",
   "execution_count": 43,
   "id": "4413952c",
   "metadata": {},
   "outputs": [
    {
     "data": {
      "text/plain": [
       "array(['rwd', 'fwd', '4wd'], dtype=object)"
      ]
     },
     "execution_count": 43,
     "metadata": {},
     "output_type": "execute_result"
    }
   ],
   "source": [
    "df[\"drive-wheels\"].unique()"
   ]
  },
  {
   "cell_type": "code",
   "execution_count": 44,
   "id": "c5fe9626",
   "metadata": {},
   "outputs": [
    {
     "data": {
      "text/plain": [
       "{'fwd': 120, 'rwd': 76, '4wd': 9}"
      ]
     },
     "execution_count": 44,
     "metadata": {},
     "output_type": "execute_result"
    }
   ],
   "source": [
    "df[\"drive-wheels\"].value_counts().to_dict()"
   ]
  },
  {
   "cell_type": "code",
   "execution_count": 45,
   "id": "f4e38471",
   "metadata": {},
   "outputs": [],
   "source": [
    "drive_wheels = {'fwd': 0, 'rwd': 1, '4wd': 4}"
   ]
  },
  {
   "cell_type": "code",
   "execution_count": 46,
   "id": "7ee7d2fc",
   "metadata": {},
   "outputs": [],
   "source": [
    "df[\"drive-wheels\"].replace({'fwd': 0, 'rwd': 1, '4wd': 4},inplace=True)"
   ]
  },
  {
   "cell_type": "code",
   "execution_count": 47,
   "id": "9c7e6bf2",
   "metadata": {},
   "outputs": [
    {
     "data": {
      "text/html": [
       "<div>\n",
       "<style scoped>\n",
       "    .dataframe tbody tr th:only-of-type {\n",
       "        vertical-align: middle;\n",
       "    }\n",
       "\n",
       "    .dataframe tbody tr th {\n",
       "        vertical-align: top;\n",
       "    }\n",
       "\n",
       "    .dataframe thead th {\n",
       "        text-align: right;\n",
       "    }\n",
       "</style>\n",
       "<table border=\"1\" class=\"dataframe\">\n",
       "  <thead>\n",
       "    <tr style=\"text-align: right;\">\n",
       "      <th></th>\n",
       "      <th>symboling</th>\n",
       "      <th>normalized-losses</th>\n",
       "      <th>fuel-type</th>\n",
       "      <th>aspiration</th>\n",
       "      <th>num-of-doors</th>\n",
       "      <th>drive-wheels</th>\n",
       "      <th>engine-location</th>\n",
       "      <th>wheel-base</th>\n",
       "      <th>length</th>\n",
       "      <th>width</th>\n",
       "      <th>...</th>\n",
       "      <th>make_nissan</th>\n",
       "      <th>make_peugot</th>\n",
       "      <th>make_subaru</th>\n",
       "      <th>make_toyota</th>\n",
       "      <th>make_volkswagen</th>\n",
       "      <th>make_volvo</th>\n",
       "      <th>body-style_hardtop</th>\n",
       "      <th>body-style_hatchback</th>\n",
       "      <th>body-style_sedan</th>\n",
       "      <th>body-style_wagon</th>\n",
       "    </tr>\n",
       "  </thead>\n",
       "  <tbody>\n",
       "    <tr>\n",
       "      <th>0</th>\n",
       "      <td>3</td>\n",
       "      <td>122</td>\n",
       "      <td>0</td>\n",
       "      <td>0</td>\n",
       "      <td>2</td>\n",
       "      <td>1</td>\n",
       "      <td>front</td>\n",
       "      <td>88.6</td>\n",
       "      <td>168.8</td>\n",
       "      <td>64.1</td>\n",
       "      <td>...</td>\n",
       "      <td>0.0</td>\n",
       "      <td>0.0</td>\n",
       "      <td>0.0</td>\n",
       "      <td>0.0</td>\n",
       "      <td>0.0</td>\n",
       "      <td>0.0</td>\n",
       "      <td>0</td>\n",
       "      <td>0</td>\n",
       "      <td>0</td>\n",
       "      <td>0</td>\n",
       "    </tr>\n",
       "    <tr>\n",
       "      <th>1</th>\n",
       "      <td>3</td>\n",
       "      <td>122</td>\n",
       "      <td>0</td>\n",
       "      <td>0</td>\n",
       "      <td>2</td>\n",
       "      <td>1</td>\n",
       "      <td>front</td>\n",
       "      <td>88.6</td>\n",
       "      <td>168.8</td>\n",
       "      <td>64.1</td>\n",
       "      <td>...</td>\n",
       "      <td>0.0</td>\n",
       "      <td>0.0</td>\n",
       "      <td>0.0</td>\n",
       "      <td>0.0</td>\n",
       "      <td>0.0</td>\n",
       "      <td>0.0</td>\n",
       "      <td>0</td>\n",
       "      <td>0</td>\n",
       "      <td>0</td>\n",
       "      <td>0</td>\n",
       "    </tr>\n",
       "  </tbody>\n",
       "</table>\n",
       "<p>2 rows × 37 columns</p>\n",
       "</div>"
      ],
      "text/plain": [
       "   symboling  normalized-losses  fuel-type  aspiration  num-of-doors  \\\n",
       "0          3                122          0           0             2   \n",
       "1          3                122          0           0             2   \n",
       "\n",
       "   drive-wheels engine-location  wheel-base  length  width  ...  make_nissan  \\\n",
       "0             1           front        88.6   168.8   64.1  ...          0.0   \n",
       "1             1           front        88.6   168.8   64.1  ...          0.0   \n",
       "\n",
       "   make_peugot make_subaru make_toyota  make_volkswagen make_volvo  \\\n",
       "0          0.0         0.0         0.0              0.0        0.0   \n",
       "1          0.0         0.0         0.0              0.0        0.0   \n",
       "\n",
       "  body-style_hardtop body-style_hatchback  body-style_sedan body-style_wagon  \n",
       "0                  0                    0                 0                0  \n",
       "1                  0                    0                 0                0  \n",
       "\n",
       "[2 rows x 37 columns]"
      ]
     },
     "execution_count": 47,
     "metadata": {},
     "output_type": "execute_result"
    }
   ],
   "source": [
    "df.head(2)"
   ]
  },
  {
   "cell_type": "markdown",
   "id": "fcb63982",
   "metadata": {},
   "source": [
    "### 9. Engine-location"
   ]
  },
  {
   "cell_type": "code",
   "execution_count": 48,
   "id": "98507dfb",
   "metadata": {},
   "outputs": [
    {
     "data": {
      "text/plain": [
       "array(['front', 'rear'], dtype=object)"
      ]
     },
     "execution_count": 48,
     "metadata": {},
     "output_type": "execute_result"
    }
   ],
   "source": [
    "df[\"engine-location\"].unique()"
   ]
  },
  {
   "cell_type": "code",
   "execution_count": 49,
   "id": "16b52af1",
   "metadata": {},
   "outputs": [
    {
     "data": {
      "text/plain": [
       "{'front': 202, 'rear': 3}"
      ]
     },
     "execution_count": 49,
     "metadata": {},
     "output_type": "execute_result"
    }
   ],
   "source": [
    "df[\"engine-location\"].value_counts().to_dict()"
   ]
  },
  {
   "cell_type": "code",
   "execution_count": 50,
   "id": "96714f98",
   "metadata": {},
   "outputs": [],
   "source": [
    "engine_location = {'front': 0, 'rear':1}"
   ]
  },
  {
   "cell_type": "code",
   "execution_count": 51,
   "id": "f3af4f30",
   "metadata": {},
   "outputs": [],
   "source": [
    "df[\"engine-location\"].replace({'front': 0, 'rear':1},inplace=True)"
   ]
  },
  {
   "cell_type": "code",
   "execution_count": 52,
   "id": "e4f8bb15",
   "metadata": {},
   "outputs": [
    {
     "data": {
      "text/html": [
       "<div>\n",
       "<style scoped>\n",
       "    .dataframe tbody tr th:only-of-type {\n",
       "        vertical-align: middle;\n",
       "    }\n",
       "\n",
       "    .dataframe tbody tr th {\n",
       "        vertical-align: top;\n",
       "    }\n",
       "\n",
       "    .dataframe thead th {\n",
       "        text-align: right;\n",
       "    }\n",
       "</style>\n",
       "<table border=\"1\" class=\"dataframe\">\n",
       "  <thead>\n",
       "    <tr style=\"text-align: right;\">\n",
       "      <th></th>\n",
       "      <th>symboling</th>\n",
       "      <th>normalized-losses</th>\n",
       "      <th>fuel-type</th>\n",
       "      <th>aspiration</th>\n",
       "      <th>num-of-doors</th>\n",
       "      <th>drive-wheels</th>\n",
       "      <th>engine-location</th>\n",
       "      <th>wheel-base</th>\n",
       "      <th>length</th>\n",
       "      <th>width</th>\n",
       "      <th>...</th>\n",
       "      <th>make_nissan</th>\n",
       "      <th>make_peugot</th>\n",
       "      <th>make_subaru</th>\n",
       "      <th>make_toyota</th>\n",
       "      <th>make_volkswagen</th>\n",
       "      <th>make_volvo</th>\n",
       "      <th>body-style_hardtop</th>\n",
       "      <th>body-style_hatchback</th>\n",
       "      <th>body-style_sedan</th>\n",
       "      <th>body-style_wagon</th>\n",
       "    </tr>\n",
       "  </thead>\n",
       "  <tbody>\n",
       "    <tr>\n",
       "      <th>0</th>\n",
       "      <td>3</td>\n",
       "      <td>122</td>\n",
       "      <td>0</td>\n",
       "      <td>0</td>\n",
       "      <td>2</td>\n",
       "      <td>1</td>\n",
       "      <td>0</td>\n",
       "      <td>88.6</td>\n",
       "      <td>168.8</td>\n",
       "      <td>64.1</td>\n",
       "      <td>...</td>\n",
       "      <td>0.0</td>\n",
       "      <td>0.0</td>\n",
       "      <td>0.0</td>\n",
       "      <td>0.0</td>\n",
       "      <td>0.0</td>\n",
       "      <td>0.0</td>\n",
       "      <td>0</td>\n",
       "      <td>0</td>\n",
       "      <td>0</td>\n",
       "      <td>0</td>\n",
       "    </tr>\n",
       "    <tr>\n",
       "      <th>1</th>\n",
       "      <td>3</td>\n",
       "      <td>122</td>\n",
       "      <td>0</td>\n",
       "      <td>0</td>\n",
       "      <td>2</td>\n",
       "      <td>1</td>\n",
       "      <td>0</td>\n",
       "      <td>88.6</td>\n",
       "      <td>168.8</td>\n",
       "      <td>64.1</td>\n",
       "      <td>...</td>\n",
       "      <td>0.0</td>\n",
       "      <td>0.0</td>\n",
       "      <td>0.0</td>\n",
       "      <td>0.0</td>\n",
       "      <td>0.0</td>\n",
       "      <td>0.0</td>\n",
       "      <td>0</td>\n",
       "      <td>0</td>\n",
       "      <td>0</td>\n",
       "      <td>0</td>\n",
       "    </tr>\n",
       "  </tbody>\n",
       "</table>\n",
       "<p>2 rows × 37 columns</p>\n",
       "</div>"
      ],
      "text/plain": [
       "   symboling  normalized-losses  fuel-type  aspiration  num-of-doors  \\\n",
       "0          3                122          0           0             2   \n",
       "1          3                122          0           0             2   \n",
       "\n",
       "   drive-wheels  engine-location  wheel-base  length  width  ...  make_nissan  \\\n",
       "0             1                0        88.6   168.8   64.1  ...          0.0   \n",
       "1             1                0        88.6   168.8   64.1  ...          0.0   \n",
       "\n",
       "   make_peugot make_subaru make_toyota  make_volkswagen make_volvo  \\\n",
       "0          0.0         0.0         0.0              0.0        0.0   \n",
       "1          0.0         0.0         0.0              0.0        0.0   \n",
       "\n",
       "  body-style_hardtop body-style_hatchback  body-style_sedan body-style_wagon  \n",
       "0                  0                    0                 0                0  \n",
       "1                  0                    0                 0                0  \n",
       "\n",
       "[2 rows x 37 columns]"
      ]
     },
     "execution_count": 52,
     "metadata": {},
     "output_type": "execute_result"
    }
   ],
   "source": [
    "df.head(2)"
   ]
  },
  {
   "cell_type": "markdown",
   "id": "28368152",
   "metadata": {},
   "source": [
    "### 10. Wheel-base"
   ]
  },
  {
   "cell_type": "code",
   "execution_count": 53,
   "id": "56ef89a4",
   "metadata": {},
   "outputs": [
    {
     "data": {
      "text/plain": [
       "array([ 88.6,  94.5,  99.8,  99.4, 105.8,  99.5, 101.2, 103.5, 110. ,\n",
       "        88.4,  93.7, 103.3,  95.9,  86.6,  96.5,  94.3,  96. , 113. ,\n",
       "       102. ,  93.1,  95.3,  98.8, 104.9, 106.7, 115.6,  96.6, 120.9,\n",
       "       112. , 102.7,  93. ,  96.3,  95.1,  97.2, 100.4,  91.3,  99.2,\n",
       "       107.9, 114.2, 108. ,  89.5,  98.4,  96.1,  99.1,  93.3,  97. ,\n",
       "        96.9,  95.7, 102.4, 102.9, 104.5,  97.3, 104.3, 109.1])"
      ]
     },
     "execution_count": 53,
     "metadata": {},
     "output_type": "execute_result"
    }
   ],
   "source": [
    "df[\"wheel-base\"].unique()"
   ]
  },
  {
   "cell_type": "code",
   "execution_count": 54,
   "id": "d0f2c3bd",
   "metadata": {},
   "outputs": [
    {
     "name": "stdout",
     "output_type": "stream",
     "text": [
      "<class 'pandas.core.frame.DataFrame'>\n",
      "RangeIndex: 205 entries, 0 to 204\n",
      "Data columns (total 37 columns):\n",
      " #   Column                Non-Null Count  Dtype  \n",
      "---  ------                --------------  -----  \n",
      " 0   symboling             205 non-null    int64  \n",
      " 1   normalized-losses     205 non-null    int32  \n",
      " 2   fuel-type             205 non-null    int64  \n",
      " 3   aspiration            205 non-null    int64  \n",
      " 4   num-of-doors          205 non-null    int64  \n",
      " 5   drive-wheels          205 non-null    int64  \n",
      " 6   engine-location       205 non-null    int64  \n",
      " 7   wheel-base            205 non-null    float64\n",
      " 8   length                205 non-null    float64\n",
      " 9   width                 205 non-null    float64\n",
      " 10  height                205 non-null    float64\n",
      " 11  curb-weight           205 non-null    int64  \n",
      " 12  engine-type           205 non-null    object \n",
      " 13  num-of-cylinders      205 non-null    object \n",
      " 14  engine-size           205 non-null    int64  \n",
      " 15  fuel-system           205 non-null    object \n",
      " 16  bore                  205 non-null    object \n",
      " 17  stroke                205 non-null    object \n",
      " 18  compression-ratio     205 non-null    float64\n",
      " 19  horsepower            205 non-null    object \n",
      " 20  peak-rpm              205 non-null    object \n",
      " 21  city-mpg              205 non-null    int64  \n",
      " 22  highway-mpg           205 non-null    int64  \n",
      " 23  price                 205 non-null    object \n",
      " 24  make_others           205 non-null    int64  \n",
      " 25  make_mazda            205 non-null    float64\n",
      " 26  make_mitsubishi       205 non-null    float64\n",
      " 27  make_nissan           205 non-null    float64\n",
      " 28  make_peugot           205 non-null    float64\n",
      " 29  make_subaru           205 non-null    float64\n",
      " 30  make_toyota           205 non-null    float64\n",
      " 31  make_volkswagen       205 non-null    float64\n",
      " 32  make_volvo            205 non-null    float64\n",
      " 33  body-style_hardtop    205 non-null    uint8  \n",
      " 34  body-style_hatchback  205 non-null    uint8  \n",
      " 35  body-style_sedan      205 non-null    uint8  \n",
      " 36  body-style_wagon      205 non-null    uint8  \n",
      "dtypes: float64(13), int32(1), int64(11), object(8), uint8(4)\n",
      "memory usage: 53.0+ KB\n"
     ]
    }
   ],
   "source": [
    "df.info()"
   ]
  },
  {
   "cell_type": "markdown",
   "id": "e115949d",
   "metadata": {},
   "source": [
    "### 11. Length"
   ]
  },
  {
   "cell_type": "code",
   "execution_count": 55,
   "id": "37c66018",
   "metadata": {},
   "outputs": [
    {
     "data": {
      "text/plain": [
       "array([168.8, 171.2, 176.6, 177.3, 192.7, 178.2, 176.8, 189. , 193.8,\n",
       "       197. , 141.1, 155.9, 158.8, 157.3, 174.6, 173.2, 144.6, 150. ,\n",
       "       163.4, 157.1, 167.5, 175.4, 169.1, 170.7, 172.6, 199.6, 191.7,\n",
       "       159.1, 166.8, 169. , 177.8, 175. , 190.9, 187.5, 202.6, 180.3,\n",
       "       208.1, 199.2, 178.4, 173. , 172.4, 165.3, 170.2, 165.6, 162.4,\n",
       "       173.4, 181.7, 184.6, 178.5, 186.7, 198.9, 167.3, 168.9, 175.7,\n",
       "       181.5, 186.6, 156.9, 157.9, 172. , 173.5, 173.6, 158.7, 169.7,\n",
       "       166.3, 168.7, 176.2, 175.6, 183.5, 187.8, 171.7, 159.3, 165.7,\n",
       "       180.2, 183.1, 188.8])"
      ]
     },
     "execution_count": 55,
     "metadata": {},
     "output_type": "execute_result"
    }
   ],
   "source": [
    "df[\"length\"].unique()"
   ]
  },
  {
   "cell_type": "markdown",
   "id": "8d52eece",
   "metadata": {},
   "source": [
    "### 12. width"
   ]
  },
  {
   "cell_type": "code",
   "execution_count": 56,
   "id": "7bd19278",
   "metadata": {},
   "outputs": [
    {
     "data": {
      "text/plain": [
       "array([64.1, 65.5, 66.2, 66.4, 66.3, 71.4, 67.9, 64.8, 66.9, 70.9, 60.3,\n",
       "       63.6, 63.8, 64.6, 63.9, 64. , 65.2, 62.5, 66. , 61.8, 69.6, 70.6,\n",
       "       64.2, 65.7, 66.5, 66.1, 70.3, 71.7, 70.5, 72. , 68. , 64.4, 65.4,\n",
       "       68.4, 68.3, 65. , 72.3, 66.6, 63.4, 65.6, 67.7, 67.2, 68.9, 68.8])"
      ]
     },
     "execution_count": 56,
     "metadata": {},
     "output_type": "execute_result"
    }
   ],
   "source": [
    "df[\"width\"].unique()"
   ]
  },
  {
   "cell_type": "markdown",
   "id": "37f5bf97",
   "metadata": {},
   "source": [
    "### 13. Height"
   ]
  },
  {
   "cell_type": "code",
   "execution_count": 57,
   "id": "69e47a9e",
   "metadata": {},
   "outputs": [
    {
     "data": {
      "text/plain": [
       "array([48.8, 52.4, 54.3, 53.1, 55.7, 55.9, 52. , 53.7, 56.3, 53.2, 50.8,\n",
       "       50.6, 59.8, 50.2, 52.6, 54.5, 58.3, 53.3, 54.1, 51. , 53.5, 51.4,\n",
       "       52.8, 47.8, 49.6, 55.5, 54.4, 56.5, 58.7, 54.9, 56.7, 55.4, 54.8,\n",
       "       49.4, 51.6, 54.7, 55.1, 56.1, 49.7, 56. , 50.5, 55.2, 52.5, 53. ,\n",
       "       59.1, 53.9, 55.6, 56.2, 57.5])"
      ]
     },
     "execution_count": 57,
     "metadata": {},
     "output_type": "execute_result"
    }
   ],
   "source": [
    "df[\"height\"].unique()"
   ]
  },
  {
   "cell_type": "markdown",
   "id": "80a66a09",
   "metadata": {},
   "source": [
    "### 14. Curb-weight"
   ]
  },
  {
   "cell_type": "code",
   "execution_count": 58,
   "id": "01912b79",
   "metadata": {},
   "outputs": [
    {
     "data": {
      "text/plain": [
       "array([2548, 2823, 2337, 2824, 2507, 2844, 2954, 3086, 3053, 2395, 2710,\n",
       "       2765, 3055, 3230, 3380, 3505, 1488, 1874, 1909, 1876, 2128, 1967,\n",
       "       1989, 2191, 2535, 2811, 1713, 1819, 1837, 1940, 1956, 2010, 2024,\n",
       "       2236, 2289, 2304, 2372, 2465, 2293, 2734, 4066, 3950, 1890, 1900,\n",
       "       1905, 1945, 1950, 2380, 2385, 2500, 2410, 2443, 2425, 2670, 2700,\n",
       "       3515, 3750, 3495, 3770, 3740, 3685, 3900, 3715, 2910, 1918, 1944,\n",
       "       2004, 2145, 2370, 2328, 2833, 2921, 2926, 2365, 2405, 2403, 1889,\n",
       "       2017, 1938, 1951, 2028, 1971, 2037, 2008, 2324, 2302, 3095, 3296,\n",
       "       3060, 3071, 3139, 3020, 3197, 3430, 3075, 3252, 3285, 3485, 3130,\n",
       "       2818, 2778, 2756, 2800, 3366, 2579, 2460, 2658, 2695, 2707, 2758,\n",
       "       2808, 2847, 2050, 2120, 2240, 2190, 2340, 2510, 2290, 2455, 2420,\n",
       "       2650, 1985, 2040, 2015, 2280, 3110, 2081, 2109, 2275, 2094, 2122,\n",
       "       2140, 2169, 2204, 2265, 2300, 2540, 2536, 2551, 2679, 2714, 2975,\n",
       "       2326, 2480, 2414, 2458, 2976, 3016, 3131, 3151, 2261, 2209, 2264,\n",
       "       2212, 2319, 2254, 2221, 2661, 2563, 2912, 3034, 2935, 3042, 3045,\n",
       "       3157, 2952, 3049, 3012, 3217, 3062], dtype=int64)"
      ]
     },
     "execution_count": 58,
     "metadata": {},
     "output_type": "execute_result"
    }
   ],
   "source": [
    "df[\"curb-weight\"].unique()"
   ]
  },
  {
   "cell_type": "markdown",
   "id": "e72c6526",
   "metadata": {},
   "source": [
    "### 15. Engine-type"
   ]
  },
  {
   "cell_type": "code",
   "execution_count": 59,
   "id": "629a29de",
   "metadata": {},
   "outputs": [
    {
     "data": {
      "text/plain": [
       "array(['dohc', 'ohcv', 'ohc', 'l', 'rotor', 'ohcf', 'dohcv'], dtype=object)"
      ]
     },
     "execution_count": 59,
     "metadata": {},
     "output_type": "execute_result"
    }
   ],
   "source": [
    "df[\"engine-type\"].unique()"
   ]
  },
  {
   "cell_type": "code",
   "execution_count": 60,
   "id": "c5190d8f",
   "metadata": {},
   "outputs": [
    {
     "data": {
      "text/plain": [
       "ohc      148\n",
       "ohcf      15\n",
       "ohcv      13\n",
       "dohc      12\n",
       "l         12\n",
       "rotor      4\n",
       "dohcv      1\n",
       "Name: engine-type, dtype: int64"
      ]
     },
     "execution_count": 60,
     "metadata": {},
     "output_type": "execute_result"
    }
   ],
   "source": [
    "df[\"engine-type\"].value_counts()"
   ]
  },
  {
   "cell_type": "code",
   "execution_count": 61,
   "id": "b9ba3d68",
   "metadata": {},
   "outputs": [],
   "source": [
    "df[\"engine-type\"].replace({\"l\":\"ohc\"},inplace=True)"
   ]
  },
  {
   "cell_type": "code",
   "execution_count": 62,
   "id": "353a30c0",
   "metadata": {},
   "outputs": [
    {
     "data": {
      "text/plain": [
       "{'ohc': 160, 'ohcf': 15, 'ohcv': 13, 'dohc': 12, 'rotor': 4, 'dohcv': 1}"
      ]
     },
     "execution_count": 62,
     "metadata": {},
     "output_type": "execute_result"
    }
   ],
   "source": [
    "df[\"engine-type\"].value_counts().to_dict()"
   ]
  },
  {
   "cell_type": "code",
   "execution_count": 63,
   "id": "8ecf56e5",
   "metadata": {},
   "outputs": [],
   "source": [
    "engine_type = {'ohc': 0, 'ohcf': 1, 'ohcv': 2, 'dohc': 3, 'rotor': 4, 'dohcv': 5}"
   ]
  },
  {
   "cell_type": "code",
   "execution_count": 64,
   "id": "a3f331a8",
   "metadata": {},
   "outputs": [],
   "source": [
    "df[\"engine-type\"].replace({'ohc': 0, 'ohcf': 1, 'ohcv': 2, 'dohc': 3, 'rotor': 4, 'dohcv': 5},inplace=True)"
   ]
  },
  {
   "cell_type": "code",
   "execution_count": 65,
   "id": "033012ae",
   "metadata": {},
   "outputs": [
    {
     "data": {
      "text/plain": [
       "0    160\n",
       "1     15\n",
       "2     13\n",
       "3     12\n",
       "4      4\n",
       "5      1\n",
       "Name: engine-type, dtype: int64"
      ]
     },
     "execution_count": 65,
     "metadata": {},
     "output_type": "execute_result"
    }
   ],
   "source": [
    "df[\"engine-type\"].value_counts()"
   ]
  },
  {
   "cell_type": "code",
   "execution_count": 66,
   "id": "dacf819b",
   "metadata": {},
   "outputs": [
    {
     "name": "stdout",
     "output_type": "stream",
     "text": [
      "<class 'pandas.core.frame.DataFrame'>\n",
      "RangeIndex: 205 entries, 0 to 204\n",
      "Data columns (total 37 columns):\n",
      " #   Column                Non-Null Count  Dtype  \n",
      "---  ------                --------------  -----  \n",
      " 0   symboling             205 non-null    int64  \n",
      " 1   normalized-losses     205 non-null    int32  \n",
      " 2   fuel-type             205 non-null    int64  \n",
      " 3   aspiration            205 non-null    int64  \n",
      " 4   num-of-doors          205 non-null    int64  \n",
      " 5   drive-wheels          205 non-null    int64  \n",
      " 6   engine-location       205 non-null    int64  \n",
      " 7   wheel-base            205 non-null    float64\n",
      " 8   length                205 non-null    float64\n",
      " 9   width                 205 non-null    float64\n",
      " 10  height                205 non-null    float64\n",
      " 11  curb-weight           205 non-null    int64  \n",
      " 12  engine-type           205 non-null    int64  \n",
      " 13  num-of-cylinders      205 non-null    object \n",
      " 14  engine-size           205 non-null    int64  \n",
      " 15  fuel-system           205 non-null    object \n",
      " 16  bore                  205 non-null    object \n",
      " 17  stroke                205 non-null    object \n",
      " 18  compression-ratio     205 non-null    float64\n",
      " 19  horsepower            205 non-null    object \n",
      " 20  peak-rpm              205 non-null    object \n",
      " 21  city-mpg              205 non-null    int64  \n",
      " 22  highway-mpg           205 non-null    int64  \n",
      " 23  price                 205 non-null    object \n",
      " 24  make_others           205 non-null    int64  \n",
      " 25  make_mazda            205 non-null    float64\n",
      " 26  make_mitsubishi       205 non-null    float64\n",
      " 27  make_nissan           205 non-null    float64\n",
      " 28  make_peugot           205 non-null    float64\n",
      " 29  make_subaru           205 non-null    float64\n",
      " 30  make_toyota           205 non-null    float64\n",
      " 31  make_volkswagen       205 non-null    float64\n",
      " 32  make_volvo            205 non-null    float64\n",
      " 33  body-style_hardtop    205 non-null    uint8  \n",
      " 34  body-style_hatchback  205 non-null    uint8  \n",
      " 35  body-style_sedan      205 non-null    uint8  \n",
      " 36  body-style_wagon      205 non-null    uint8  \n",
      "dtypes: float64(13), int32(1), int64(12), object(7), uint8(4)\n",
      "memory usage: 53.0+ KB\n"
     ]
    }
   ],
   "source": [
    "df.info()"
   ]
  },
  {
   "cell_type": "markdown",
   "id": "06abfd6f",
   "metadata": {},
   "source": [
    "### 16. Num-of-cylinders"
   ]
  },
  {
   "cell_type": "code",
   "execution_count": 67,
   "id": "eb47ca04",
   "metadata": {},
   "outputs": [
    {
     "data": {
      "text/plain": [
       "array(['four', 'six', 'five', 'three', 'twelve', 'two', 'eight'],\n",
       "      dtype=object)"
      ]
     },
     "execution_count": 67,
     "metadata": {},
     "output_type": "execute_result"
    }
   ],
   "source": [
    "df[\"num-of-cylinders\"].unique()"
   ]
  },
  {
   "cell_type": "code",
   "execution_count": 68,
   "id": "cb374007",
   "metadata": {},
   "outputs": [
    {
     "data": {
      "text/plain": [
       "{'four': 159,\n",
       " 'six': 24,\n",
       " 'five': 11,\n",
       " 'eight': 5,\n",
       " 'two': 4,\n",
       " 'three': 1,\n",
       " 'twelve': 1}"
      ]
     },
     "execution_count": 68,
     "metadata": {},
     "output_type": "execute_result"
    }
   ],
   "source": [
    "df[\"num-of-cylinders\"].value_counts().to_dict()"
   ]
  },
  {
   "cell_type": "code",
   "execution_count": 69,
   "id": "6e06dd78",
   "metadata": {},
   "outputs": [],
   "source": [
    "num_of_cylinders = {'four': 4,'six': 6,'five': 5,'eight': 8,'two': 2,'three': 3,'twelve': 12}"
   ]
  },
  {
   "cell_type": "code",
   "execution_count": 70,
   "id": "558eb336",
   "metadata": {},
   "outputs": [],
   "source": [
    "df[\"num-of-cylinders\"].replace({'four': 4,'six': 6,'five': 5,'eight': 8,'two': 2,'three': 3,'twelve': 12},inplace=True)"
   ]
  },
  {
   "cell_type": "code",
   "execution_count": 71,
   "id": "7885c755",
   "metadata": {},
   "outputs": [
    {
     "data": {
      "text/plain": [
       "4     159\n",
       "6      24\n",
       "5      11\n",
       "8       5\n",
       "2       4\n",
       "3       1\n",
       "12      1\n",
       "Name: num-of-cylinders, dtype: int64"
      ]
     },
     "execution_count": 71,
     "metadata": {},
     "output_type": "execute_result"
    }
   ],
   "source": [
    "df[\"num-of-cylinders\"].value_counts()"
   ]
  },
  {
   "cell_type": "code",
   "execution_count": 72,
   "id": "de202f60",
   "metadata": {},
   "outputs": [
    {
     "name": "stdout",
     "output_type": "stream",
     "text": [
      "<class 'pandas.core.frame.DataFrame'>\n",
      "RangeIndex: 205 entries, 0 to 204\n",
      "Data columns (total 37 columns):\n",
      " #   Column                Non-Null Count  Dtype  \n",
      "---  ------                --------------  -----  \n",
      " 0   symboling             205 non-null    int64  \n",
      " 1   normalized-losses     205 non-null    int32  \n",
      " 2   fuel-type             205 non-null    int64  \n",
      " 3   aspiration            205 non-null    int64  \n",
      " 4   num-of-doors          205 non-null    int64  \n",
      " 5   drive-wheels          205 non-null    int64  \n",
      " 6   engine-location       205 non-null    int64  \n",
      " 7   wheel-base            205 non-null    float64\n",
      " 8   length                205 non-null    float64\n",
      " 9   width                 205 non-null    float64\n",
      " 10  height                205 non-null    float64\n",
      " 11  curb-weight           205 non-null    int64  \n",
      " 12  engine-type           205 non-null    int64  \n",
      " 13  num-of-cylinders      205 non-null    int64  \n",
      " 14  engine-size           205 non-null    int64  \n",
      " 15  fuel-system           205 non-null    object \n",
      " 16  bore                  205 non-null    object \n",
      " 17  stroke                205 non-null    object \n",
      " 18  compression-ratio     205 non-null    float64\n",
      " 19  horsepower            205 non-null    object \n",
      " 20  peak-rpm              205 non-null    object \n",
      " 21  city-mpg              205 non-null    int64  \n",
      " 22  highway-mpg           205 non-null    int64  \n",
      " 23  price                 205 non-null    object \n",
      " 24  make_others           205 non-null    int64  \n",
      " 25  make_mazda            205 non-null    float64\n",
      " 26  make_mitsubishi       205 non-null    float64\n",
      " 27  make_nissan           205 non-null    float64\n",
      " 28  make_peugot           205 non-null    float64\n",
      " 29  make_subaru           205 non-null    float64\n",
      " 30  make_toyota           205 non-null    float64\n",
      " 31  make_volkswagen       205 non-null    float64\n",
      " 32  make_volvo            205 non-null    float64\n",
      " 33  body-style_hardtop    205 non-null    uint8  \n",
      " 34  body-style_hatchback  205 non-null    uint8  \n",
      " 35  body-style_sedan      205 non-null    uint8  \n",
      " 36  body-style_wagon      205 non-null    uint8  \n",
      "dtypes: float64(13), int32(1), int64(13), object(6), uint8(4)\n",
      "memory usage: 53.0+ KB\n"
     ]
    }
   ],
   "source": [
    "df.info()"
   ]
  },
  {
   "cell_type": "markdown",
   "id": "f5242984",
   "metadata": {},
   "source": [
    "### 17. Fuel-system "
   ]
  },
  {
   "cell_type": "code",
   "execution_count": 73,
   "id": "c9403849",
   "metadata": {},
   "outputs": [
    {
     "data": {
      "text/plain": [
       "array(['mpfi', '2bbl', 'mfi', '1bbl', 'spfi', '4bbl', 'idi', 'spdi'],\n",
       "      dtype=object)"
      ]
     },
     "execution_count": 73,
     "metadata": {},
     "output_type": "execute_result"
    }
   ],
   "source": [
    "df[\"fuel-system\"].unique()"
   ]
  },
  {
   "cell_type": "code",
   "execution_count": 74,
   "id": "03edbeaf",
   "metadata": {},
   "outputs": [
    {
     "data": {
      "text/plain": [
       "mpfi    94\n",
       "2bbl    66\n",
       "idi     20\n",
       "1bbl    11\n",
       "spdi     9\n",
       "4bbl     3\n",
       "mfi      1\n",
       "spfi     1\n",
       "Name: fuel-system, dtype: int64"
      ]
     },
     "execution_count": 74,
     "metadata": {},
     "output_type": "execute_result"
    }
   ],
   "source": [
    "df[\"fuel-system\"].value_counts()"
   ]
  },
  {
   "cell_type": "code",
   "execution_count": 75,
   "id": "c821fecb",
   "metadata": {},
   "outputs": [],
   "source": [
    "def others(value):\n",
    "    if value == \"spdi\":\n",
    "        return 1\n",
    "        print(value)\n",
    "    elif value == \"4bbl\":\n",
    "        return 1\n",
    "        print(value)\n",
    "    elif value == \"mfi\":\n",
    "        return 1\n",
    "        print(value)\n",
    "    elif value == \"spfi\":\n",
    "        return 1\n",
    "        print(value)\n",
    "    else:\n",
    "        return 0\n",
    "        print(value)       "
   ]
  },
  {
   "cell_type": "code",
   "execution_count": 76,
   "id": "54bcdc13",
   "metadata": {},
   "outputs": [
    {
     "data": {
      "text/plain": [
       "0     mpfi\n",
       "1     mpfi\n",
       "2     mpfi\n",
       "3     mpfi\n",
       "4     mpfi\n",
       "5     mpfi\n",
       "6     mpfi\n",
       "7     mpfi\n",
       "8     mpfi\n",
       "9     mpfi\n",
       "10    mpfi\n",
       "11    mpfi\n",
       "12    mpfi\n",
       "13    mpfi\n",
       "14    mpfi\n",
       "15    mpfi\n",
       "16    mpfi\n",
       "17    mpfi\n",
       "18    2bbl\n",
       "19    2bbl\n",
       "20    2bbl\n",
       "21    2bbl\n",
       "22    2bbl\n",
       "23    mpfi\n",
       "24    2bbl\n",
       "25    2bbl\n",
       "26    2bbl\n",
       "27    mpfi\n",
       "28    2bbl\n",
       "29     mfi\n",
       "30    1bbl\n",
       "31    1bbl\n",
       "32    1bbl\n",
       "33    1bbl\n",
       "34    1bbl\n",
       "35    1bbl\n",
       "36    1bbl\n",
       "37    1bbl\n",
       "38    1bbl\n",
       "39    1bbl\n",
       "40    1bbl\n",
       "41    mpfi\n",
       "42    2bbl\n",
       "43    2bbl\n",
       "44    2bbl\n",
       "45    2bbl\n",
       "46    spfi\n",
       "47    mpfi\n",
       "48    mpfi\n",
       "49    mpfi\n",
       "Name: fuel-system, dtype: object"
      ]
     },
     "execution_count": 76,
     "metadata": {},
     "output_type": "execute_result"
    }
   ],
   "source": [
    "df[\"fuel-system\"].head(50)"
   ]
  },
  {
   "cell_type": "code",
   "execution_count": 77,
   "id": "620d698a",
   "metadata": {},
   "outputs": [],
   "source": [
    "df[\"fuel-system_others\"] = df[\"fuel-system\"].apply(others)"
   ]
  },
  {
   "cell_type": "code",
   "execution_count": 78,
   "id": "1d2fc6a1",
   "metadata": {},
   "outputs": [],
   "source": [
    "df = pd.get_dummies(df,columns=[\"fuel-system\"],drop_first=True)"
   ]
  },
  {
   "cell_type": "code",
   "execution_count": 79,
   "id": "d62f1f78",
   "metadata": {},
   "outputs": [
    {
     "data": {
      "text/html": [
       "<div>\n",
       "<style scoped>\n",
       "    .dataframe tbody tr th:only-of-type {\n",
       "        vertical-align: middle;\n",
       "    }\n",
       "\n",
       "    .dataframe tbody tr th {\n",
       "        vertical-align: top;\n",
       "    }\n",
       "\n",
       "    .dataframe thead th {\n",
       "        text-align: right;\n",
       "    }\n",
       "</style>\n",
       "<table border=\"1\" class=\"dataframe\">\n",
       "  <thead>\n",
       "    <tr style=\"text-align: right;\">\n",
       "      <th></th>\n",
       "      <th>symboling</th>\n",
       "      <th>normalized-losses</th>\n",
       "      <th>fuel-type</th>\n",
       "      <th>aspiration</th>\n",
       "      <th>num-of-doors</th>\n",
       "      <th>drive-wheels</th>\n",
       "      <th>engine-location</th>\n",
       "      <th>wheel-base</th>\n",
       "      <th>length</th>\n",
       "      <th>width</th>\n",
       "      <th>...</th>\n",
       "      <th>body-style_sedan</th>\n",
       "      <th>body-style_wagon</th>\n",
       "      <th>fuel-system_others</th>\n",
       "      <th>fuel-system_2bbl</th>\n",
       "      <th>fuel-system_4bbl</th>\n",
       "      <th>fuel-system_idi</th>\n",
       "      <th>fuel-system_mfi</th>\n",
       "      <th>fuel-system_mpfi</th>\n",
       "      <th>fuel-system_spdi</th>\n",
       "      <th>fuel-system_spfi</th>\n",
       "    </tr>\n",
       "  </thead>\n",
       "  <tbody>\n",
       "    <tr>\n",
       "      <th>0</th>\n",
       "      <td>3</td>\n",
       "      <td>122</td>\n",
       "      <td>0</td>\n",
       "      <td>0</td>\n",
       "      <td>2</td>\n",
       "      <td>1</td>\n",
       "      <td>0</td>\n",
       "      <td>88.6</td>\n",
       "      <td>168.8</td>\n",
       "      <td>64.1</td>\n",
       "      <td>...</td>\n",
       "      <td>0</td>\n",
       "      <td>0</td>\n",
       "      <td>0</td>\n",
       "      <td>0</td>\n",
       "      <td>0</td>\n",
       "      <td>0</td>\n",
       "      <td>0</td>\n",
       "      <td>1</td>\n",
       "      <td>0</td>\n",
       "      <td>0</td>\n",
       "    </tr>\n",
       "    <tr>\n",
       "      <th>1</th>\n",
       "      <td>3</td>\n",
       "      <td>122</td>\n",
       "      <td>0</td>\n",
       "      <td>0</td>\n",
       "      <td>2</td>\n",
       "      <td>1</td>\n",
       "      <td>0</td>\n",
       "      <td>88.6</td>\n",
       "      <td>168.8</td>\n",
       "      <td>64.1</td>\n",
       "      <td>...</td>\n",
       "      <td>0</td>\n",
       "      <td>0</td>\n",
       "      <td>0</td>\n",
       "      <td>0</td>\n",
       "      <td>0</td>\n",
       "      <td>0</td>\n",
       "      <td>0</td>\n",
       "      <td>1</td>\n",
       "      <td>0</td>\n",
       "      <td>0</td>\n",
       "    </tr>\n",
       "    <tr>\n",
       "      <th>2</th>\n",
       "      <td>1</td>\n",
       "      <td>122</td>\n",
       "      <td>0</td>\n",
       "      <td>0</td>\n",
       "      <td>2</td>\n",
       "      <td>1</td>\n",
       "      <td>0</td>\n",
       "      <td>94.5</td>\n",
       "      <td>171.2</td>\n",
       "      <td>65.5</td>\n",
       "      <td>...</td>\n",
       "      <td>0</td>\n",
       "      <td>0</td>\n",
       "      <td>0</td>\n",
       "      <td>0</td>\n",
       "      <td>0</td>\n",
       "      <td>0</td>\n",
       "      <td>0</td>\n",
       "      <td>1</td>\n",
       "      <td>0</td>\n",
       "      <td>0</td>\n",
       "    </tr>\n",
       "    <tr>\n",
       "      <th>3</th>\n",
       "      <td>2</td>\n",
       "      <td>164</td>\n",
       "      <td>0</td>\n",
       "      <td>0</td>\n",
       "      <td>4</td>\n",
       "      <td>0</td>\n",
       "      <td>0</td>\n",
       "      <td>99.8</td>\n",
       "      <td>176.6</td>\n",
       "      <td>66.2</td>\n",
       "      <td>...</td>\n",
       "      <td>1</td>\n",
       "      <td>0</td>\n",
       "      <td>0</td>\n",
       "      <td>0</td>\n",
       "      <td>0</td>\n",
       "      <td>0</td>\n",
       "      <td>0</td>\n",
       "      <td>1</td>\n",
       "      <td>0</td>\n",
       "      <td>0</td>\n",
       "    </tr>\n",
       "    <tr>\n",
       "      <th>4</th>\n",
       "      <td>2</td>\n",
       "      <td>164</td>\n",
       "      <td>0</td>\n",
       "      <td>0</td>\n",
       "      <td>4</td>\n",
       "      <td>4</td>\n",
       "      <td>0</td>\n",
       "      <td>99.4</td>\n",
       "      <td>176.6</td>\n",
       "      <td>66.4</td>\n",
       "      <td>...</td>\n",
       "      <td>1</td>\n",
       "      <td>0</td>\n",
       "      <td>0</td>\n",
       "      <td>0</td>\n",
       "      <td>0</td>\n",
       "      <td>0</td>\n",
       "      <td>0</td>\n",
       "      <td>1</td>\n",
       "      <td>0</td>\n",
       "      <td>0</td>\n",
       "    </tr>\n",
       "  </tbody>\n",
       "</table>\n",
       "<p>5 rows × 44 columns</p>\n",
       "</div>"
      ],
      "text/plain": [
       "   symboling  normalized-losses  fuel-type  aspiration  num-of-doors  \\\n",
       "0          3                122          0           0             2   \n",
       "1          3                122          0           0             2   \n",
       "2          1                122          0           0             2   \n",
       "3          2                164          0           0             4   \n",
       "4          2                164          0           0             4   \n",
       "\n",
       "   drive-wheels  engine-location  wheel-base  length  width  ...  \\\n",
       "0             1                0        88.6   168.8   64.1  ...   \n",
       "1             1                0        88.6   168.8   64.1  ...   \n",
       "2             1                0        94.5   171.2   65.5  ...   \n",
       "3             0                0        99.8   176.6   66.2  ...   \n",
       "4             4                0        99.4   176.6   66.4  ...   \n",
       "\n",
       "   body-style_sedan  body-style_wagon  fuel-system_others  fuel-system_2bbl  \\\n",
       "0                 0                 0                   0                 0   \n",
       "1                 0                 0                   0                 0   \n",
       "2                 0                 0                   0                 0   \n",
       "3                 1                 0                   0                 0   \n",
       "4                 1                 0                   0                 0   \n",
       "\n",
       "   fuel-system_4bbl fuel-system_idi fuel-system_mfi  fuel-system_mpfi  \\\n",
       "0                 0               0               0                 1   \n",
       "1                 0               0               0                 1   \n",
       "2                 0               0               0                 1   \n",
       "3                 0               0               0                 1   \n",
       "4                 0               0               0                 1   \n",
       "\n",
       "  fuel-system_spdi fuel-system_spfi  \n",
       "0                0                0  \n",
       "1                0                0  \n",
       "2                0                0  \n",
       "3                0                0  \n",
       "4                0                0  \n",
       "\n",
       "[5 rows x 44 columns]"
      ]
     },
     "execution_count": 79,
     "metadata": {},
     "output_type": "execute_result"
    }
   ],
   "source": [
    "df.head(5)"
   ]
  },
  {
   "cell_type": "code",
   "execution_count": 80,
   "id": "b6dec1b1",
   "metadata": {},
   "outputs": [
    {
     "data": {
      "text/plain": [
       "Index(['symboling', 'normalized-losses', 'fuel-type', 'aspiration',\n",
       "       'num-of-doors', 'drive-wheels', 'engine-location', 'wheel-base',\n",
       "       'length', 'width', 'height', 'curb-weight', 'engine-type',\n",
       "       'num-of-cylinders', 'engine-size', 'bore', 'stroke',\n",
       "       'compression-ratio', 'horsepower', 'peak-rpm', 'city-mpg',\n",
       "       'highway-mpg', 'price', 'make_others', 'make_mazda', 'make_mitsubishi',\n",
       "       'make_nissan', 'make_peugot', 'make_subaru', 'make_toyota',\n",
       "       'make_volkswagen', 'make_volvo', 'body-style_hardtop',\n",
       "       'body-style_hatchback', 'body-style_sedan', 'body-style_wagon',\n",
       "       'fuel-system_others', 'fuel-system_2bbl', 'fuel-system_4bbl',\n",
       "       'fuel-system_idi', 'fuel-system_mfi', 'fuel-system_mpfi',\n",
       "       'fuel-system_spdi', 'fuel-system_spfi'],\n",
       "      dtype='object')"
      ]
     },
     "execution_count": 80,
     "metadata": {},
     "output_type": "execute_result"
    }
   ],
   "source": [
    "df.columns"
   ]
  },
  {
   "cell_type": "code",
   "execution_count": 81,
   "id": "f2ec337b",
   "metadata": {},
   "outputs": [],
   "source": [
    "df.drop([\"fuel-system_4bbl\",'fuel-system_mfi','fuel-system_spdi','fuel-system_spfi'],axis=1,inplace=True)"
   ]
  },
  {
   "cell_type": "code",
   "execution_count": 82,
   "id": "bcc47b29",
   "metadata": {},
   "outputs": [
    {
     "data": {
      "text/plain": [
       "Index(['symboling', 'normalized-losses', 'fuel-type', 'aspiration',\n",
       "       'num-of-doors', 'drive-wheels', 'engine-location', 'wheel-base',\n",
       "       'length', 'width', 'height', 'curb-weight', 'engine-type',\n",
       "       'num-of-cylinders', 'engine-size', 'bore', 'stroke',\n",
       "       'compression-ratio', 'horsepower', 'peak-rpm', 'city-mpg',\n",
       "       'highway-mpg', 'price', 'make_others', 'make_mazda', 'make_mitsubishi',\n",
       "       'make_nissan', 'make_peugot', 'make_subaru', 'make_toyota',\n",
       "       'make_volkswagen', 'make_volvo', 'body-style_hardtop',\n",
       "       'body-style_hatchback', 'body-style_sedan', 'body-style_wagon',\n",
       "       'fuel-system_others', 'fuel-system_2bbl', 'fuel-system_idi',\n",
       "       'fuel-system_mpfi'],\n",
       "      dtype='object')"
      ]
     },
     "execution_count": 82,
     "metadata": {},
     "output_type": "execute_result"
    }
   ],
   "source": [
    "df.columns"
   ]
  },
  {
   "cell_type": "code",
   "execution_count": 83,
   "id": "4e6877e5",
   "metadata": {},
   "outputs": [
    {
     "name": "stdout",
     "output_type": "stream",
     "text": [
      "<class 'pandas.core.frame.DataFrame'>\n",
      "RangeIndex: 205 entries, 0 to 204\n",
      "Data columns (total 40 columns):\n",
      " #   Column                Non-Null Count  Dtype  \n",
      "---  ------                --------------  -----  \n",
      " 0   symboling             205 non-null    int64  \n",
      " 1   normalized-losses     205 non-null    int32  \n",
      " 2   fuel-type             205 non-null    int64  \n",
      " 3   aspiration            205 non-null    int64  \n",
      " 4   num-of-doors          205 non-null    int64  \n",
      " 5   drive-wheels          205 non-null    int64  \n",
      " 6   engine-location       205 non-null    int64  \n",
      " 7   wheel-base            205 non-null    float64\n",
      " 8   length                205 non-null    float64\n",
      " 9   width                 205 non-null    float64\n",
      " 10  height                205 non-null    float64\n",
      " 11  curb-weight           205 non-null    int64  \n",
      " 12  engine-type           205 non-null    int64  \n",
      " 13  num-of-cylinders      205 non-null    int64  \n",
      " 14  engine-size           205 non-null    int64  \n",
      " 15  bore                  205 non-null    object \n",
      " 16  stroke                205 non-null    object \n",
      " 17  compression-ratio     205 non-null    float64\n",
      " 18  horsepower            205 non-null    object \n",
      " 19  peak-rpm              205 non-null    object \n",
      " 20  city-mpg              205 non-null    int64  \n",
      " 21  highway-mpg           205 non-null    int64  \n",
      " 22  price                 205 non-null    object \n",
      " 23  make_others           205 non-null    int64  \n",
      " 24  make_mazda            205 non-null    float64\n",
      " 25  make_mitsubishi       205 non-null    float64\n",
      " 26  make_nissan           205 non-null    float64\n",
      " 27  make_peugot           205 non-null    float64\n",
      " 28  make_subaru           205 non-null    float64\n",
      " 29  make_toyota           205 non-null    float64\n",
      " 30  make_volkswagen       205 non-null    float64\n",
      " 31  make_volvo            205 non-null    float64\n",
      " 32  body-style_hardtop    205 non-null    uint8  \n",
      " 33  body-style_hatchback  205 non-null    uint8  \n",
      " 34  body-style_sedan      205 non-null    uint8  \n",
      " 35  body-style_wagon      205 non-null    uint8  \n",
      " 36  fuel-system_others    205 non-null    int64  \n",
      " 37  fuel-system_2bbl      205 non-null    uint8  \n",
      " 38  fuel-system_idi       205 non-null    uint8  \n",
      " 39  fuel-system_mpfi      205 non-null    uint8  \n",
      "dtypes: float64(13), int32(1), int64(14), object(5), uint8(7)\n",
      "memory usage: 53.6+ KB\n"
     ]
    }
   ],
   "source": [
    "df.info()"
   ]
  },
  {
   "cell_type": "markdown",
   "id": "c02daa5d",
   "metadata": {},
   "source": [
    "### 18. Bore"
   ]
  },
  {
   "cell_type": "code",
   "execution_count": 84,
   "id": "72d04265",
   "metadata": {},
   "outputs": [
    {
     "data": {
      "text/plain": [
       "array(['3.47', '2.68', '3.19', '3.13', '3.5', '3.31', '3.62', '2.91',\n",
       "       '3.03', '2.97', '3.34', '3.6', '2.92', '3.15', '3.43', '3.63',\n",
       "       '3.54', '3.08', '?', '3.39', '3.76', '3.58', '3.46', '3.8', '3.78',\n",
       "       '3.17', '3.35', '3.59', '2.99', '3.33', '3.7', '3.61', '3.94',\n",
       "       '3.74', '2.54', '3.05', '3.27', '3.24', '3.01'], dtype=object)"
      ]
     },
     "execution_count": 84,
     "metadata": {},
     "output_type": "execute_result"
    }
   ],
   "source": [
    "df[\"bore\"].unique()"
   ]
  },
  {
   "cell_type": "code",
   "execution_count": 85,
   "id": "4000fb30",
   "metadata": {},
   "outputs": [
    {
     "data": {
      "text/plain": [
       "3.62    23\n",
       "3.19    20\n",
       "3.15    15\n",
       "3.03    12\n",
       "2.97    12\n",
       "3.46     9\n",
       "3.31     8\n",
       "3.78     8\n",
       "3.43     8\n",
       "3.27     7\n",
       "2.91     7\n",
       "3.39     6\n",
       "3.54     6\n",
       "3.05     6\n",
       "3.58     6\n",
       "3.7      5\n",
       "3.01     5\n",
       "3.35     4\n",
       "?        4\n",
       "3.17     3\n",
       "3.59     3\n",
       "3.74     3\n",
       "3.47     2\n",
       "3.94     2\n",
       "3.24     2\n",
       "3.13     2\n",
       "3.63     2\n",
       "3.5      2\n",
       "3.8      2\n",
       "3.33     2\n",
       "2.54     1\n",
       "3.08     1\n",
       "3.61     1\n",
       "3.34     1\n",
       "3.6      1\n",
       "2.92     1\n",
       "3.76     1\n",
       "2.68     1\n",
       "2.99     1\n",
       "Name: bore, dtype: int64"
      ]
     },
     "execution_count": 85,
     "metadata": {},
     "output_type": "execute_result"
    }
   ],
   "source": [
    "df[\"bore\"].value_counts()"
   ]
  },
  {
   "cell_type": "code",
   "execution_count": 86,
   "id": "a75d5327",
   "metadata": {},
   "outputs": [],
   "source": [
    "bore_mean = df.loc[~(df[\"bore\"] == \"?\"), \"bore\"].astype(float).mean()"
   ]
  },
  {
   "cell_type": "code",
   "execution_count": 87,
   "id": "169299e8",
   "metadata": {},
   "outputs": [],
   "source": [
    "df.loc[(df[\"bore\"] == \"?\"), \"bore\"] = 3.32"
   ]
  },
  {
   "cell_type": "code",
   "execution_count": 88,
   "id": "4213df05",
   "metadata": {},
   "outputs": [
    {
     "data": {
      "text/plain": [
       "3.62    23\n",
       "3.19    20\n",
       "3.15    15\n",
       "3.03    12\n",
       "2.97    12\n",
       "3.46     9\n",
       "3.31     8\n",
       "3.78     8\n",
       "3.43     8\n",
       "3.27     7\n",
       "2.91     7\n",
       "3.39     6\n",
       "3.54     6\n",
       "3.05     6\n",
       "3.58     6\n",
       "3.7      5\n",
       "3.01     5\n",
       "3.35     4\n",
       "3.32     4\n",
       "3.17     3\n",
       "3.59     3\n",
       "3.74     3\n",
       "3.47     2\n",
       "3.94     2\n",
       "3.24     2\n",
       "3.13     2\n",
       "3.63     2\n",
       "3.5      2\n",
       "3.8      2\n",
       "3.33     2\n",
       "2.54     1\n",
       "3.08     1\n",
       "3.61     1\n",
       "3.34     1\n",
       "3.6      1\n",
       "2.92     1\n",
       "3.76     1\n",
       "2.68     1\n",
       "2.99     1\n",
       "Name: bore, dtype: int64"
      ]
     },
     "execution_count": 88,
     "metadata": {},
     "output_type": "execute_result"
    }
   ],
   "source": [
    "df[\"bore\"].value_counts()"
   ]
  },
  {
   "cell_type": "code",
   "execution_count": 89,
   "id": "c8f79ba9",
   "metadata": {},
   "outputs": [],
   "source": [
    "df[\"bore\"] = df[\"bore\"].astype(float)"
   ]
  },
  {
   "cell_type": "code",
   "execution_count": 90,
   "id": "51c1d7e0",
   "metadata": {},
   "outputs": [
    {
     "name": "stdout",
     "output_type": "stream",
     "text": [
      "<class 'pandas.core.frame.DataFrame'>\n",
      "RangeIndex: 205 entries, 0 to 204\n",
      "Data columns (total 40 columns):\n",
      " #   Column                Non-Null Count  Dtype  \n",
      "---  ------                --------------  -----  \n",
      " 0   symboling             205 non-null    int64  \n",
      " 1   normalized-losses     205 non-null    int32  \n",
      " 2   fuel-type             205 non-null    int64  \n",
      " 3   aspiration            205 non-null    int64  \n",
      " 4   num-of-doors          205 non-null    int64  \n",
      " 5   drive-wheels          205 non-null    int64  \n",
      " 6   engine-location       205 non-null    int64  \n",
      " 7   wheel-base            205 non-null    float64\n",
      " 8   length                205 non-null    float64\n",
      " 9   width                 205 non-null    float64\n",
      " 10  height                205 non-null    float64\n",
      " 11  curb-weight           205 non-null    int64  \n",
      " 12  engine-type           205 non-null    int64  \n",
      " 13  num-of-cylinders      205 non-null    int64  \n",
      " 14  engine-size           205 non-null    int64  \n",
      " 15  bore                  205 non-null    float64\n",
      " 16  stroke                205 non-null    object \n",
      " 17  compression-ratio     205 non-null    float64\n",
      " 18  horsepower            205 non-null    object \n",
      " 19  peak-rpm              205 non-null    object \n",
      " 20  city-mpg              205 non-null    int64  \n",
      " 21  highway-mpg           205 non-null    int64  \n",
      " 22  price                 205 non-null    object \n",
      " 23  make_others           205 non-null    int64  \n",
      " 24  make_mazda            205 non-null    float64\n",
      " 25  make_mitsubishi       205 non-null    float64\n",
      " 26  make_nissan           205 non-null    float64\n",
      " 27  make_peugot           205 non-null    float64\n",
      " 28  make_subaru           205 non-null    float64\n",
      " 29  make_toyota           205 non-null    float64\n",
      " 30  make_volkswagen       205 non-null    float64\n",
      " 31  make_volvo            205 non-null    float64\n",
      " 32  body-style_hardtop    205 non-null    uint8  \n",
      " 33  body-style_hatchback  205 non-null    uint8  \n",
      " 34  body-style_sedan      205 non-null    uint8  \n",
      " 35  body-style_wagon      205 non-null    uint8  \n",
      " 36  fuel-system_others    205 non-null    int64  \n",
      " 37  fuel-system_2bbl      205 non-null    uint8  \n",
      " 38  fuel-system_idi       205 non-null    uint8  \n",
      " 39  fuel-system_mpfi      205 non-null    uint8  \n",
      "dtypes: float64(14), int32(1), int64(14), object(4), uint8(7)\n",
      "memory usage: 53.6+ KB\n"
     ]
    }
   ],
   "source": [
    "df.info()"
   ]
  },
  {
   "cell_type": "markdown",
   "id": "a733845a",
   "metadata": {},
   "source": [
    "### 19. Stroke"
   ]
  },
  {
   "cell_type": "code",
   "execution_count": 91,
   "id": "98f1b08b",
   "metadata": {},
   "outputs": [
    {
     "data": {
      "text/plain": [
       "array(['2.68', '3.47', '3.4', '2.8', '3.19', '3.39', '3.03', '3.11',\n",
       "       '3.23', '3.46', '3.9', '3.41', '3.07', '3.58', '4.17', '2.76',\n",
       "       '3.15', '?', '3.16', '3.64', '3.1', '3.35', '3.12', '3.86', '3.29',\n",
       "       '3.27', '3.52', '2.19', '3.21', '2.9', '2.07', '2.36', '2.64',\n",
       "       '3.08', '3.5', '3.54', '2.87'], dtype=object)"
      ]
     },
     "execution_count": 91,
     "metadata": {},
     "output_type": "execute_result"
    }
   ],
   "source": [
    "df[\"stroke\"].unique()"
   ]
  },
  {
   "cell_type": "code",
   "execution_count": 92,
   "id": "224fcb1d",
   "metadata": {},
   "outputs": [
    {
     "data": {
      "text/plain": [
       "3.4     20\n",
       "3.23    14\n",
       "3.15    14\n",
       "3.03    14\n",
       "3.39    13\n",
       "2.64    11\n",
       "3.29     9\n",
       "3.35     9\n",
       "3.46     8\n",
       "3.11     6\n",
       "3.27     6\n",
       "3.41     6\n",
       "3.07     6\n",
       "3.58     6\n",
       "3.19     6\n",
       "3.5      6\n",
       "3.64     5\n",
       "3.52     5\n",
       "3.86     4\n",
       "3.54     4\n",
       "3.47     4\n",
       "?        4\n",
       "3.9      3\n",
       "2.9      3\n",
       "3.1      2\n",
       "4.17     2\n",
       "2.8      2\n",
       "2.19     2\n",
       "3.08     2\n",
       "2.68     2\n",
       "2.36     1\n",
       "3.16     1\n",
       "2.07     1\n",
       "3.21     1\n",
       "3.12     1\n",
       "2.76     1\n",
       "2.87     1\n",
       "Name: stroke, dtype: int64"
      ]
     },
     "execution_count": 92,
     "metadata": {},
     "output_type": "execute_result"
    }
   ],
   "source": [
    "df[\"stroke\"].value_counts()"
   ]
  },
  {
   "cell_type": "code",
   "execution_count": 93,
   "id": "3f73ecab",
   "metadata": {},
   "outputs": [],
   "source": [
    "stroke_mean = round(df.loc[~(df[\"stroke\"] == \"?\"), \"stroke\"].astype(float).mean(),2)"
   ]
  },
  {
   "cell_type": "code",
   "execution_count": 94,
   "id": "d572d7e5",
   "metadata": {},
   "outputs": [],
   "source": [
    "df.loc[(df[\"stroke\"] == \"?\"), \"stroke\"] = stroke_mean"
   ]
  },
  {
   "cell_type": "code",
   "execution_count": 95,
   "id": "a2635b50",
   "metadata": {},
   "outputs": [
    {
     "data": {
      "text/plain": [
       "3.4     20\n",
       "3.23    14\n",
       "3.15    14\n",
       "3.03    14\n",
       "3.39    13\n",
       "2.64    11\n",
       "3.29     9\n",
       "3.35     9\n",
       "3.46     8\n",
       "3.11     6\n",
       "3.27     6\n",
       "3.41     6\n",
       "3.07     6\n",
       "3.58     6\n",
       "3.19     6\n",
       "3.5      6\n",
       "3.64     5\n",
       "3.52     5\n",
       "3.86     4\n",
       "3.54     4\n",
       "3.47     4\n",
       "3.26     4\n",
       "3.9      3\n",
       "2.9      3\n",
       "3.1      2\n",
       "4.17     2\n",
       "2.8      2\n",
       "2.19     2\n",
       "3.08     2\n",
       "2.68     2\n",
       "2.36     1\n",
       "3.16     1\n",
       "2.07     1\n",
       "3.21     1\n",
       "3.12     1\n",
       "2.76     1\n",
       "2.87     1\n",
       "Name: stroke, dtype: int64"
      ]
     },
     "execution_count": 95,
     "metadata": {},
     "output_type": "execute_result"
    }
   ],
   "source": [
    "df[\"stroke\"].value_counts()"
   ]
  },
  {
   "cell_type": "code",
   "execution_count": 96,
   "id": "d7a4138e",
   "metadata": {},
   "outputs": [],
   "source": [
    "df[\"stroke\"] = df[\"stroke\"].astype(float)"
   ]
  },
  {
   "cell_type": "code",
   "execution_count": 97,
   "id": "9a6bcbd4",
   "metadata": {},
   "outputs": [
    {
     "name": "stdout",
     "output_type": "stream",
     "text": [
      "<class 'pandas.core.frame.DataFrame'>\n",
      "RangeIndex: 205 entries, 0 to 204\n",
      "Data columns (total 40 columns):\n",
      " #   Column                Non-Null Count  Dtype  \n",
      "---  ------                --------------  -----  \n",
      " 0   symboling             205 non-null    int64  \n",
      " 1   normalized-losses     205 non-null    int32  \n",
      " 2   fuel-type             205 non-null    int64  \n",
      " 3   aspiration            205 non-null    int64  \n",
      " 4   num-of-doors          205 non-null    int64  \n",
      " 5   drive-wheels          205 non-null    int64  \n",
      " 6   engine-location       205 non-null    int64  \n",
      " 7   wheel-base            205 non-null    float64\n",
      " 8   length                205 non-null    float64\n",
      " 9   width                 205 non-null    float64\n",
      " 10  height                205 non-null    float64\n",
      " 11  curb-weight           205 non-null    int64  \n",
      " 12  engine-type           205 non-null    int64  \n",
      " 13  num-of-cylinders      205 non-null    int64  \n",
      " 14  engine-size           205 non-null    int64  \n",
      " 15  bore                  205 non-null    float64\n",
      " 16  stroke                205 non-null    float64\n",
      " 17  compression-ratio     205 non-null    float64\n",
      " 18  horsepower            205 non-null    object \n",
      " 19  peak-rpm              205 non-null    object \n",
      " 20  city-mpg              205 non-null    int64  \n",
      " 21  highway-mpg           205 non-null    int64  \n",
      " 22  price                 205 non-null    object \n",
      " 23  make_others           205 non-null    int64  \n",
      " 24  make_mazda            205 non-null    float64\n",
      " 25  make_mitsubishi       205 non-null    float64\n",
      " 26  make_nissan           205 non-null    float64\n",
      " 27  make_peugot           205 non-null    float64\n",
      " 28  make_subaru           205 non-null    float64\n",
      " 29  make_toyota           205 non-null    float64\n",
      " 30  make_volkswagen       205 non-null    float64\n",
      " 31  make_volvo            205 non-null    float64\n",
      " 32  body-style_hardtop    205 non-null    uint8  \n",
      " 33  body-style_hatchback  205 non-null    uint8  \n",
      " 34  body-style_sedan      205 non-null    uint8  \n",
      " 35  body-style_wagon      205 non-null    uint8  \n",
      " 36  fuel-system_others    205 non-null    int64  \n",
      " 37  fuel-system_2bbl      205 non-null    uint8  \n",
      " 38  fuel-system_idi       205 non-null    uint8  \n",
      " 39  fuel-system_mpfi      205 non-null    uint8  \n",
      "dtypes: float64(15), int32(1), int64(14), object(3), uint8(7)\n",
      "memory usage: 53.6+ KB\n"
     ]
    }
   ],
   "source": [
    "df.info()"
   ]
  },
  {
   "cell_type": "markdown",
   "id": "e65e4a13",
   "metadata": {},
   "source": [
    "### 20. Horsepower"
   ]
  },
  {
   "cell_type": "code",
   "execution_count": 98,
   "id": "df0f7115",
   "metadata": {},
   "outputs": [
    {
     "data": {
      "text/plain": [
       "array(['111', '154', '102', '115', '110', '140', '160', '101', '121',\n",
       "       '182', '48', '70', '68', '88', '145', '58', '76', '60', '86',\n",
       "       '100', '78', '90', '176', '262', '135', '84', '64', '120', '72',\n",
       "       '123', '155', '184', '175', '116', '69', '55', '97', '152', '200',\n",
       "       '95', '142', '143', '207', '288', '?', '73', '82', '94', '62',\n",
       "       '56', '112', '92', '161', '156', '52', '85', '114', '162', '134',\n",
       "       '106'], dtype=object)"
      ]
     },
     "execution_count": 98,
     "metadata": {},
     "output_type": "execute_result"
    }
   ],
   "source": [
    "df[\"horsepower\"].unique()"
   ]
  },
  {
   "cell_type": "code",
   "execution_count": 99,
   "id": "98d7957c",
   "metadata": {},
   "outputs": [
    {
     "data": {
      "text/plain": [
       "68     19\n",
       "70     11\n",
       "69     10\n",
       "116     9\n",
       "110     8\n",
       "95      7\n",
       "88      6\n",
       "62      6\n",
       "101     6\n",
       "160     6\n",
       "114     6\n",
       "84      5\n",
       "97      5\n",
       "102     5\n",
       "145     5\n",
       "82      5\n",
       "76      5\n",
       "111     4\n",
       "92      4\n",
       "123     4\n",
       "86      4\n",
       "90      3\n",
       "73      3\n",
       "85      3\n",
       "207     3\n",
       "182     3\n",
       "121     3\n",
       "152     3\n",
       "112     2\n",
       "56      2\n",
       "161     2\n",
       "156     2\n",
       "94      2\n",
       "52      2\n",
       "?       2\n",
       "162     2\n",
       "155     2\n",
       "184     2\n",
       "100     2\n",
       "176     2\n",
       "55      1\n",
       "262     1\n",
       "134     1\n",
       "115     1\n",
       "140     1\n",
       "48      1\n",
       "58      1\n",
       "60      1\n",
       "78      1\n",
       "135     1\n",
       "200     1\n",
       "64      1\n",
       "120     1\n",
       "72      1\n",
       "154     1\n",
       "288     1\n",
       "143     1\n",
       "142     1\n",
       "175     1\n",
       "106     1\n",
       "Name: horsepower, dtype: int64"
      ]
     },
     "execution_count": 99,
     "metadata": {},
     "output_type": "execute_result"
    }
   ],
   "source": [
    "df[\"horsepower\"].value_counts()"
   ]
  },
  {
   "cell_type": "code",
   "execution_count": 100,
   "id": "e9e14485",
   "metadata": {},
   "outputs": [],
   "source": [
    "horsepower_mean = round(df.loc[~(df[\"horsepower\"] == \"?\"),\"horsepower\"].astype(float).mean())"
   ]
  },
  {
   "cell_type": "code",
   "execution_count": 101,
   "id": "56b15e42",
   "metadata": {},
   "outputs": [],
   "source": [
    "df.loc[(df[\"horsepower\"] == \"?\"),\"horsepower\"] = horsepower_mean"
   ]
  },
  {
   "cell_type": "code",
   "execution_count": 102,
   "id": "73b5d325",
   "metadata": {},
   "outputs": [],
   "source": [
    "df[\"horsepower\"] = df[\"horsepower\"].astype(float)"
   ]
  },
  {
   "cell_type": "code",
   "execution_count": 103,
   "id": "c79b8613",
   "metadata": {},
   "outputs": [
    {
     "name": "stdout",
     "output_type": "stream",
     "text": [
      "<class 'pandas.core.frame.DataFrame'>\n",
      "RangeIndex: 205 entries, 0 to 204\n",
      "Data columns (total 40 columns):\n",
      " #   Column                Non-Null Count  Dtype  \n",
      "---  ------                --------------  -----  \n",
      " 0   symboling             205 non-null    int64  \n",
      " 1   normalized-losses     205 non-null    int32  \n",
      " 2   fuel-type             205 non-null    int64  \n",
      " 3   aspiration            205 non-null    int64  \n",
      " 4   num-of-doors          205 non-null    int64  \n",
      " 5   drive-wheels          205 non-null    int64  \n",
      " 6   engine-location       205 non-null    int64  \n",
      " 7   wheel-base            205 non-null    float64\n",
      " 8   length                205 non-null    float64\n",
      " 9   width                 205 non-null    float64\n",
      " 10  height                205 non-null    float64\n",
      " 11  curb-weight           205 non-null    int64  \n",
      " 12  engine-type           205 non-null    int64  \n",
      " 13  num-of-cylinders      205 non-null    int64  \n",
      " 14  engine-size           205 non-null    int64  \n",
      " 15  bore                  205 non-null    float64\n",
      " 16  stroke                205 non-null    float64\n",
      " 17  compression-ratio     205 non-null    float64\n",
      " 18  horsepower            205 non-null    float64\n",
      " 19  peak-rpm              205 non-null    object \n",
      " 20  city-mpg              205 non-null    int64  \n",
      " 21  highway-mpg           205 non-null    int64  \n",
      " 22  price                 205 non-null    object \n",
      " 23  make_others           205 non-null    int64  \n",
      " 24  make_mazda            205 non-null    float64\n",
      " 25  make_mitsubishi       205 non-null    float64\n",
      " 26  make_nissan           205 non-null    float64\n",
      " 27  make_peugot           205 non-null    float64\n",
      " 28  make_subaru           205 non-null    float64\n",
      " 29  make_toyota           205 non-null    float64\n",
      " 30  make_volkswagen       205 non-null    float64\n",
      " 31  make_volvo            205 non-null    float64\n",
      " 32  body-style_hardtop    205 non-null    uint8  \n",
      " 33  body-style_hatchback  205 non-null    uint8  \n",
      " 34  body-style_sedan      205 non-null    uint8  \n",
      " 35  body-style_wagon      205 non-null    uint8  \n",
      " 36  fuel-system_others    205 non-null    int64  \n",
      " 37  fuel-system_2bbl      205 non-null    uint8  \n",
      " 38  fuel-system_idi       205 non-null    uint8  \n",
      " 39  fuel-system_mpfi      205 non-null    uint8  \n",
      "dtypes: float64(16), int32(1), int64(14), object(2), uint8(7)\n",
      "memory usage: 53.6+ KB\n"
     ]
    }
   ],
   "source": [
    "df.info()"
   ]
  },
  {
   "cell_type": "markdown",
   "id": "7b9f9434",
   "metadata": {},
   "source": [
    "### 21. Peak-rpm"
   ]
  },
  {
   "cell_type": "code",
   "execution_count": 104,
   "id": "52cb6f41",
   "metadata": {},
   "outputs": [
    {
     "data": {
      "text/plain": [
       "array(['5000', '5500', '5800', '4250', '5400', '5100', '4800', '6000',\n",
       "       '4750', '4650', '4200', '4350', '4500', '5200', '4150', '5600',\n",
       "       '5900', '5750', '?', '5250', '4900', '4400', '6600', '5300'],\n",
       "      dtype=object)"
      ]
     },
     "execution_count": 104,
     "metadata": {},
     "output_type": "execute_result"
    }
   ],
   "source": [
    "df[\"peak-rpm\"].unique()"
   ]
  },
  {
   "cell_type": "code",
   "execution_count": 105,
   "id": "5ef8f2ae",
   "metadata": {},
   "outputs": [
    {
     "data": {
      "text/plain": [
       "5500    37\n",
       "4800    36\n",
       "5000    27\n",
       "5200    23\n",
       "5400    13\n",
       "6000     9\n",
       "5250     7\n",
       "4500     7\n",
       "5800     7\n",
       "4200     5\n",
       "4150     5\n",
       "4750     4\n",
       "4350     4\n",
       "5100     3\n",
       "4250     3\n",
       "5900     3\n",
       "4400     3\n",
       "?        2\n",
       "6600     2\n",
       "4650     1\n",
       "5600     1\n",
       "5750     1\n",
       "4900     1\n",
       "5300     1\n",
       "Name: peak-rpm, dtype: int64"
      ]
     },
     "execution_count": 105,
     "metadata": {},
     "output_type": "execute_result"
    }
   ],
   "source": [
    "df[\"peak-rpm\"].value_counts()"
   ]
  },
  {
   "cell_type": "code",
   "execution_count": 106,
   "id": "5177379b",
   "metadata": {},
   "outputs": [],
   "source": [
    "peak_rpm_median = round(df.loc[~(df[\"peak-rpm\"] == \"?\"),\"peak-rpm\"].astype(int).median())"
   ]
  },
  {
   "cell_type": "code",
   "execution_count": 107,
   "id": "8302a865",
   "metadata": {},
   "outputs": [],
   "source": [
    "df.loc[(df[\"peak-rpm\"] == \"?\"),\"peak-rpm\"] = peak_rpm_median"
   ]
  },
  {
   "cell_type": "code",
   "execution_count": 108,
   "id": "b354a5e4",
   "metadata": {},
   "outputs": [],
   "source": [
    "df[\"peak-rpm\"] = df[\"peak-rpm\"].astype(int)"
   ]
  },
  {
   "cell_type": "code",
   "execution_count": 109,
   "id": "a48cdfac",
   "metadata": {},
   "outputs": [
    {
     "name": "stdout",
     "output_type": "stream",
     "text": [
      "<class 'pandas.core.frame.DataFrame'>\n",
      "RangeIndex: 205 entries, 0 to 204\n",
      "Data columns (total 40 columns):\n",
      " #   Column                Non-Null Count  Dtype  \n",
      "---  ------                --------------  -----  \n",
      " 0   symboling             205 non-null    int64  \n",
      " 1   normalized-losses     205 non-null    int32  \n",
      " 2   fuel-type             205 non-null    int64  \n",
      " 3   aspiration            205 non-null    int64  \n",
      " 4   num-of-doors          205 non-null    int64  \n",
      " 5   drive-wheels          205 non-null    int64  \n",
      " 6   engine-location       205 non-null    int64  \n",
      " 7   wheel-base            205 non-null    float64\n",
      " 8   length                205 non-null    float64\n",
      " 9   width                 205 non-null    float64\n",
      " 10  height                205 non-null    float64\n",
      " 11  curb-weight           205 non-null    int64  \n",
      " 12  engine-type           205 non-null    int64  \n",
      " 13  num-of-cylinders      205 non-null    int64  \n",
      " 14  engine-size           205 non-null    int64  \n",
      " 15  bore                  205 non-null    float64\n",
      " 16  stroke                205 non-null    float64\n",
      " 17  compression-ratio     205 non-null    float64\n",
      " 18  horsepower            205 non-null    float64\n",
      " 19  peak-rpm              205 non-null    int32  \n",
      " 20  city-mpg              205 non-null    int64  \n",
      " 21  highway-mpg           205 non-null    int64  \n",
      " 22  price                 205 non-null    object \n",
      " 23  make_others           205 non-null    int64  \n",
      " 24  make_mazda            205 non-null    float64\n",
      " 25  make_mitsubishi       205 non-null    float64\n",
      " 26  make_nissan           205 non-null    float64\n",
      " 27  make_peugot           205 non-null    float64\n",
      " 28  make_subaru           205 non-null    float64\n",
      " 29  make_toyota           205 non-null    float64\n",
      " 30  make_volkswagen       205 non-null    float64\n",
      " 31  make_volvo            205 non-null    float64\n",
      " 32  body-style_hardtop    205 non-null    uint8  \n",
      " 33  body-style_hatchback  205 non-null    uint8  \n",
      " 34  body-style_sedan      205 non-null    uint8  \n",
      " 35  body-style_wagon      205 non-null    uint8  \n",
      " 36  fuel-system_others    205 non-null    int64  \n",
      " 37  fuel-system_2bbl      205 non-null    uint8  \n",
      " 38  fuel-system_idi       205 non-null    uint8  \n",
      " 39  fuel-system_mpfi      205 non-null    uint8  \n",
      "dtypes: float64(16), int32(2), int64(14), object(1), uint8(7)\n",
      "memory usage: 52.8+ KB\n"
     ]
    }
   ],
   "source": [
    "df.info()"
   ]
  },
  {
   "cell_type": "markdown",
   "id": "37bff602",
   "metadata": {},
   "source": [
    "### 22. Price"
   ]
  },
  {
   "cell_type": "code",
   "execution_count": 110,
   "id": "6b081195",
   "metadata": {},
   "outputs": [
    {
     "data": {
      "text/plain": [
       "array(['13495', '16500', '13950', '17450', '15250', '17710', '18920',\n",
       "       '23875', '?', '16430', '16925', '20970', '21105', '24565', '30760',\n",
       "       '41315', '36880', '5151', '6295', '6575', '5572', '6377', '7957',\n",
       "       '6229', '6692', '7609', '8558', '8921', '12964', '6479', '6855',\n",
       "       '5399', '6529', '7129', '7295', '7895', '9095', '8845', '10295',\n",
       "       '12945', '10345', '6785', '11048', '32250', '35550', '36000',\n",
       "       '5195', '6095', '6795', '6695', '7395', '10945', '11845', '13645',\n",
       "       '15645', '8495', '10595', '10245', '10795', '11245', '18280',\n",
       "       '18344', '25552', '28248', '28176', '31600', '34184', '35056',\n",
       "       '40960', '45400', '16503', '5389', '6189', '6669', '7689', '9959',\n",
       "       '8499', '12629', '14869', '14489', '6989', '8189', '9279', '5499',\n",
       "       '7099', '6649', '6849', '7349', '7299', '7799', '7499', '7999',\n",
       "       '8249', '8949', '9549', '13499', '14399', '17199', '19699',\n",
       "       '18399', '11900', '13200', '12440', '13860', '15580', '16900',\n",
       "       '16695', '17075', '16630', '17950', '18150', '12764', '22018',\n",
       "       '32528', '34028', '37028', '9295', '9895', '11850', '12170',\n",
       "       '15040', '15510', '18620', '5118', '7053', '7603', '7126', '7775',\n",
       "       '9960', '9233', '11259', '7463', '10198', '8013', '11694', '5348',\n",
       "       '6338', '6488', '6918', '7898', '8778', '6938', '7198', '7788',\n",
       "       '7738', '8358', '9258', '8058', '8238', '9298', '9538', '8449',\n",
       "       '9639', '9989', '11199', '11549', '17669', '8948', '10698', '9988',\n",
       "       '10898', '11248', '16558', '15998', '15690', '15750', '7975',\n",
       "       '7995', '8195', '9495', '9995', '11595', '9980', '13295', '13845',\n",
       "       '12290', '12940', '13415', '15985', '16515', '18420', '18950',\n",
       "       '16845', '19045', '21485', '22470', '22625'], dtype=object)"
      ]
     },
     "execution_count": 110,
     "metadata": {},
     "output_type": "execute_result"
    }
   ],
   "source": [
    "df[\"price\"].unique()"
   ]
  },
  {
   "cell_type": "code",
   "execution_count": 111,
   "id": "1c7d579c",
   "metadata": {},
   "outputs": [
    {
     "data": {
      "text/plain": [
       "?        4\n",
       "8921     2\n",
       "18150    2\n",
       "8845     2\n",
       "8495     2\n",
       "        ..\n",
       "45400    1\n",
       "16503    1\n",
       "5389     1\n",
       "6189     1\n",
       "22625    1\n",
       "Name: price, Length: 187, dtype: int64"
      ]
     },
     "execution_count": 111,
     "metadata": {},
     "output_type": "execute_result"
    }
   ],
   "source": [
    "df[\"price\"].value_counts()"
   ]
  },
  {
   "cell_type": "code",
   "execution_count": 112,
   "id": "17a1c8a3",
   "metadata": {},
   "outputs": [],
   "source": [
    "price_median = round(df.loc[~(df[\"price\"] == \"?\"),\"price\"].astype(int).median())"
   ]
  },
  {
   "cell_type": "code",
   "execution_count": 113,
   "id": "a54b4641",
   "metadata": {},
   "outputs": [],
   "source": [
    "df.loc[(df[\"price\"] == \"?\"),\"price\"] = price_median"
   ]
  },
  {
   "cell_type": "code",
   "execution_count": 114,
   "id": "3899e8b8",
   "metadata": {},
   "outputs": [],
   "source": [
    "df[\"price\"] = df[\"price\"].astype(int)"
   ]
  },
  {
   "cell_type": "code",
   "execution_count": 115,
   "id": "853cb046",
   "metadata": {},
   "outputs": [
    {
     "name": "stdout",
     "output_type": "stream",
     "text": [
      "<class 'pandas.core.frame.DataFrame'>\n",
      "RangeIndex: 205 entries, 0 to 204\n",
      "Data columns (total 40 columns):\n",
      " #   Column                Non-Null Count  Dtype  \n",
      "---  ------                --------------  -----  \n",
      " 0   symboling             205 non-null    int64  \n",
      " 1   normalized-losses     205 non-null    int32  \n",
      " 2   fuel-type             205 non-null    int64  \n",
      " 3   aspiration            205 non-null    int64  \n",
      " 4   num-of-doors          205 non-null    int64  \n",
      " 5   drive-wheels          205 non-null    int64  \n",
      " 6   engine-location       205 non-null    int64  \n",
      " 7   wheel-base            205 non-null    float64\n",
      " 8   length                205 non-null    float64\n",
      " 9   width                 205 non-null    float64\n",
      " 10  height                205 non-null    float64\n",
      " 11  curb-weight           205 non-null    int64  \n",
      " 12  engine-type           205 non-null    int64  \n",
      " 13  num-of-cylinders      205 non-null    int64  \n",
      " 14  engine-size           205 non-null    int64  \n",
      " 15  bore                  205 non-null    float64\n",
      " 16  stroke                205 non-null    float64\n",
      " 17  compression-ratio     205 non-null    float64\n",
      " 18  horsepower            205 non-null    float64\n",
      " 19  peak-rpm              205 non-null    int32  \n",
      " 20  city-mpg              205 non-null    int64  \n",
      " 21  highway-mpg           205 non-null    int64  \n",
      " 22  price                 205 non-null    int32  \n",
      " 23  make_others           205 non-null    int64  \n",
      " 24  make_mazda            205 non-null    float64\n",
      " 25  make_mitsubishi       205 non-null    float64\n",
      " 26  make_nissan           205 non-null    float64\n",
      " 27  make_peugot           205 non-null    float64\n",
      " 28  make_subaru           205 non-null    float64\n",
      " 29  make_toyota           205 non-null    float64\n",
      " 30  make_volkswagen       205 non-null    float64\n",
      " 31  make_volvo            205 non-null    float64\n",
      " 32  body-style_hardtop    205 non-null    uint8  \n",
      " 33  body-style_hatchback  205 non-null    uint8  \n",
      " 34  body-style_sedan      205 non-null    uint8  \n",
      " 35  body-style_wagon      205 non-null    uint8  \n",
      " 36  fuel-system_others    205 non-null    int64  \n",
      " 37  fuel-system_2bbl      205 non-null    uint8  \n",
      " 38  fuel-system_idi       205 non-null    uint8  \n",
      " 39  fuel-system_mpfi      205 non-null    uint8  \n",
      "dtypes: float64(16), int32(3), int64(14), uint8(7)\n",
      "memory usage: 52.0 KB\n"
     ]
    }
   ],
   "source": [
    "df.info()"
   ]
  },
  {
   "cell_type": "markdown",
   "id": "9d3a9f54",
   "metadata": {},
   "source": [
    "# Feature Selection"
   ]
  },
  {
   "cell_type": "code",
   "execution_count": 116,
   "id": "4de73439",
   "metadata": {},
   "outputs": [
    {
     "data": {
      "text/html": [
       "<div>\n",
       "<style scoped>\n",
       "    .dataframe tbody tr th:only-of-type {\n",
       "        vertical-align: middle;\n",
       "    }\n",
       "\n",
       "    .dataframe tbody tr th {\n",
       "        vertical-align: top;\n",
       "    }\n",
       "\n",
       "    .dataframe thead th {\n",
       "        text-align: right;\n",
       "    }\n",
       "</style>\n",
       "<table border=\"1\" class=\"dataframe\">\n",
       "  <thead>\n",
       "    <tr style=\"text-align: right;\">\n",
       "      <th></th>\n",
       "      <th>symboling</th>\n",
       "      <th>normalized-losses</th>\n",
       "      <th>fuel-type</th>\n",
       "      <th>aspiration</th>\n",
       "      <th>num-of-doors</th>\n",
       "      <th>drive-wheels</th>\n",
       "      <th>engine-location</th>\n",
       "      <th>wheel-base</th>\n",
       "      <th>length</th>\n",
       "      <th>width</th>\n",
       "      <th>...</th>\n",
       "      <th>make_volkswagen</th>\n",
       "      <th>make_volvo</th>\n",
       "      <th>body-style_hardtop</th>\n",
       "      <th>body-style_hatchback</th>\n",
       "      <th>body-style_sedan</th>\n",
       "      <th>body-style_wagon</th>\n",
       "      <th>fuel-system_others</th>\n",
       "      <th>fuel-system_2bbl</th>\n",
       "      <th>fuel-system_idi</th>\n",
       "      <th>fuel-system_mpfi</th>\n",
       "    </tr>\n",
       "  </thead>\n",
       "  <tbody>\n",
       "    <tr>\n",
       "      <th>symboling</th>\n",
       "      <td>1.000000</td>\n",
       "      <td>4.651899e-01</td>\n",
       "      <td>-0.194311</td>\n",
       "      <td>-0.059866</td>\n",
       "      <td>-0.663595</td>\n",
       "      <td>-0.104505</td>\n",
       "      <td>2.124709e-01</td>\n",
       "      <td>-0.531954</td>\n",
       "      <td>-0.357612</td>\n",
       "      <td>-0.232919</td>\n",
       "      <td>...</td>\n",
       "      <td>0.167106</td>\n",
       "      <td>-0.403849</td>\n",
       "      <td>0.168845</td>\n",
       "      <td>0.435648</td>\n",
       "      <td>-0.378341</td>\n",
       "      <td>-0.298243</td>\n",
       "      <td>0.300785</td>\n",
       "      <td>-0.034069</td>\n",
       "      <td>-0.194311</td>\n",
       "      <td>0.012532</td>\n",
       "    </tr>\n",
       "    <tr>\n",
       "      <th>normalized-losses</th>\n",
       "      <td>0.465190</td>\n",
       "      <td>1.000000e+00</td>\n",
       "      <td>-0.101437</td>\n",
       "      <td>-0.006823</td>\n",
       "      <td>-0.357192</td>\n",
       "      <td>0.035599</td>\n",
       "      <td>-2.918301e-17</td>\n",
       "      <td>-0.056518</td>\n",
       "      <td>0.019209</td>\n",
       "      <td>0.084195</td>\n",
       "      <td>...</td>\n",
       "      <td>-0.003945</td>\n",
       "      <td>-0.230147</td>\n",
       "      <td>0.042244</td>\n",
       "      <td>0.196926</td>\n",
       "      <td>-0.032170</td>\n",
       "      <td>-0.276410</td>\n",
       "      <td>0.117485</td>\n",
       "      <td>-0.148000</td>\n",
       "      <td>-0.101437</td>\n",
       "      <td>0.200111</td>\n",
       "    </tr>\n",
       "    <tr>\n",
       "      <th>fuel-type</th>\n",
       "      <td>-0.194311</td>\n",
       "      <td>-1.014370e-01</td>\n",
       "      <td>1.000000</td>\n",
       "      <td>0.401397</td>\n",
       "      <td>0.188496</td>\n",
       "      <td>0.001367</td>\n",
       "      <td>-4.006951e-02</td>\n",
       "      <td>0.308346</td>\n",
       "      <td>0.212679</td>\n",
       "      <td>0.233880</td>\n",
       "      <td>...</td>\n",
       "      <td>0.198133</td>\n",
       "      <td>-0.005338</td>\n",
       "      <td>0.018635</td>\n",
       "      <td>-0.202093</td>\n",
       "      <td>0.185623</td>\n",
       "      <td>0.028183</td>\n",
       "      <td>-0.089018</td>\n",
       "      <td>-0.226565</td>\n",
       "      <td>1.000000</td>\n",
       "      <td>-0.302574</td>\n",
       "    </tr>\n",
       "    <tr>\n",
       "      <th>aspiration</th>\n",
       "      <td>-0.059866</td>\n",
       "      <td>-6.822700e-03</td>\n",
       "      <td>0.401397</td>\n",
       "      <td>1.000000</td>\n",
       "      <td>0.052803</td>\n",
       "      <td>0.141013</td>\n",
       "      <td>-5.719146e-02</td>\n",
       "      <td>0.257611</td>\n",
       "      <td>0.234539</td>\n",
       "      <td>0.300567</td>\n",
       "      <td>...</td>\n",
       "      <td>-0.008961</td>\n",
       "      <td>0.169682</td>\n",
       "      <td>-0.029074</td>\n",
       "      <td>0.009786</td>\n",
       "      <td>0.017111</td>\n",
       "      <td>0.018908</td>\n",
       "      <td>0.325488</td>\n",
       "      <td>-0.323378</td>\n",
       "      <td>0.401397</td>\n",
       "      <td>-0.050041</td>\n",
       "    </tr>\n",
       "    <tr>\n",
       "      <th>num-of-doors</th>\n",
       "      <td>-0.663595</td>\n",
       "      <td>-3.571925e-01</td>\n",
       "      <td>0.188496</td>\n",
       "      <td>0.052803</td>\n",
       "      <td>1.000000</td>\n",
       "      <td>0.040527</td>\n",
       "      <td>-1.391294e-01</td>\n",
       "      <td>0.439635</td>\n",
       "      <td>0.385675</td>\n",
       "      <td>0.197735</td>\n",
       "      <td>...</td>\n",
       "      <td>0.050718</td>\n",
       "      <td>0.208575</td>\n",
       "      <td>-0.230063</td>\n",
       "      <td>-0.614538</td>\n",
       "      <td>0.526181</td>\n",
       "      <td>0.326437</td>\n",
       "      <td>-0.231054</td>\n",
       "      <td>0.013769</td>\n",
       "      <td>0.188496</td>\n",
       "      <td>0.035746</td>\n",
       "    </tr>\n",
       "    <tr>\n",
       "      <th>drive-wheels</th>\n",
       "      <td>-0.104505</td>\n",
       "      <td>3.559946e-02</td>\n",
       "      <td>0.001367</td>\n",
       "      <td>0.141013</td>\n",
       "      <td>0.040527</td>\n",
       "      <td>1.000000</td>\n",
       "      <td>6.281341e-02</td>\n",
       "      <td>0.209492</td>\n",
       "      <td>0.252670</td>\n",
       "      <td>0.215544</td>\n",
       "      <td>...</td>\n",
       "      <td>-0.154780</td>\n",
       "      <td>0.122733</td>\n",
       "      <td>0.075248</td>\n",
       "      <td>-0.131413</td>\n",
       "      <td>-0.049412</td>\n",
       "      <td>0.192088</td>\n",
       "      <td>-0.058197</td>\n",
       "      <td>-0.154901</td>\n",
       "      <td>0.001367</td>\n",
       "      <td>0.240740</td>\n",
       "    </tr>\n",
       "    <tr>\n",
       "      <th>engine-location</th>\n",
       "      <td>0.212471</td>\n",
       "      <td>-2.918301e-17</td>\n",
       "      <td>-0.040070</td>\n",
       "      <td>-0.057191</td>\n",
       "      <td>-0.139129</td>\n",
       "      <td>0.062813</td>\n",
       "      <td>1.000000e+00</td>\n",
       "      <td>-0.187790</td>\n",
       "      <td>-0.050989</td>\n",
       "      <td>-0.051698</td>\n",
       "      <td>...</td>\n",
       "      <td>-0.030388</td>\n",
       "      <td>-0.029019</td>\n",
       "      <td>0.394978</td>\n",
       "      <td>-0.087754</td>\n",
       "      <td>-0.114369</td>\n",
       "      <td>-0.045417</td>\n",
       "      <td>-0.032994</td>\n",
       "      <td>-0.083975</td>\n",
       "      <td>-0.040070</td>\n",
       "      <td>0.132429</td>\n",
       "    </tr>\n",
       "    <tr>\n",
       "      <th>wheel-base</th>\n",
       "      <td>-0.531954</td>\n",
       "      <td>-5.651842e-02</td>\n",
       "      <td>0.308346</td>\n",
       "      <td>0.257611</td>\n",
       "      <td>0.439635</td>\n",
       "      <td>0.209492</td>\n",
       "      <td>-1.877902e-01</td>\n",
       "      <td>1.000000</td>\n",
       "      <td>0.874587</td>\n",
       "      <td>0.795144</td>\n",
       "      <td>...</td>\n",
       "      <td>-0.047664</td>\n",
       "      <td>0.306228</td>\n",
       "      <td>-0.008608</td>\n",
       "      <td>-0.386094</td>\n",
       "      <td>0.291086</td>\n",
       "      <td>0.210899</td>\n",
       "      <td>-0.146773</td>\n",
       "      <td>-0.396505</td>\n",
       "      <td>0.308346</td>\n",
       "      <td>0.348891</td>\n",
       "    </tr>\n",
       "    <tr>\n",
       "      <th>length</th>\n",
       "      <td>-0.357612</td>\n",
       "      <td>1.920863e-02</td>\n",
       "      <td>0.212679</td>\n",
       "      <td>0.234539</td>\n",
       "      <td>0.385675</td>\n",
       "      <td>0.252670</td>\n",
       "      <td>-5.098854e-02</td>\n",
       "      <td>0.874587</td>\n",
       "      <td>1.000000</td>\n",
       "      <td>0.841118</td>\n",
       "      <td>...</td>\n",
       "      <td>-0.030714</td>\n",
       "      <td>0.285398</td>\n",
       "      <td>0.047292</td>\n",
       "      <td>-0.436269</td>\n",
       "      <td>0.269647</td>\n",
       "      <td>0.219683</td>\n",
       "      <td>-0.092220</td>\n",
       "      <td>-0.487237</td>\n",
       "      <td>0.212679</td>\n",
       "      <td>0.511374</td>\n",
       "    </tr>\n",
       "    <tr>\n",
       "      <th>width</th>\n",
       "      <td>-0.232919</td>\n",
       "      <td>8.419470e-02</td>\n",
       "      <td>0.233880</td>\n",
       "      <td>0.300567</td>\n",
       "      <td>0.197735</td>\n",
       "      <td>0.215544</td>\n",
       "      <td>-5.169764e-02</td>\n",
       "      <td>0.795144</td>\n",
       "      <td>0.841118</td>\n",
       "      <td>1.000000</td>\n",
       "      <td>...</td>\n",
       "      <td>-0.033924</td>\n",
       "      <td>0.228758</td>\n",
       "      <td>0.066360</td>\n",
       "      <td>-0.222308</td>\n",
       "      <td>0.154637</td>\n",
       "      <td>0.060639</td>\n",
       "      <td>-0.046171</td>\n",
       "      <td>-0.522594</td>\n",
       "      <td>0.233880</td>\n",
       "      <td>0.461896</td>\n",
       "    </tr>\n",
       "    <tr>\n",
       "      <th>height</th>\n",
       "      <td>-0.541038</td>\n",
       "      <td>-3.707060e-01</td>\n",
       "      <td>0.284631</td>\n",
       "      <td>0.087311</td>\n",
       "      <td>0.540286</td>\n",
       "      <td>0.158962</td>\n",
       "      <td>-1.062342e-01</td>\n",
       "      <td>0.589435</td>\n",
       "      <td>0.491029</td>\n",
       "      <td>0.279210</td>\n",
       "      <td>...</td>\n",
       "      <td>0.149194</td>\n",
       "      <td>0.245342</td>\n",
       "      <td>-0.072328</td>\n",
       "      <td>-0.477476</td>\n",
       "      <td>0.235863</td>\n",
       "      <td>0.459148</td>\n",
       "      <td>-0.370878</td>\n",
       "      <td>-0.079418</td>\n",
       "      <td>0.284631</td>\n",
       "      <td>0.108685</td>\n",
       "    </tr>\n",
       "    <tr>\n",
       "      <th>curb-weight</th>\n",
       "      <td>-0.227691</td>\n",
       "      <td>9.778529e-02</td>\n",
       "      <td>0.217275</td>\n",
       "      <td>0.324902</td>\n",
       "      <td>0.190720</td>\n",
       "      <td>0.388234</td>\n",
       "      <td>5.046820e-02</td>\n",
       "      <td>0.776386</td>\n",
       "      <td>0.877728</td>\n",
       "      <td>0.867032</td>\n",
       "      <td>...</td>\n",
       "      <td>-0.101966</td>\n",
       "      <td>0.221127</td>\n",
       "      <td>0.098956</td>\n",
       "      <td>-0.287501</td>\n",
       "      <td>0.099425</td>\n",
       "      <td>0.164075</td>\n",
       "      <td>-0.005247</td>\n",
       "      <td>-0.577159</td>\n",
       "      <td>0.217275</td>\n",
       "      <td>0.520220</td>\n",
       "    </tr>\n",
       "    <tr>\n",
       "      <th>engine-type</th>\n",
       "      <td>0.218439</td>\n",
       "      <td>1.901621e-01</td>\n",
       "      <td>-0.152720</td>\n",
       "      <td>-0.094742</td>\n",
       "      <td>-0.186026</td>\n",
       "      <td>0.217866</td>\n",
       "      <td>6.180316e-02</td>\n",
       "      <td>0.034917</td>\n",
       "      <td>0.174867</td>\n",
       "      <td>0.236397</td>\n",
       "      <td>...</td>\n",
       "      <td>-0.115819</td>\n",
       "      <td>-0.068536</td>\n",
       "      <td>0.004298</td>\n",
       "      <td>0.105312</td>\n",
       "      <td>-0.131957</td>\n",
       "      <td>-0.042746</td>\n",
       "      <td>0.099722</td>\n",
       "      <td>-0.238908</td>\n",
       "      <td>-0.152720</td>\n",
       "      <td>0.314498</td>\n",
       "    </tr>\n",
       "    <tr>\n",
       "      <th>num-of-cylinders</th>\n",
       "      <td>-0.113129</td>\n",
       "      <td>1.080814e-01</td>\n",
       "      <td>-0.024544</td>\n",
       "      <td>-0.047972</td>\n",
       "      <td>-0.019503</td>\n",
       "      <td>0.161327</td>\n",
       "      <td>1.830476e-01</td>\n",
       "      <td>0.339507</td>\n",
       "      <td>0.430672</td>\n",
       "      <td>0.545007</td>\n",
       "      <td>...</td>\n",
       "      <td>-0.068721</td>\n",
       "      <td>-0.003722</td>\n",
       "      <td>0.139149</td>\n",
       "      <td>-0.177782</td>\n",
       "      <td>0.113090</td>\n",
       "      <td>-0.048559</td>\n",
       "      <td>-0.203153</td>\n",
       "      <td>-0.252848</td>\n",
       "      <td>-0.024544</td>\n",
       "      <td>0.392551</td>\n",
       "    </tr>\n",
       "    <tr>\n",
       "      <th>engine-size</th>\n",
       "      <td>-0.105790</td>\n",
       "      <td>1.109969e-01</td>\n",
       "      <td>0.069594</td>\n",
       "      <td>0.108217</td>\n",
       "      <td>0.013919</td>\n",
       "      <td>0.229659</td>\n",
       "      <td>1.968263e-01</td>\n",
       "      <td>0.569329</td>\n",
       "      <td>0.683360</td>\n",
       "      <td>0.735433</td>\n",
       "      <td>...</td>\n",
       "      <td>-0.117994</td>\n",
       "      <td>0.088077</td>\n",
       "      <td>0.239363</td>\n",
       "      <td>-0.216805</td>\n",
       "      <td>0.088459</td>\n",
       "      <td>-0.027518</td>\n",
       "      <td>-0.065966</td>\n",
       "      <td>-0.442562</td>\n",
       "      <td>0.069594</td>\n",
       "      <td>0.483520</td>\n",
       "    </tr>\n",
       "    <tr>\n",
       "      <th>bore</th>\n",
       "      <td>-0.131309</td>\n",
       "      <td>-2.988921e-02</td>\n",
       "      <td>0.054688</td>\n",
       "      <td>0.212950</td>\n",
       "      <td>0.109312</td>\n",
       "      <td>0.359980</td>\n",
       "      <td>1.851276e-01</td>\n",
       "      <td>0.489159</td>\n",
       "      <td>0.606743</td>\n",
       "      <td>0.559213</td>\n",
       "      <td>...</td>\n",
       "      <td>-0.184173</td>\n",
       "      <td>0.293626</td>\n",
       "      <td>0.208232</td>\n",
       "      <td>-0.228032</td>\n",
       "      <td>0.031194</td>\n",
       "      <td>0.105987</td>\n",
       "      <td>0.021196</td>\n",
       "      <td>-0.352840</td>\n",
       "      <td>0.054688</td>\n",
       "      <td>0.419632</td>\n",
       "    </tr>\n",
       "    <tr>\n",
       "      <th>stroke</th>\n",
       "      <td>-0.008191</td>\n",
       "      <td>5.518172e-02</td>\n",
       "      <td>0.241726</td>\n",
       "      <td>0.222835</td>\n",
       "      <td>-0.007217</td>\n",
       "      <td>-0.241604</td>\n",
       "      <td>-1.384932e-01</td>\n",
       "      <td>0.160779</td>\n",
       "      <td>0.129404</td>\n",
       "      <td>0.182911</td>\n",
       "      <td>...</td>\n",
       "      <td>0.115168</td>\n",
       "      <td>-0.082389</td>\n",
       "      <td>0.043152</td>\n",
       "      <td>0.052749</td>\n",
       "      <td>0.035338</td>\n",
       "      <td>-0.095200</td>\n",
       "      <td>0.243116</td>\n",
       "      <td>-0.235081</td>\n",
       "      <td>0.241726</td>\n",
       "      <td>-0.110410</td>\n",
       "    </tr>\n",
       "    <tr>\n",
       "      <th>compression-ratio</th>\n",
       "      <td>-0.178515</td>\n",
       "      <td>-1.145246e-01</td>\n",
       "      <td>0.984356</td>\n",
       "      <td>0.295541</td>\n",
       "      <td>0.171797</td>\n",
       "      <td>-0.032820</td>\n",
       "      <td>-1.976200e-02</td>\n",
       "      <td>0.249786</td>\n",
       "      <td>0.158414</td>\n",
       "      <td>0.181129</td>\n",
       "      <td>...</td>\n",
       "      <td>0.219153</td>\n",
       "      <td>0.005092</td>\n",
       "      <td>0.029623</td>\n",
       "      <td>-0.202650</td>\n",
       "      <td>0.188286</td>\n",
       "      <td>0.016315</td>\n",
       "      <td>-0.155667</td>\n",
       "      <td>-0.183384</td>\n",
       "      <td>0.984356</td>\n",
       "      <td>-0.311035</td>\n",
       "    </tr>\n",
       "    <tr>\n",
       "      <th>horsepower</th>\n",
       "      <td>0.071380</td>\n",
       "      <td>2.034339e-01</td>\n",
       "      <td>-0.165169</td>\n",
       "      <td>0.240212</td>\n",
       "      <td>-0.128176</td>\n",
       "      <td>0.269443</td>\n",
       "      <td>3.176178e-01</td>\n",
       "      <td>0.351985</td>\n",
       "      <td>0.554408</td>\n",
       "      <td>0.642176</td>\n",
       "      <td>...</td>\n",
       "      <td>-0.146554</td>\n",
       "      <td>0.143432</td>\n",
       "      <td>0.194226</td>\n",
       "      <td>-0.052646</td>\n",
       "      <td>-0.027364</td>\n",
       "      <td>-0.059118</td>\n",
       "      <td>0.103233</td>\n",
       "      <td>-0.544696</td>\n",
       "      <td>-0.165169</td>\n",
       "      <td>0.632534</td>\n",
       "    </tr>\n",
       "    <tr>\n",
       "      <th>peak-rpm</th>\n",
       "      <td>0.273851</td>\n",
       "      <td>2.377194e-01</td>\n",
       "      <td>-0.477507</td>\n",
       "      <td>-0.184326</td>\n",
       "      <td>-0.240473</td>\n",
       "      <td>-0.138278</td>\n",
       "      <td>1.981901e-01</td>\n",
       "      <td>-0.361338</td>\n",
       "      <td>-0.286362</td>\n",
       "      <td>-0.219374</td>\n",
       "      <td>...</td>\n",
       "      <td>0.014708</td>\n",
       "      <td>0.082470</td>\n",
       "      <td>-0.040165</td>\n",
       "      <td>0.160467</td>\n",
       "      <td>-0.087418</td>\n",
       "      <td>-0.081524</td>\n",
       "      <td>0.151767</td>\n",
       "      <td>-0.097027</td>\n",
       "      <td>-0.477507</td>\n",
       "      <td>0.152171</td>\n",
       "    </tr>\n",
       "    <tr>\n",
       "      <th>city-mpg</th>\n",
       "      <td>-0.035823</td>\n",
       "      <td>-2.187488e-01</td>\n",
       "      <td>0.255963</td>\n",
       "      <td>-0.202362</td>\n",
       "      <td>-0.014271</td>\n",
       "      <td>-0.363968</td>\n",
       "      <td>-1.534875e-01</td>\n",
       "      <td>-0.470414</td>\n",
       "      <td>-0.670909</td>\n",
       "      <td>-0.642704</td>\n",
       "      <td>...</td>\n",
       "      <td>0.128525</td>\n",
       "      <td>-0.147323</td>\n",
       "      <td>-0.110993</td>\n",
       "      <td>0.120795</td>\n",
       "      <td>0.014870</td>\n",
       "      <td>-0.067356</td>\n",
       "      <td>-0.195788</td>\n",
       "      <td>0.520751</td>\n",
       "      <td>0.255963</td>\n",
       "      <td>-0.644489</td>\n",
       "    </tr>\n",
       "    <tr>\n",
       "      <th>highway-mpg</th>\n",
       "      <td>0.034606</td>\n",
       "      <td>-1.782209e-01</td>\n",
       "      <td>0.191392</td>\n",
       "      <td>-0.254416</td>\n",
       "      <td>-0.037452</td>\n",
       "      <td>-0.413178</td>\n",
       "      <td>-1.020262e-01</td>\n",
       "      <td>-0.544082</td>\n",
       "      <td>-0.704662</td>\n",
       "      <td>-0.677218</td>\n",
       "      <td>...</td>\n",
       "      <td>0.151196</td>\n",
       "      <td>-0.170992</td>\n",
       "      <td>-0.102707</td>\n",
       "      <td>0.148868</td>\n",
       "      <td>0.011218</td>\n",
       "      <td>-0.110194</td>\n",
       "      <td>-0.175989</td>\n",
       "      <td>0.528009</td>\n",
       "      <td>0.191392</td>\n",
       "      <td>-0.610813</td>\n",
       "    </tr>\n",
       "    <tr>\n",
       "      <th>price</th>\n",
       "      <td>-0.080149</td>\n",
       "      <td>1.338227e-01</td>\n",
       "      <td>0.112439</td>\n",
       "      <td>0.175745</td>\n",
       "      <td>0.046497</td>\n",
       "      <td>0.273712</td>\n",
       "      <td>3.314590e-01</td>\n",
       "      <td>0.584847</td>\n",
       "      <td>0.686567</td>\n",
       "      <td>0.724558</td>\n",
       "      <td>...</td>\n",
       "      <td>-0.097484</td>\n",
       "      <td>0.148838</td>\n",
       "      <td>0.232240</td>\n",
       "      <td>-0.291631</td>\n",
       "      <td>0.145989</td>\n",
       "      <td>-0.036906</td>\n",
       "      <td>-0.060878</td>\n",
       "      <td>-0.493613</td>\n",
       "      <td>0.112439</td>\n",
       "      <td>0.503366</td>\n",
       "    </tr>\n",
       "    <tr>\n",
       "      <th>make_others</th>\n",
       "      <td>0.105949</td>\n",
       "      <td>1.766373e-01</td>\n",
       "      <td>-0.076478</td>\n",
       "      <td>0.072280</td>\n",
       "      <td>-0.056502</td>\n",
       "      <td>0.018985</td>\n",
       "      <td>1.829611e-01</td>\n",
       "      <td>0.114993</td>\n",
       "      <td>0.148100</td>\n",
       "      <td>0.215945</td>\n",
       "      <td>...</td>\n",
       "      <td>-0.166088</td>\n",
       "      <td>-0.158607</td>\n",
       "      <td>0.084158</td>\n",
       "      <td>-0.033716</td>\n",
       "      <td>0.052918</td>\n",
       "      <td>-0.086685</td>\n",
       "      <td>-0.012676</td>\n",
       "      <td>-0.074288</td>\n",
       "      <td>-0.076478</td>\n",
       "      <td>0.193347</td>\n",
       "    </tr>\n",
       "    <tr>\n",
       "      <th>make_mazda</th>\n",
       "      <td>0.068625</td>\n",
       "      <td>1.623146e-02</td>\n",
       "      <td>0.020356</td>\n",
       "      <td>-0.141121</td>\n",
       "      <td>-0.057798</td>\n",
       "      <td>-0.066076</td>\n",
       "      <td>-3.664633e-02</td>\n",
       "      <td>-0.087050</td>\n",
       "      <td>-0.079248</td>\n",
       "      <td>-0.044906</td>\n",
       "      <td>...</td>\n",
       "      <td>-0.074982</td>\n",
       "      <td>-0.071605</td>\n",
       "      <td>-0.060598</td>\n",
       "      <td>0.156487</td>\n",
       "      <td>-0.034065</td>\n",
       "      <td>-0.112067</td>\n",
       "      <td>0.128961</td>\n",
       "      <td>0.171382</td>\n",
       "      <td>0.020356</td>\n",
       "      <td>-0.205725</td>\n",
       "    </tr>\n",
       "    <tr>\n",
       "      <th>make_mitsubishi</th>\n",
       "      <td>0.211978</td>\n",
       "      <td>1.532696e-01</td>\n",
       "      <td>-0.085556</td>\n",
       "      <td>0.190153</td>\n",
       "      <td>-0.135532</td>\n",
       "      <td>-0.161519</td>\n",
       "      <td>-3.171071e-02</td>\n",
       "      <td>-0.147396</td>\n",
       "      <td>-0.127248</td>\n",
       "      <td>-0.079518</td>\n",
       "      <td>...</td>\n",
       "      <td>-0.064883</td>\n",
       "      <td>-0.061961</td>\n",
       "      <td>-0.052436</td>\n",
       "      <td>0.192519</td>\n",
       "      <td>-0.083748</td>\n",
       "      <td>-0.096974</td>\n",
       "      <td>0.485007</td>\n",
       "      <td>0.077739</td>\n",
       "      <td>-0.085556</td>\n",
       "      <td>-0.239455</td>\n",
       "    </tr>\n",
       "    <tr>\n",
       "      <th>make_nissan</th>\n",
       "      <td>0.041422</td>\n",
       "      <td>1.292570e-01</td>\n",
       "      <td>-0.043921</td>\n",
       "      <td>-0.100783</td>\n",
       "      <td>-0.041222</td>\n",
       "      <td>-0.133834</td>\n",
       "      <td>-3.780945e-02</td>\n",
       "      <td>-0.156719</td>\n",
       "      <td>-0.077149</td>\n",
       "      <td>-0.118727</td>\n",
       "      <td>...</td>\n",
       "      <td>-0.077362</td>\n",
       "      <td>-0.073877</td>\n",
       "      <td>0.026485</td>\n",
       "      <td>-0.041667</td>\n",
       "      <td>0.019714</td>\n",
       "      <td>0.042396</td>\n",
       "      <td>-0.083997</td>\n",
       "      <td>0.192012</td>\n",
       "      <td>-0.043921</td>\n",
       "      <td>-0.077958</td>\n",
       "    </tr>\n",
       "    <tr>\n",
       "      <th>make_peugot</th>\n",
       "      <td>-0.159891</td>\n",
       "      <td>1.869943e-01</td>\n",
       "      <td>0.286482</td>\n",
       "      <td>0.225968</td>\n",
       "      <td>0.208575</td>\n",
       "      <td>0.122733</td>\n",
       "      <td>-2.901886e-02</td>\n",
       "      <td>0.453616</td>\n",
       "      <td>0.330602</td>\n",
       "      <td>0.276302</td>\n",
       "      <td>...</td>\n",
       "      <td>-0.059376</td>\n",
       "      <td>-0.056701</td>\n",
       "      <td>-0.047985</td>\n",
       "      <td>-0.171466</td>\n",
       "      <td>0.080203</td>\n",
       "      <td>0.175871</td>\n",
       "      <td>-0.064468</td>\n",
       "      <td>-0.164082</td>\n",
       "      <td>0.286482</td>\n",
       "      <td>0.041537</td>\n",
       "    </tr>\n",
       "    <tr>\n",
       "      <th>make_subaru</th>\n",
       "      <td>-0.067071</td>\n",
       "      <td>-2.347263e-01</td>\n",
       "      <td>-0.081986</td>\n",
       "      <td>-0.008961</td>\n",
       "      <td>0.092641</td>\n",
       "      <td>0.317391</td>\n",
       "      <td>-3.038764e-02</td>\n",
       "      <td>-0.107161</td>\n",
       "      <td>-0.105172</td>\n",
       "      <td>-0.111605</td>\n",
       "      <td>...</td>\n",
       "      <td>-0.062176</td>\n",
       "      <td>-0.059376</td>\n",
       "      <td>-0.050249</td>\n",
       "      <td>-0.048095</td>\n",
       "      <td>-0.025798</td>\n",
       "      <td>0.161075</td>\n",
       "      <td>-0.067509</td>\n",
       "      <td>0.183970</td>\n",
       "      <td>-0.081986</td>\n",
       "      <td>-0.062655</td>\n",
       "    </tr>\n",
       "    <tr>\n",
       "      <th>make_toyota</th>\n",
       "      <td>-0.094046</td>\n",
       "      <td>-1.543730e-01</td>\n",
       "      <td>-0.005524</td>\n",
       "      <td>-0.166890</td>\n",
       "      <td>-0.002910</td>\n",
       "      <td>0.068976</td>\n",
       "      <td>-5.241274e-02</td>\n",
       "      <td>-0.046785</td>\n",
       "      <td>-0.073906</td>\n",
       "      <td>-0.164234</td>\n",
       "      <td>...</td>\n",
       "      <td>-0.107242</td>\n",
       "      <td>-0.102411</td>\n",
       "      <td>0.121540</td>\n",
       "      <td>0.087102</td>\n",
       "      <td>-0.134278</td>\n",
       "      <td>0.004007</td>\n",
       "      <td>-0.116439</td>\n",
       "      <td>0.077597</td>\n",
       "      <td>-0.005524</td>\n",
       "      <td>0.035789</td>\n",
       "    </tr>\n",
       "    <tr>\n",
       "      <th>make_volkswagen</th>\n",
       "      <td>0.167106</td>\n",
       "      <td>-3.944980e-03</td>\n",
       "      <td>0.198133</td>\n",
       "      <td>-0.008961</td>\n",
       "      <td>0.050718</td>\n",
       "      <td>-0.154780</td>\n",
       "      <td>-3.038764e-02</td>\n",
       "      <td>-0.047664</td>\n",
       "      <td>-0.030714</td>\n",
       "      <td>-0.033924</td>\n",
       "      <td>...</td>\n",
       "      <td>1.000000</td>\n",
       "      <td>-0.059376</td>\n",
       "      <td>-0.050249</td>\n",
       "      <td>-0.135734</td>\n",
       "      <td>0.140772</td>\n",
       "      <td>-0.029427</td>\n",
       "      <td>-0.067509</td>\n",
       "      <td>-0.171821</td>\n",
       "      <td>0.198133</td>\n",
       "      <td>0.104154</td>\n",
       "    </tr>\n",
       "    <tr>\n",
       "      <th>make_volvo</th>\n",
       "      <td>-0.403849</td>\n",
       "      <td>-2.301468e-01</td>\n",
       "      <td>-0.005338</td>\n",
       "      <td>0.169682</td>\n",
       "      <td>0.208575</td>\n",
       "      <td>0.122733</td>\n",
       "      <td>-2.901886e-02</td>\n",
       "      <td>0.306228</td>\n",
       "      <td>0.285398</td>\n",
       "      <td>0.228758</td>\n",
       "      <td>...</td>\n",
       "      <td>-0.059376</td>\n",
       "      <td>1.000000</td>\n",
       "      <td>-0.047985</td>\n",
       "      <td>-0.171466</td>\n",
       "      <td>0.123585</td>\n",
       "      <td>0.109717</td>\n",
       "      <td>-0.064468</td>\n",
       "      <td>-0.164082</td>\n",
       "      <td>-0.005338</td>\n",
       "      <td>0.215313</td>\n",
       "    </tr>\n",
       "    <tr>\n",
       "      <th>body-style_hardtop</th>\n",
       "      <td>0.168845</td>\n",
       "      <td>4.224357e-02</td>\n",
       "      <td>0.018635</td>\n",
       "      <td>-0.029074</td>\n",
       "      <td>-0.230063</td>\n",
       "      <td>0.075248</td>\n",
       "      <td>3.949780e-01</td>\n",
       "      <td>-0.008608</td>\n",
       "      <td>0.047292</td>\n",
       "      <td>0.066360</td>\n",
       "      <td>...</td>\n",
       "      <td>-0.050249</td>\n",
       "      <td>-0.047985</td>\n",
       "      <td>1.000000</td>\n",
       "      <td>-0.145109</td>\n",
       "      <td>-0.189119</td>\n",
       "      <td>-0.075101</td>\n",
       "      <td>-0.054558</td>\n",
       "      <td>-0.084946</td>\n",
       "      <td>0.018635</td>\n",
       "      <td>0.117876</td>\n",
       "    </tr>\n",
       "    <tr>\n",
       "      <th>body-style_hatchback</th>\n",
       "      <td>0.435648</td>\n",
       "      <td>1.969257e-01</td>\n",
       "      <td>-0.202093</td>\n",
       "      <td>0.009786</td>\n",
       "      <td>-0.614538</td>\n",
       "      <td>-0.131413</td>\n",
       "      <td>-8.775403e-02</td>\n",
       "      <td>-0.386094</td>\n",
       "      <td>-0.436269</td>\n",
       "      <td>-0.222308</td>\n",
       "      <td>...</td>\n",
       "      <td>-0.135734</td>\n",
       "      <td>-0.171466</td>\n",
       "      <td>-0.145109</td>\n",
       "      <td>1.000000</td>\n",
       "      <td>-0.675779</td>\n",
       "      <td>-0.268359</td>\n",
       "      <td>0.294419</td>\n",
       "      <td>0.120288</td>\n",
       "      <td>-0.202093</td>\n",
       "      <td>-0.208463</td>\n",
       "    </tr>\n",
       "    <tr>\n",
       "      <th>body-style_sedan</th>\n",
       "      <td>-0.378341</td>\n",
       "      <td>-3.216972e-02</td>\n",
       "      <td>0.185623</td>\n",
       "      <td>0.017111</td>\n",
       "      <td>0.526181</td>\n",
       "      <td>-0.049412</td>\n",
       "      <td>-1.143687e-01</td>\n",
       "      <td>0.291086</td>\n",
       "      <td>0.269647</td>\n",
       "      <td>0.154637</td>\n",
       "      <td>...</td>\n",
       "      <td>0.140772</td>\n",
       "      <td>0.123585</td>\n",
       "      <td>-0.189119</td>\n",
       "      <td>-0.675779</td>\n",
       "      <td>1.000000</td>\n",
       "      <td>-0.349749</td>\n",
       "      <td>-0.176570</td>\n",
       "      <td>-0.060830</td>\n",
       "      <td>0.185623</td>\n",
       "      <td>0.078094</td>\n",
       "    </tr>\n",
       "    <tr>\n",
       "      <th>body-style_wagon</th>\n",
       "      <td>-0.298243</td>\n",
       "      <td>-2.764103e-01</td>\n",
       "      <td>0.028183</td>\n",
       "      <td>0.018908</td>\n",
       "      <td>0.326437</td>\n",
       "      <td>0.192088</td>\n",
       "      <td>-4.541703e-02</td>\n",
       "      <td>0.210899</td>\n",
       "      <td>0.219683</td>\n",
       "      <td>0.060639</td>\n",
       "      <td>...</td>\n",
       "      <td>-0.029427</td>\n",
       "      <td>0.109717</td>\n",
       "      <td>-0.075101</td>\n",
       "      <td>-0.268359</td>\n",
       "      <td>-0.349749</td>\n",
       "      <td>1.000000</td>\n",
       "      <td>-0.100898</td>\n",
       "      <td>0.030349</td>\n",
       "      <td>0.028183</td>\n",
       "      <td>0.016053</td>\n",
       "    </tr>\n",
       "    <tr>\n",
       "      <th>fuel-system_others</th>\n",
       "      <td>0.300785</td>\n",
       "      <td>1.174853e-01</td>\n",
       "      <td>-0.089018</td>\n",
       "      <td>0.325488</td>\n",
       "      <td>-0.231054</td>\n",
       "      <td>-0.058197</td>\n",
       "      <td>-3.299380e-02</td>\n",
       "      <td>-0.146773</td>\n",
       "      <td>-0.092220</td>\n",
       "      <td>-0.046171</td>\n",
       "      <td>...</td>\n",
       "      <td>-0.067509</td>\n",
       "      <td>-0.064468</td>\n",
       "      <td>-0.054558</td>\n",
       "      <td>0.294419</td>\n",
       "      <td>-0.176570</td>\n",
       "      <td>-0.100898</td>\n",
       "      <td>1.000000</td>\n",
       "      <td>-0.186557</td>\n",
       "      <td>-0.089018</td>\n",
       "      <td>-0.249144</td>\n",
       "    </tr>\n",
       "    <tr>\n",
       "      <th>fuel-system_2bbl</th>\n",
       "      <td>-0.034069</td>\n",
       "      <td>-1.479999e-01</td>\n",
       "      <td>-0.226565</td>\n",
       "      <td>-0.323378</td>\n",
       "      <td>0.013769</td>\n",
       "      <td>-0.154901</td>\n",
       "      <td>-8.397490e-02</td>\n",
       "      <td>-0.396505</td>\n",
       "      <td>-0.487237</td>\n",
       "      <td>-0.522594</td>\n",
       "      <td>...</td>\n",
       "      <td>-0.171821</td>\n",
       "      <td>-0.164082</td>\n",
       "      <td>-0.084946</td>\n",
       "      <td>0.120288</td>\n",
       "      <td>-0.060830</td>\n",
       "      <td>0.030349</td>\n",
       "      <td>-0.186557</td>\n",
       "      <td>1.000000</td>\n",
       "      <td>-0.226565</td>\n",
       "      <td>-0.634114</td>\n",
       "    </tr>\n",
       "    <tr>\n",
       "      <th>fuel-system_idi</th>\n",
       "      <td>-0.194311</td>\n",
       "      <td>-1.014370e-01</td>\n",
       "      <td>1.000000</td>\n",
       "      <td>0.401397</td>\n",
       "      <td>0.188496</td>\n",
       "      <td>0.001367</td>\n",
       "      <td>-4.006951e-02</td>\n",
       "      <td>0.308346</td>\n",
       "      <td>0.212679</td>\n",
       "      <td>0.233880</td>\n",
       "      <td>...</td>\n",
       "      <td>0.198133</td>\n",
       "      <td>-0.005338</td>\n",
       "      <td>0.018635</td>\n",
       "      <td>-0.202093</td>\n",
       "      <td>0.185623</td>\n",
       "      <td>0.028183</td>\n",
       "      <td>-0.089018</td>\n",
       "      <td>-0.226565</td>\n",
       "      <td>1.000000</td>\n",
       "      <td>-0.302574</td>\n",
       "    </tr>\n",
       "    <tr>\n",
       "      <th>fuel-system_mpfi</th>\n",
       "      <td>0.012532</td>\n",
       "      <td>2.001105e-01</td>\n",
       "      <td>-0.302574</td>\n",
       "      <td>-0.050041</td>\n",
       "      <td>0.035746</td>\n",
       "      <td>0.240740</td>\n",
       "      <td>1.324288e-01</td>\n",
       "      <td>0.348891</td>\n",
       "      <td>0.511374</td>\n",
       "      <td>0.461896</td>\n",
       "      <td>...</td>\n",
       "      <td>0.104154</td>\n",
       "      <td>0.215313</td>\n",
       "      <td>0.117876</td>\n",
       "      <td>-0.208463</td>\n",
       "      <td>0.078094</td>\n",
       "      <td>0.016053</td>\n",
       "      <td>-0.249144</td>\n",
       "      <td>-0.634114</td>\n",
       "      <td>-0.302574</td>\n",
       "      <td>1.000000</td>\n",
       "    </tr>\n",
       "  </tbody>\n",
       "</table>\n",
       "<p>40 rows × 40 columns</p>\n",
       "</div>"
      ],
      "text/plain": [
       "                      symboling  normalized-losses  fuel-type  aspiration  \\\n",
       "symboling              1.000000       4.651899e-01  -0.194311   -0.059866   \n",
       "normalized-losses      0.465190       1.000000e+00  -0.101437   -0.006823   \n",
       "fuel-type             -0.194311      -1.014370e-01   1.000000    0.401397   \n",
       "aspiration            -0.059866      -6.822700e-03   0.401397    1.000000   \n",
       "num-of-doors          -0.663595      -3.571925e-01   0.188496    0.052803   \n",
       "drive-wheels          -0.104505       3.559946e-02   0.001367    0.141013   \n",
       "engine-location        0.212471      -2.918301e-17  -0.040070   -0.057191   \n",
       "wheel-base            -0.531954      -5.651842e-02   0.308346    0.257611   \n",
       "length                -0.357612       1.920863e-02   0.212679    0.234539   \n",
       "width                 -0.232919       8.419470e-02   0.233880    0.300567   \n",
       "height                -0.541038      -3.707060e-01   0.284631    0.087311   \n",
       "curb-weight           -0.227691       9.778529e-02   0.217275    0.324902   \n",
       "engine-type            0.218439       1.901621e-01  -0.152720   -0.094742   \n",
       "num-of-cylinders      -0.113129       1.080814e-01  -0.024544   -0.047972   \n",
       "engine-size           -0.105790       1.109969e-01   0.069594    0.108217   \n",
       "bore                  -0.131309      -2.988921e-02   0.054688    0.212950   \n",
       "stroke                -0.008191       5.518172e-02   0.241726    0.222835   \n",
       "compression-ratio     -0.178515      -1.145246e-01   0.984356    0.295541   \n",
       "horsepower             0.071380       2.034339e-01  -0.165169    0.240212   \n",
       "peak-rpm               0.273851       2.377194e-01  -0.477507   -0.184326   \n",
       "city-mpg              -0.035823      -2.187488e-01   0.255963   -0.202362   \n",
       "highway-mpg            0.034606      -1.782209e-01   0.191392   -0.254416   \n",
       "price                 -0.080149       1.338227e-01   0.112439    0.175745   \n",
       "make_others            0.105949       1.766373e-01  -0.076478    0.072280   \n",
       "make_mazda             0.068625       1.623146e-02   0.020356   -0.141121   \n",
       "make_mitsubishi        0.211978       1.532696e-01  -0.085556    0.190153   \n",
       "make_nissan            0.041422       1.292570e-01  -0.043921   -0.100783   \n",
       "make_peugot           -0.159891       1.869943e-01   0.286482    0.225968   \n",
       "make_subaru           -0.067071      -2.347263e-01  -0.081986   -0.008961   \n",
       "make_toyota           -0.094046      -1.543730e-01  -0.005524   -0.166890   \n",
       "make_volkswagen        0.167106      -3.944980e-03   0.198133   -0.008961   \n",
       "make_volvo            -0.403849      -2.301468e-01  -0.005338    0.169682   \n",
       "body-style_hardtop     0.168845       4.224357e-02   0.018635   -0.029074   \n",
       "body-style_hatchback   0.435648       1.969257e-01  -0.202093    0.009786   \n",
       "body-style_sedan      -0.378341      -3.216972e-02   0.185623    0.017111   \n",
       "body-style_wagon      -0.298243      -2.764103e-01   0.028183    0.018908   \n",
       "fuel-system_others     0.300785       1.174853e-01  -0.089018    0.325488   \n",
       "fuel-system_2bbl      -0.034069      -1.479999e-01  -0.226565   -0.323378   \n",
       "fuel-system_idi       -0.194311      -1.014370e-01   1.000000    0.401397   \n",
       "fuel-system_mpfi       0.012532       2.001105e-01  -0.302574   -0.050041   \n",
       "\n",
       "                      num-of-doors  drive-wheels  engine-location  wheel-base  \\\n",
       "symboling                -0.663595     -0.104505     2.124709e-01   -0.531954   \n",
       "normalized-losses        -0.357192      0.035599    -2.918301e-17   -0.056518   \n",
       "fuel-type                 0.188496      0.001367    -4.006951e-02    0.308346   \n",
       "aspiration                0.052803      0.141013    -5.719146e-02    0.257611   \n",
       "num-of-doors              1.000000      0.040527    -1.391294e-01    0.439635   \n",
       "drive-wheels              0.040527      1.000000     6.281341e-02    0.209492   \n",
       "engine-location          -0.139129      0.062813     1.000000e+00   -0.187790   \n",
       "wheel-base                0.439635      0.209492    -1.877902e-01    1.000000   \n",
       "length                    0.385675      0.252670    -5.098854e-02    0.874587   \n",
       "width                     0.197735      0.215544    -5.169764e-02    0.795144   \n",
       "height                    0.540286      0.158962    -1.062342e-01    0.589435   \n",
       "curb-weight               0.190720      0.388234     5.046820e-02    0.776386   \n",
       "engine-type              -0.186026      0.217866     6.180316e-02    0.034917   \n",
       "num-of-cylinders         -0.019503      0.161327     1.830476e-01    0.339507   \n",
       "engine-size               0.013919      0.229659     1.968263e-01    0.569329   \n",
       "bore                      0.109312      0.359980     1.851276e-01    0.489159   \n",
       "stroke                   -0.007217     -0.241604    -1.384932e-01    0.160779   \n",
       "compression-ratio         0.171797     -0.032820    -1.976200e-02    0.249786   \n",
       "horsepower               -0.128176      0.269443     3.176178e-01    0.351985   \n",
       "peak-rpm                 -0.240473     -0.138278     1.981901e-01   -0.361338   \n",
       "city-mpg                 -0.014271     -0.363968    -1.534875e-01   -0.470414   \n",
       "highway-mpg              -0.037452     -0.413178    -1.020262e-01   -0.544082   \n",
       "price                     0.046497      0.273712     3.314590e-01    0.584847   \n",
       "make_others              -0.056502      0.018985     1.829611e-01    0.114993   \n",
       "make_mazda               -0.057798     -0.066076    -3.664633e-02   -0.087050   \n",
       "make_mitsubishi          -0.135532     -0.161519    -3.171071e-02   -0.147396   \n",
       "make_nissan              -0.041222     -0.133834    -3.780945e-02   -0.156719   \n",
       "make_peugot               0.208575      0.122733    -2.901886e-02    0.453616   \n",
       "make_subaru               0.092641      0.317391    -3.038764e-02   -0.107161   \n",
       "make_toyota              -0.002910      0.068976    -5.241274e-02   -0.046785   \n",
       "make_volkswagen           0.050718     -0.154780    -3.038764e-02   -0.047664   \n",
       "make_volvo                0.208575      0.122733    -2.901886e-02    0.306228   \n",
       "body-style_hardtop       -0.230063      0.075248     3.949780e-01   -0.008608   \n",
       "body-style_hatchback     -0.614538     -0.131413    -8.775403e-02   -0.386094   \n",
       "body-style_sedan          0.526181     -0.049412    -1.143687e-01    0.291086   \n",
       "body-style_wagon          0.326437      0.192088    -4.541703e-02    0.210899   \n",
       "fuel-system_others       -0.231054     -0.058197    -3.299380e-02   -0.146773   \n",
       "fuel-system_2bbl          0.013769     -0.154901    -8.397490e-02   -0.396505   \n",
       "fuel-system_idi           0.188496      0.001367    -4.006951e-02    0.308346   \n",
       "fuel-system_mpfi          0.035746      0.240740     1.324288e-01    0.348891   \n",
       "\n",
       "                        length     width  ...  make_volkswagen  make_volvo  \\\n",
       "symboling            -0.357612 -0.232919  ...         0.167106   -0.403849   \n",
       "normalized-losses     0.019209  0.084195  ...        -0.003945   -0.230147   \n",
       "fuel-type             0.212679  0.233880  ...         0.198133   -0.005338   \n",
       "aspiration            0.234539  0.300567  ...        -0.008961    0.169682   \n",
       "num-of-doors          0.385675  0.197735  ...         0.050718    0.208575   \n",
       "drive-wheels          0.252670  0.215544  ...        -0.154780    0.122733   \n",
       "engine-location      -0.050989 -0.051698  ...        -0.030388   -0.029019   \n",
       "wheel-base            0.874587  0.795144  ...        -0.047664    0.306228   \n",
       "length                1.000000  0.841118  ...        -0.030714    0.285398   \n",
       "width                 0.841118  1.000000  ...        -0.033924    0.228758   \n",
       "height                0.491029  0.279210  ...         0.149194    0.245342   \n",
       "curb-weight           0.877728  0.867032  ...        -0.101966    0.221127   \n",
       "engine-type           0.174867  0.236397  ...        -0.115819   -0.068536   \n",
       "num-of-cylinders      0.430672  0.545007  ...        -0.068721   -0.003722   \n",
       "engine-size           0.683360  0.735433  ...        -0.117994    0.088077   \n",
       "bore                  0.606743  0.559213  ...        -0.184173    0.293626   \n",
       "stroke                0.129404  0.182911  ...         0.115168   -0.082389   \n",
       "compression-ratio     0.158414  0.181129  ...         0.219153    0.005092   \n",
       "horsepower            0.554408  0.642176  ...        -0.146554    0.143432   \n",
       "peak-rpm             -0.286362 -0.219374  ...         0.014708    0.082470   \n",
       "city-mpg             -0.670909 -0.642704  ...         0.128525   -0.147323   \n",
       "highway-mpg          -0.704662 -0.677218  ...         0.151196   -0.170992   \n",
       "price                 0.686567  0.724558  ...        -0.097484    0.148838   \n",
       "make_others           0.148100  0.215945  ...        -0.166088   -0.158607   \n",
       "make_mazda           -0.079248 -0.044906  ...        -0.074982   -0.071605   \n",
       "make_mitsubishi      -0.127248 -0.079518  ...        -0.064883   -0.061961   \n",
       "make_nissan          -0.077149 -0.118727  ...        -0.077362   -0.073877   \n",
       "make_peugot           0.330602  0.276302  ...        -0.059376   -0.056701   \n",
       "make_subaru          -0.105172 -0.111605  ...        -0.062176   -0.059376   \n",
       "make_toyota          -0.073906 -0.164234  ...        -0.107242   -0.102411   \n",
       "make_volkswagen      -0.030714 -0.033924  ...         1.000000   -0.059376   \n",
       "make_volvo            0.285398  0.228758  ...        -0.059376    1.000000   \n",
       "body-style_hardtop    0.047292  0.066360  ...        -0.050249   -0.047985   \n",
       "body-style_hatchback -0.436269 -0.222308  ...        -0.135734   -0.171466   \n",
       "body-style_sedan      0.269647  0.154637  ...         0.140772    0.123585   \n",
       "body-style_wagon      0.219683  0.060639  ...        -0.029427    0.109717   \n",
       "fuel-system_others   -0.092220 -0.046171  ...        -0.067509   -0.064468   \n",
       "fuel-system_2bbl     -0.487237 -0.522594  ...        -0.171821   -0.164082   \n",
       "fuel-system_idi       0.212679  0.233880  ...         0.198133   -0.005338   \n",
       "fuel-system_mpfi      0.511374  0.461896  ...         0.104154    0.215313   \n",
       "\n",
       "                      body-style_hardtop  body-style_hatchback  \\\n",
       "symboling                       0.168845              0.435648   \n",
       "normalized-losses               0.042244              0.196926   \n",
       "fuel-type                       0.018635             -0.202093   \n",
       "aspiration                     -0.029074              0.009786   \n",
       "num-of-doors                   -0.230063             -0.614538   \n",
       "drive-wheels                    0.075248             -0.131413   \n",
       "engine-location                 0.394978             -0.087754   \n",
       "wheel-base                     -0.008608             -0.386094   \n",
       "length                          0.047292             -0.436269   \n",
       "width                           0.066360             -0.222308   \n",
       "height                         -0.072328             -0.477476   \n",
       "curb-weight                     0.098956             -0.287501   \n",
       "engine-type                     0.004298              0.105312   \n",
       "num-of-cylinders                0.139149             -0.177782   \n",
       "engine-size                     0.239363             -0.216805   \n",
       "bore                            0.208232             -0.228032   \n",
       "stroke                          0.043152              0.052749   \n",
       "compression-ratio               0.029623             -0.202650   \n",
       "horsepower                      0.194226             -0.052646   \n",
       "peak-rpm                       -0.040165              0.160467   \n",
       "city-mpg                       -0.110993              0.120795   \n",
       "highway-mpg                    -0.102707              0.148868   \n",
       "price                           0.232240             -0.291631   \n",
       "make_others                     0.084158             -0.033716   \n",
       "make_mazda                     -0.060598              0.156487   \n",
       "make_mitsubishi                -0.052436              0.192519   \n",
       "make_nissan                     0.026485             -0.041667   \n",
       "make_peugot                    -0.047985             -0.171466   \n",
       "make_subaru                    -0.050249             -0.048095   \n",
       "make_toyota                     0.121540              0.087102   \n",
       "make_volkswagen                -0.050249             -0.135734   \n",
       "make_volvo                     -0.047985             -0.171466   \n",
       "body-style_hardtop              1.000000             -0.145109   \n",
       "body-style_hatchback           -0.145109              1.000000   \n",
       "body-style_sedan               -0.189119             -0.675779   \n",
       "body-style_wagon               -0.075101             -0.268359   \n",
       "fuel-system_others             -0.054558              0.294419   \n",
       "fuel-system_2bbl               -0.084946              0.120288   \n",
       "fuel-system_idi                 0.018635             -0.202093   \n",
       "fuel-system_mpfi                0.117876             -0.208463   \n",
       "\n",
       "                      body-style_sedan  body-style_wagon  fuel-system_others  \\\n",
       "symboling                    -0.378341         -0.298243            0.300785   \n",
       "normalized-losses            -0.032170         -0.276410            0.117485   \n",
       "fuel-type                     0.185623          0.028183           -0.089018   \n",
       "aspiration                    0.017111          0.018908            0.325488   \n",
       "num-of-doors                  0.526181          0.326437           -0.231054   \n",
       "drive-wheels                 -0.049412          0.192088           -0.058197   \n",
       "engine-location              -0.114369         -0.045417           -0.032994   \n",
       "wheel-base                    0.291086          0.210899           -0.146773   \n",
       "length                        0.269647          0.219683           -0.092220   \n",
       "width                         0.154637          0.060639           -0.046171   \n",
       "height                        0.235863          0.459148           -0.370878   \n",
       "curb-weight                   0.099425          0.164075           -0.005247   \n",
       "engine-type                  -0.131957         -0.042746            0.099722   \n",
       "num-of-cylinders              0.113090         -0.048559           -0.203153   \n",
       "engine-size                   0.088459         -0.027518           -0.065966   \n",
       "bore                          0.031194          0.105987            0.021196   \n",
       "stroke                        0.035338         -0.095200            0.243116   \n",
       "compression-ratio             0.188286          0.016315           -0.155667   \n",
       "horsepower                   -0.027364         -0.059118            0.103233   \n",
       "peak-rpm                     -0.087418         -0.081524            0.151767   \n",
       "city-mpg                      0.014870         -0.067356           -0.195788   \n",
       "highway-mpg                   0.011218         -0.110194           -0.175989   \n",
       "price                         0.145989         -0.036906           -0.060878   \n",
       "make_others                   0.052918         -0.086685           -0.012676   \n",
       "make_mazda                   -0.034065         -0.112067            0.128961   \n",
       "make_mitsubishi              -0.083748         -0.096974            0.485007   \n",
       "make_nissan                   0.019714          0.042396           -0.083997   \n",
       "make_peugot                   0.080203          0.175871           -0.064468   \n",
       "make_subaru                  -0.025798          0.161075           -0.067509   \n",
       "make_toyota                  -0.134278          0.004007           -0.116439   \n",
       "make_volkswagen               0.140772         -0.029427           -0.067509   \n",
       "make_volvo                    0.123585          0.109717           -0.064468   \n",
       "body-style_hardtop           -0.189119         -0.075101           -0.054558   \n",
       "body-style_hatchback         -0.675779         -0.268359            0.294419   \n",
       "body-style_sedan              1.000000         -0.349749           -0.176570   \n",
       "body-style_wagon             -0.349749          1.000000           -0.100898   \n",
       "fuel-system_others           -0.176570         -0.100898            1.000000   \n",
       "fuel-system_2bbl             -0.060830          0.030349           -0.186557   \n",
       "fuel-system_idi               0.185623          0.028183           -0.089018   \n",
       "fuel-system_mpfi              0.078094          0.016053           -0.249144   \n",
       "\n",
       "                      fuel-system_2bbl  fuel-system_idi  fuel-system_mpfi  \n",
       "symboling                    -0.034069        -0.194311          0.012532  \n",
       "normalized-losses            -0.148000        -0.101437          0.200111  \n",
       "fuel-type                    -0.226565         1.000000         -0.302574  \n",
       "aspiration                   -0.323378         0.401397         -0.050041  \n",
       "num-of-doors                  0.013769         0.188496          0.035746  \n",
       "drive-wheels                 -0.154901         0.001367          0.240740  \n",
       "engine-location              -0.083975        -0.040070          0.132429  \n",
       "wheel-base                   -0.396505         0.308346          0.348891  \n",
       "length                       -0.487237         0.212679          0.511374  \n",
       "width                        -0.522594         0.233880          0.461896  \n",
       "height                       -0.079418         0.284631          0.108685  \n",
       "curb-weight                  -0.577159         0.217275          0.520220  \n",
       "engine-type                  -0.238908        -0.152720          0.314498  \n",
       "num-of-cylinders             -0.252848        -0.024544          0.392551  \n",
       "engine-size                  -0.442562         0.069594          0.483520  \n",
       "bore                         -0.352840         0.054688          0.419632  \n",
       "stroke                       -0.235081         0.241726         -0.110410  \n",
       "compression-ratio            -0.183384         0.984356         -0.311035  \n",
       "horsepower                   -0.544696        -0.165169          0.632534  \n",
       "peak-rpm                     -0.097027        -0.477507          0.152171  \n",
       "city-mpg                      0.520751         0.255963         -0.644489  \n",
       "highway-mpg                   0.528009         0.191392         -0.610813  \n",
       "price                        -0.493613         0.112439          0.503366  \n",
       "make_others                  -0.074288        -0.076478          0.193347  \n",
       "make_mazda                    0.171382         0.020356         -0.205725  \n",
       "make_mitsubishi               0.077739        -0.085556         -0.239455  \n",
       "make_nissan                   0.192012        -0.043921         -0.077958  \n",
       "make_peugot                  -0.164082         0.286482          0.041537  \n",
       "make_subaru                   0.183970        -0.081986         -0.062655  \n",
       "make_toyota                   0.077597        -0.005524          0.035789  \n",
       "make_volkswagen              -0.171821         0.198133          0.104154  \n",
       "make_volvo                   -0.164082        -0.005338          0.215313  \n",
       "body-style_hardtop           -0.084946         0.018635          0.117876  \n",
       "body-style_hatchback          0.120288        -0.202093         -0.208463  \n",
       "body-style_sedan             -0.060830         0.185623          0.078094  \n",
       "body-style_wagon              0.030349         0.028183          0.016053  \n",
       "fuel-system_others           -0.186557        -0.089018         -0.249144  \n",
       "fuel-system_2bbl              1.000000        -0.226565         -0.634114  \n",
       "fuel-system_idi              -0.226565         1.000000         -0.302574  \n",
       "fuel-system_mpfi             -0.634114        -0.302574          1.000000  \n",
       "\n",
       "[40 rows x 40 columns]"
      ]
     },
     "execution_count": 116,
     "metadata": {},
     "output_type": "execute_result"
    }
   ],
   "source": [
    "df.corr()"
   ]
  },
  {
   "cell_type": "code",
   "execution_count": 117,
   "id": "1b00ffe9",
   "metadata": {},
   "outputs": [
    {
     "data": {
      "text/plain": [
       "<AxesSubplot:>"
      ]
     },
     "execution_count": 117,
     "metadata": {},
     "output_type": "execute_result"
    },
    {
     "data": {
      "image/png": "[encoded data removed]",
      "text/plain": [
       "<Figure size 3000x500 with 2 Axes>"
      ]
     },
     "metadata": {},
     "output_type": "display_data"
    }
   ],
   "source": [
    "plt.figure(figsize=(30,5))\n",
    "sns.heatmap(df.corr().head(23).tail(1),annot=True,cmap=\"Blues\")"
   ]
  },
  {
   "cell_type": "code",
   "execution_count": 118,
   "id": "77b8c4dd",
   "metadata": {},
   "outputs": [
    {
     "data": {
      "text/plain": [
       "<AxesSubplot:>"
      ]
     },
     "execution_count": 118,
     "metadata": {},
     "output_type": "execute_result"
    },
    {
     "data": {
      "image/png": "[encoded data removed]",
      "text/plain": [
       "<Figure size 640x480 with 1 Axes>"
      ]
     },
     "metadata": {},
     "output_type": "display_data"
    }
   ],
   "source": [
    "vif_lis = []\n",
    "\n",
    "for i in range(df.shape[1]):\n",
    "    vif = variance_inflation_factor(df,i)\n",
    "    vif_lis.append(vif)\n",
    "    \n",
    "s = pd.Series(vif_lis,index=df.columns)\n",
    "s.sort_values().plot(kind=\"barh\")"
   ]
  },
  {
   "cell_type": "markdown",
   "id": "266078ef",
   "metadata": {},
   "source": [
    "# Train-Test Model"
   ]
  },
  {
   "cell_type": "code",
   "execution_count": 119,
   "id": "37a5d31f",
   "metadata": {},
   "outputs": [],
   "source": [
    "x = df.drop(\"price\",axis=1)\n",
    "y = df[\"price\"]"
   ]
  },
  {
   "cell_type": "code",
   "execution_count": 120,
   "id": "6d2d9340",
   "metadata": {},
   "outputs": [],
   "source": [
    "x_train,x_test,y_train,y_test = train_test_split(x,y,test_size=0.2,random_state=101)"
   ]
  },
  {
   "cell_type": "code",
   "execution_count": 121,
   "id": "3e11d35b",
   "metadata": {},
   "outputs": [
    {
     "name": "stdout",
     "output_type": "stream",
     "text": [
      "(164, 39)\n",
      "(41, 39)\n",
      "(164,)\n",
      "(41,)\n"
     ]
    }
   ],
   "source": [
    "print(x_train.shape)\n",
    "print(x_test.shape)\n",
    "print(y_train.shape)\n",
    "print(y_test.shape)"
   ]
  },
  {
   "cell_type": "code",
   "execution_count": 122,
   "id": "b73c9c9d",
   "metadata": {},
   "outputs": [
    {
     "data": {
      "text/plain": [
       "LinearRegression()"
      ]
     },
     "execution_count": 122,
     "metadata": {},
     "output_type": "execute_result"
    }
   ],
   "source": [
    "model = LinearRegression()\n",
    "model.fit(x_train,y_train)"
   ]
  },
  {
   "cell_type": "code",
   "execution_count": 123,
   "id": "f14ee6d0",
   "metadata": {},
   "outputs": [
    {
     "data": {
      "text/plain": [
       "array([ 6553.52215223,  9149.62277701, 17941.81069875,  8516.9048437 ,\n",
       "       12153.22284031, 17003.7353811 , 15111.81368046,  6016.12471035,\n",
       "        9068.64267385,  7477.923286  , 12486.68578794, 18672.12894818,\n",
       "        5244.10407112,  4433.85724455, 12537.1539824 , 16013.23129681,\n",
       "        9773.53094526, 10157.85625839,  4917.34845011,  6123.59650645,\n",
       "        7175.45411762,  7507.30958991,  4911.44229524,  7101.71234501,\n",
       "       13803.50930214, 34254.77011748,  7055.4362354 ,  9440.38653127,\n",
       "        7569.81395194, 11439.0039021 ,  8550.0134249 ,  9143.89501064,\n",
       "       20049.23199959,  8698.92266992, 17395.85060633, 15758.54373002,\n",
       "        6078.38561485,  6048.52657049,  9470.48489657, 10522.33370434,\n",
       "        6351.20904643])"
      ]
     },
     "execution_count": 123,
     "metadata": {},
     "output_type": "execute_result"
    }
   ],
   "source": [
    "y_pred = model.predict(x_test)\n",
    "y_pred"
   ]
  },
  {
   "cell_type": "code",
   "execution_count": 124,
   "id": "8db1f17c",
   "metadata": {},
   "outputs": [
    {
     "data": {
      "text/plain": [
       "120     6229\n",
       "185     8195\n",
       "180    15690\n",
       "119     7957\n",
       "109    12440\n",
       "104    17199\n",
       "133    12170\n",
       "89      5499\n",
       "37      7895\n",
       "34      7129\n",
       "145    11259\n",
       "65     18280\n",
       "78      6669\n",
       "152     6488\n",
       "149    11694\n",
       "66     18344\n",
       "85      6989\n",
       "173     8948\n",
       "31      6855\n",
       "91      6649\n",
       "42     10345\n",
       "41     12945\n",
       "153     6918\n",
       "54      7395\n",
       "167     8449\n",
       "48     35550\n",
       "50      5195\n",
       "158     7898\n",
       "184     7995\n",
       "144     9233\n",
       "25      6692\n",
       "55     10945\n",
       "201    19045\n",
       "2      16500\n",
       "12     20970\n",
       "197    16515\n",
       "96      7499\n",
       "22      6377\n",
       "100     9549\n",
       "39      8845\n",
       "32      5399\n",
       "Name: price, dtype: int32"
      ]
     },
     "execution_count": 124,
     "metadata": {},
     "output_type": "execute_result"
    }
   ],
   "source": [
    "y_test"
   ]
  },
  {
   "cell_type": "code",
   "execution_count": 125,
   "id": "e46fa471",
   "metadata": {},
   "outputs": [
    {
     "data": {
      "text/plain": [
       "120     324.522152\n",
       "185     954.622777\n",
       "180    2251.810699\n",
       "119     559.904844\n",
       "109    -286.777160\n",
       "104    -195.264619\n",
       "133    2941.813680\n",
       "89      517.124710\n",
       "37     1173.642674\n",
       "34      348.923286\n",
       "145    1227.685788\n",
       "65      392.128948\n",
       "78    -1424.895929\n",
       "152   -2054.142755\n",
       "149     843.153982\n",
       "66    -2330.768703\n",
       "85     2784.530945\n",
       "173    1209.856258\n",
       "31    -1937.651550\n",
       "91     -525.403494\n",
       "42    -3169.545882\n",
       "41    -5437.690410\n",
       "153   -2006.557705\n",
       "54     -293.287655\n",
       "167    5354.509302\n",
       "48    -1295.229883\n",
       "50     1860.436235\n",
       "158    1542.386531\n",
       "184    -425.186048\n",
       "144    2206.003902\n",
       "25     1858.013425\n",
       "55    -1801.104989\n",
       "201    1004.232000\n",
       "2     -7801.077330\n",
       "12    -3574.149394\n",
       "197    -756.456270\n",
       "96    -1420.614385\n",
       "22     -328.473430\n",
       "100     -78.515103\n",
       "39     1677.333704\n",
       "32      952.209046\n",
       "Name: price, dtype: float64"
      ]
     },
     "execution_count": 125,
     "metadata": {},
     "output_type": "execute_result"
    }
   ],
   "source": [
    "residual = y_pred - y_test\n",
    "residual"
   ]
  },
  {
   "cell_type": "markdown",
   "id": "f793772c",
   "metadata": {},
   "source": [
    "# Model Evalution"
   ]
  },
  {
   "cell_type": "code",
   "execution_count": 126,
   "id": "a8f5b317",
   "metadata": {},
   "outputs": [
    {
     "name": "stdout",
     "output_type": "stream",
     "text": [
      "Mean Squared Error:  6965449.6430972265\n",
      "Root Mean Squared Error:  2639.2138304990044\n",
      "Mean Absolute Error:  1918.0798237595895\n",
      "r_squared_value for Training:  0.8962257086940218\n"
     ]
    }
   ],
   "source": [
    "# Training Data\n",
    "\n",
    "y_pred_train = model.predict(x_train)\n",
    "\n",
    "mse = mean_squared_error(y_train,y_pred_train)\n",
    "print(\"Mean Squared Error: \",mse)\n",
    "\n",
    "rmse = np.sqrt(mse)\n",
    "print(\"Root Mean Squared Error: \",rmse)\n",
    "\n",
    "mae = mean_absolute_error(y_train,y_pred_train)\n",
    "print(\"Mean Absolute Error: \",mae)\n",
    "\n",
    "r_square = r2_score(y_train,y_pred_train)\n",
    "print(\"r_squared_value for Training: \",r_square)\n"
   ]
  },
  {
   "cell_type": "code",
   "execution_count": 127,
   "id": "c5880333",
   "metadata": {},
   "outputs": [
    {
     "name": "stdout",
     "output_type": "stream",
     "text": [
      "Mean Squared Error:  5291885.700046881\n",
      "Root Mean Squared Error:  2300.4098982674545\n",
      "Mean Absolute Error:  1686.0399410785194\n",
      "r_squared_value for Training:  0.8420539155713954\n"
     ]
    }
   ],
   "source": [
    "mse = mean_squared_error(y_test,y_pred)\n",
    "print(\"Mean Squared Error: \",mse)\n",
    "\n",
    "rmse = np.sqrt(mse)\n",
    "print(\"Root Mean Squared Error: \",rmse)\n",
    "\n",
    "mae = mean_absolute_error(y_test,y_pred)\n",
    "print(\"Mean Absolute Error: \",mae)\n",
    "\n",
    "r_square = r2_score(y_test,y_pred)\n",
    "print(\"r_squared_value for Training: \",r_square)"
   ]
  },
  {
   "cell_type": "markdown",
   "id": "c9ee5cf4",
   "metadata": {},
   "source": [
    "# Normality of Residual"
   ]
  },
  {
   "cell_type": "code",
   "execution_count": 128,
   "id": "2cc4470f",
   "metadata": {},
   "outputs": [
    {
     "data": {
      "text/plain": [
       "154     1792.407736\n",
       "74      5067.843487\n",
       "179    -1660.331454\n",
       "118    -1500.999799\n",
       "16     14891.744131\n",
       "           ...     \n",
       "63     -2793.239099\n",
       "70      1042.109907\n",
       "81      -370.724254\n",
       "11       758.574091\n",
       "95      3076.850277\n",
       "Name: price, Length: 164, dtype: float64"
      ]
     },
     "execution_count": 128,
     "metadata": {},
     "output_type": "execute_result"
    }
   ],
   "source": [
    "Residual = y_train - y_pred_train\n",
    "Residual"
   ]
  },
  {
   "cell_type": "markdown",
   "id": "2a85d37a",
   "metadata": {},
   "source": [
    "### 1. Kde\n",
    "\n"
   ]
  },
  {
   "cell_type": "code",
   "execution_count": 129,
   "id": "40bbf8b6",
   "metadata": {},
   "outputs": [
    {
     "data": {
      "text/plain": [
       "<AxesSubplot:xlabel='price', ylabel='Density'>"
      ]
     },
     "execution_count": 129,
     "metadata": {},
     "output_type": "execute_result"
    },
    {
     "data": {
      "image/png": "[encoded data removed]",
      "text/plain": [
       "<Figure size 640x480 with 1 Axes>"
      ]
     },
     "metadata": {},
     "output_type": "display_data"
    }
   ],
   "source": [
    "sns.kdeplot(Residual,fill=True)"
   ]
  },
  {
   "cell_type": "markdown",
   "id": "ddff47c4",
   "metadata": {},
   "source": [
    "### 2. Hypothesis Testing"
   ]
  },
  {
   "cell_type": "markdown",
   "id": "97ecbc86",
   "metadata": {},
   "source": [
    "### 2.1 USing Shepiro Test"
   ]
  },
  {
   "cell_type": "code",
   "execution_count": 130,
   "id": "e02ab1b2",
   "metadata": {},
   "outputs": [
    {
     "data": {
      "text/plain": [
       "1.065202468453208e-06"
      ]
     },
     "execution_count": 130,
     "metadata": {},
     "output_type": "execute_result"
    }
   ],
   "source": [
    "_,p_val = shapiro(Residual)\n",
    "p_val\n"
   ]
  },
  {
   "cell_type": "markdown",
   "id": "37235a1c",
   "metadata": {},
   "source": [
    "### 2.2 Normal Test"
   ]
  },
  {
   "cell_type": "code",
   "execution_count": 131,
   "id": "5c7b0230",
   "metadata": {},
   "outputs": [
    {
     "data": {
      "text/plain": [
       "3.507867534026186e-11"
      ]
     },
     "execution_count": 131,
     "metadata": {},
     "output_type": "execute_result"
    }
   ],
   "source": [
    "_, p_val = normaltest(Residual)\n",
    "p_val"
   ]
  },
  {
   "cell_type": "markdown",
   "id": "e6e2cf6b",
   "metadata": {},
   "source": [
    "### 2.3 Ks Test"
   ]
  },
  {
   "cell_type": "code",
   "execution_count": 132,
   "id": "f638b1cb",
   "metadata": {},
   "outputs": [
    {
     "data": {
      "text/plain": [
       "1.1223322591861413e-44"
      ]
     },
     "execution_count": 132,
     "metadata": {},
     "output_type": "execute_result"
    }
   ],
   "source": [
    "_,p_val = kstest(Residual,\"norm\")\n",
    "p_val"
   ]
  },
  {
   "cell_type": "markdown",
   "id": "456a65ea",
   "metadata": {},
   "source": [
    "### 3. QQ Plot"
   ]
  },
  {
   "cell_type": "code",
   "execution_count": 133,
   "id": "10fa24e1",
   "metadata": {},
   "outputs": [
    {
     "data": {
      "image/png": "[encoded data removed]",
      "text/plain": [
       "<Figure size 640x480 with 1 Axes>"
      ]
     },
     "execution_count": 133,
     "metadata": {},
     "output_type": "execute_result"
    },
    {
     "data": {
      "image/png": "[encoded data removed]",
      "text/plain": [
       "<Figure size 640x480 with 1 Axes>"
      ]
     },
     "metadata": {},
     "output_type": "display_data"
    }
   ],
   "source": [
    "sm.qqplot(Residual,line=\"45\",fit=True)"
   ]
  },
  {
   "cell_type": "markdown",
   "id": "3cb54d72",
   "metadata": {},
   "source": [
    "# Homoscaditity"
   ]
  },
  {
   "cell_type": "code",
   "execution_count": 134,
   "id": "20a9642a",
   "metadata": {
    "scrolled": false
   },
   "outputs": [
    {
     "data": {
      "text/plain": [
       "<AxesSubplot:xlabel='price', ylabel='price'>"
      ]
     },
     "execution_count": 134,
     "metadata": {},
     "output_type": "execute_result"
    },
    {
     "data": {
      "image/png": "[encoded data removed]",
      "text/plain": [
       "<Figure size 640x480 with 1 Axes>"
      ]
     },
     "metadata": {},
     "output_type": "display_data"
    }
   ],
   "source": [
    "sns.scatterplot(x = y_train, y = Residual)"
   ]
  },
  {
   "cell_type": "markdown",
   "id": "e0a83273",
   "metadata": {},
   "source": [
    "# Let's Handle the Outlier"
   ]
  },
  {
   "cell_type": "code",
   "execution_count": 135,
   "id": "0477c1a2",
   "metadata": {},
   "outputs": [
    {
     "data": {
      "text/html": [
       "<div>\n",
       "<style scoped>\n",
       "    .dataframe tbody tr th:only-of-type {\n",
       "        vertical-align: middle;\n",
       "    }\n",
       "\n",
       "    .dataframe tbody tr th {\n",
       "        vertical-align: top;\n",
       "    }\n",
       "\n",
       "    .dataframe thead th {\n",
       "        text-align: right;\n",
       "    }\n",
       "</style>\n",
       "<table border=\"1\" class=\"dataframe\">\n",
       "  <thead>\n",
       "    <tr style=\"text-align: right;\">\n",
       "      <th></th>\n",
       "      <th>symboling</th>\n",
       "      <th>normalized-losses</th>\n",
       "      <th>fuel-type</th>\n",
       "      <th>aspiration</th>\n",
       "      <th>num-of-doors</th>\n",
       "      <th>drive-wheels</th>\n",
       "      <th>engine-location</th>\n",
       "      <th>wheel-base</th>\n",
       "      <th>length</th>\n",
       "      <th>width</th>\n",
       "      <th>...</th>\n",
       "      <th>make_volkswagen</th>\n",
       "      <th>make_volvo</th>\n",
       "      <th>body-style_hardtop</th>\n",
       "      <th>body-style_hatchback</th>\n",
       "      <th>body-style_sedan</th>\n",
       "      <th>body-style_wagon</th>\n",
       "      <th>fuel-system_others</th>\n",
       "      <th>fuel-system_2bbl</th>\n",
       "      <th>fuel-system_idi</th>\n",
       "      <th>fuel-system_mpfi</th>\n",
       "    </tr>\n",
       "  </thead>\n",
       "  <tbody>\n",
       "    <tr>\n",
       "      <th>0</th>\n",
       "      <td>3</td>\n",
       "      <td>122</td>\n",
       "      <td>0</td>\n",
       "      <td>0</td>\n",
       "      <td>2</td>\n",
       "      <td>1</td>\n",
       "      <td>0</td>\n",
       "      <td>88.6</td>\n",
       "      <td>168.8</td>\n",
       "      <td>64.1</td>\n",
       "      <td>...</td>\n",
       "      <td>0.0</td>\n",
       "      <td>0.0</td>\n",
       "      <td>0</td>\n",
       "      <td>0</td>\n",
       "      <td>0</td>\n",
       "      <td>0</td>\n",
       "      <td>0</td>\n",
       "      <td>0</td>\n",
       "      <td>0</td>\n",
       "      <td>1</td>\n",
       "    </tr>\n",
       "    <tr>\n",
       "      <th>1</th>\n",
       "      <td>3</td>\n",
       "      <td>122</td>\n",
       "      <td>0</td>\n",
       "      <td>0</td>\n",
       "      <td>2</td>\n",
       "      <td>1</td>\n",
       "      <td>0</td>\n",
       "      <td>88.6</td>\n",
       "      <td>168.8</td>\n",
       "      <td>64.1</td>\n",
       "      <td>...</td>\n",
       "      <td>0.0</td>\n",
       "      <td>0.0</td>\n",
       "      <td>0</td>\n",
       "      <td>0</td>\n",
       "      <td>0</td>\n",
       "      <td>0</td>\n",
       "      <td>0</td>\n",
       "      <td>0</td>\n",
       "      <td>0</td>\n",
       "      <td>1</td>\n",
       "    </tr>\n",
       "    <tr>\n",
       "      <th>2</th>\n",
       "      <td>1</td>\n",
       "      <td>122</td>\n",
       "      <td>0</td>\n",
       "      <td>0</td>\n",
       "      <td>2</td>\n",
       "      <td>1</td>\n",
       "      <td>0</td>\n",
       "      <td>94.5</td>\n",
       "      <td>171.2</td>\n",
       "      <td>65.5</td>\n",
       "      <td>...</td>\n",
       "      <td>0.0</td>\n",
       "      <td>0.0</td>\n",
       "      <td>0</td>\n",
       "      <td>1</td>\n",
       "      <td>0</td>\n",
       "      <td>0</td>\n",
       "      <td>0</td>\n",
       "      <td>0</td>\n",
       "      <td>0</td>\n",
       "      <td>1</td>\n",
       "    </tr>\n",
       "    <tr>\n",
       "      <th>3</th>\n",
       "      <td>2</td>\n",
       "      <td>164</td>\n",
       "      <td>0</td>\n",
       "      <td>0</td>\n",
       "      <td>4</td>\n",
       "      <td>0</td>\n",
       "      <td>0</td>\n",
       "      <td>99.8</td>\n",
       "      <td>176.6</td>\n",
       "      <td>66.2</td>\n",
       "      <td>...</td>\n",
       "      <td>0.0</td>\n",
       "      <td>0.0</td>\n",
       "      <td>0</td>\n",
       "      <td>0</td>\n",
       "      <td>1</td>\n",
       "      <td>0</td>\n",
       "      <td>0</td>\n",
       "      <td>0</td>\n",
       "      <td>0</td>\n",
       "      <td>1</td>\n",
       "    </tr>\n",
       "    <tr>\n",
       "      <th>4</th>\n",
       "      <td>2</td>\n",
       "      <td>164</td>\n",
       "      <td>0</td>\n",
       "      <td>0</td>\n",
       "      <td>4</td>\n",
       "      <td>4</td>\n",
       "      <td>0</td>\n",
       "      <td>99.4</td>\n",
       "      <td>176.6</td>\n",
       "      <td>66.4</td>\n",
       "      <td>...</td>\n",
       "      <td>0.0</td>\n",
       "      <td>0.0</td>\n",
       "      <td>0</td>\n",
       "      <td>0</td>\n",
       "      <td>1</td>\n",
       "      <td>0</td>\n",
       "      <td>0</td>\n",
       "      <td>0</td>\n",
       "      <td>0</td>\n",
       "      <td>1</td>\n",
       "    </tr>\n",
       "  </tbody>\n",
       "</table>\n",
       "<p>5 rows × 40 columns</p>\n",
       "</div>"
      ],
      "text/plain": [
       "   symboling  normalized-losses  fuel-type  aspiration  num-of-doors  \\\n",
       "0          3                122          0           0             2   \n",
       "1          3                122          0           0             2   \n",
       "2          1                122          0           0             2   \n",
       "3          2                164          0           0             4   \n",
       "4          2                164          0           0             4   \n",
       "\n",
       "   drive-wheels  engine-location  wheel-base  length  width  ...  \\\n",
       "0             1                0        88.6   168.8   64.1  ...   \n",
       "1             1                0        88.6   168.8   64.1  ...   \n",
       "2             1                0        94.5   171.2   65.5  ...   \n",
       "3             0                0        99.8   176.6   66.2  ...   \n",
       "4             4                0        99.4   176.6   66.4  ...   \n",
       "\n",
       "   make_volkswagen  make_volvo  body-style_hardtop  body-style_hatchback  \\\n",
       "0              0.0         0.0                   0                     0   \n",
       "1              0.0         0.0                   0                     0   \n",
       "2              0.0         0.0                   0                     1   \n",
       "3              0.0         0.0                   0                     0   \n",
       "4              0.0         0.0                   0                     0   \n",
       "\n",
       "   body-style_sedan  body-style_wagon  fuel-system_others  fuel-system_2bbl  \\\n",
       "0                 0                 0                   0                 0   \n",
       "1                 0                 0                   0                 0   \n",
       "2                 0                 0                   0                 0   \n",
       "3                 1                 0                   0                 0   \n",
       "4                 1                 0                   0                 0   \n",
       "\n",
       "   fuel-system_idi  fuel-system_mpfi  \n",
       "0                0                 1  \n",
       "1                0                 1  \n",
       "2                0                 1  \n",
       "3                0                 1  \n",
       "4                0                 1  \n",
       "\n",
       "[5 rows x 40 columns]"
      ]
     },
     "execution_count": 135,
     "metadata": {},
     "output_type": "execute_result"
    }
   ],
   "source": [
    "df.head(5)"
   ]
  },
  {
   "cell_type": "markdown",
   "id": "791731d9",
   "metadata": {},
   "source": [
    "### symboling"
   ]
  },
  {
   "cell_type": "code",
   "execution_count": 136,
   "id": "0a427484",
   "metadata": {},
   "outputs": [
    {
     "data": {
      "text/plain": [
       "<AxesSubplot:xlabel='symboling'>"
      ]
     },
     "execution_count": 136,
     "metadata": {},
     "output_type": "execute_result"
    },
    {
     "data": {
      "image/png": "[encoded data removed]",
      "text/plain": [
       "<Figure size 640x480 with 1 Axes>"
      ]
     },
     "metadata": {},
     "output_type": "display_data"
    }
   ],
   "source": [
    "sns.boxplot(x = df[\"symboling\"])"
   ]
  },
  {
   "cell_type": "markdown",
   "id": "ae36639b",
   "metadata": {},
   "source": [
    "### normalized-losses"
   ]
  },
  {
   "cell_type": "code",
   "execution_count": 137,
   "id": "9524b56a",
   "metadata": {},
   "outputs": [
    {
     "data": {
      "text/plain": [
       "<AxesSubplot:xlabel='normalized-losses'>"
      ]
     },
     "execution_count": 137,
     "metadata": {},
     "output_type": "execute_result"
    },
    {
     "data": {
      "image/png": "[encoded data removed]",
      "text/plain": [
       "<Figure size 640x480 with 1 Axes>"
      ]
     },
     "metadata": {},
     "output_type": "display_data"
    }
   ],
   "source": [
    "sns.boxplot(x = df[\"normalized-losses\"])"
   ]
  },
  {
   "cell_type": "code",
   "execution_count": 138,
   "id": "30a18337",
   "metadata": {},
   "outputs": [
    {
     "name": "stdout",
     "output_type": "stream",
     "text": [
      "value of Q1: 101.0\n",
      "value of Q2(Median): 122.0\n",
      "value of Q3: 137.0\n",
      "--------------------------------------------------\n",
      "value of Iqr: 36.0\n",
      "--------------------------------------------------\n",
      "value of Lower tail: 47.0\n",
      "value of Upper tail: 191.0\n"
     ]
    }
   ],
   "source": [
    "q1 = df[\"normalized-losses\"].quantile(0.25)\n",
    "q2 = df[\"normalized-losses\"].quantile(0.50)\n",
    "q3 = df[\"normalized-losses\"].quantile(0.75)\n",
    "\n",
    "iqr = q3 - q1 \n",
    "\n",
    "lower_tail = q1 - 1.5 * iqr\n",
    "upper_tail = q3 + 1.5 * iqr\n",
    "\n",
    "print(\"value of Q1:\",q1)\n",
    "print(\"value of Q2(Median):\",q2)\n",
    "print(\"value of Q3:\",q3)\n",
    "print(\"-\"*50)\n",
    "print(\"value of Iqr:\",iqr)\n",
    "print(\"-\"*50)\n",
    "print(\"value of Lower tail:\",lower_tail)\n",
    "print(\"value of Upper tail:\",upper_tail)\n"
   ]
  },
  {
   "cell_type": "code",
   "execution_count": 139,
   "id": "5236f224",
   "metadata": {},
   "outputs": [],
   "source": [
    "df.loc[df[\"normalized-losses\"] > upper_tail,\"normalized-losses\"] = upper_tail"
   ]
  },
  {
   "cell_type": "code",
   "execution_count": 140,
   "id": "ee4c80e0",
   "metadata": {},
   "outputs": [
    {
     "data": {
      "text/plain": [
       "Series([], Name: normalized-losses, dtype: int32)"
      ]
     },
     "execution_count": 140,
     "metadata": {},
     "output_type": "execute_result"
    }
   ],
   "source": [
    "df.loc[df[\"normalized-losses\"] > upper_tail,\"normalized-losses\"]"
   ]
  },
  {
   "cell_type": "code",
   "execution_count": 141,
   "id": "9f5d43b6",
   "metadata": {},
   "outputs": [
    {
     "data": {
      "text/plain": [
       "<AxesSubplot:xlabel='normalized-losses'>"
      ]
     },
     "execution_count": 141,
     "metadata": {},
     "output_type": "execute_result"
    },
    {
     "data": {
      "image/png": "[encoded data removed]",
      "text/plain": [
       "<Figure size 640x480 with 1 Axes>"
      ]
     },
     "metadata": {},
     "output_type": "display_data"
    }
   ],
   "source": [
    "sns.boxplot(x = df[\"normalized-losses\"])"
   ]
  },
  {
   "cell_type": "markdown",
   "id": "db71cdba",
   "metadata": {},
   "source": [
    "### fuel-type"
   ]
  },
  {
   "cell_type": "code",
   "execution_count": 142,
   "id": "9d6f74a1",
   "metadata": {},
   "outputs": [
    {
     "data": {
      "text/plain": [
       "<AxesSubplot:xlabel='fuel-type'>"
      ]
     },
     "execution_count": 142,
     "metadata": {},
     "output_type": "execute_result"
    },
    {
     "data": {
      "image/png": "[encoded data removed]",
      "text/plain": [
       "<Figure size 640x480 with 1 Axes>"
      ]
     },
     "metadata": {},
     "output_type": "display_data"
    }
   ],
   "source": [
    "sns.boxplot(x = df[\"fuel-type\"])"
   ]
  },
  {
   "cell_type": "markdown",
   "id": "cd8c10fb",
   "metadata": {},
   "source": [
    "### aspiration"
   ]
  },
  {
   "cell_type": "code",
   "execution_count": 143,
   "id": "a4e8413b",
   "metadata": {},
   "outputs": [
    {
     "data": {
      "text/plain": [
       "<AxesSubplot:xlabel='aspiration'>"
      ]
     },
     "execution_count": 143,
     "metadata": {},
     "output_type": "execute_result"
    },
    {
     "data": {
      "image/png": "[encoded data removed]",
      "text/plain": [
       "<Figure size 640x480 with 1 Axes>"
      ]
     },
     "metadata": {},
     "output_type": "display_data"
    }
   ],
   "source": [
    "sns.boxplot(x = df[\"aspiration\"])"
   ]
  },
  {
   "cell_type": "markdown",
   "id": "16174329",
   "metadata": {},
   "source": [
    "### num-of-doors"
   ]
  },
  {
   "cell_type": "code",
   "execution_count": 144,
   "id": "10c24297",
   "metadata": {},
   "outputs": [
    {
     "data": {
      "text/plain": [
       "<AxesSubplot:xlabel='num-of-doors'>"
      ]
     },
     "execution_count": 144,
     "metadata": {},
     "output_type": "execute_result"
    },
    {
     "data": {
      "image/png": "[encoded data removed]",
      "text/plain": [
       "<Figure size 640x480 with 1 Axes>"
      ]
     },
     "metadata": {},
     "output_type": "display_data"
    }
   ],
   "source": [
    "sns.boxplot(x = df[\"num-of-doors\"])"
   ]
  },
  {
   "cell_type": "code",
   "execution_count": 145,
   "id": "f6d577ae",
   "metadata": {},
   "outputs": [
    {
     "data": {
      "text/html": [
       "<div>\n",
       "<style scoped>\n",
       "    .dataframe tbody tr th:only-of-type {\n",
       "        vertical-align: middle;\n",
       "    }\n",
       "\n",
       "    .dataframe tbody tr th {\n",
       "        vertical-align: top;\n",
       "    }\n",
       "\n",
       "    .dataframe thead th {\n",
       "        text-align: right;\n",
       "    }\n",
       "</style>\n",
       "<table border=\"1\" class=\"dataframe\">\n",
       "  <thead>\n",
       "    <tr style=\"text-align: right;\">\n",
       "      <th></th>\n",
       "      <th>symboling</th>\n",
       "      <th>normalized-losses</th>\n",
       "      <th>fuel-type</th>\n",
       "      <th>aspiration</th>\n",
       "      <th>num-of-doors</th>\n",
       "      <th>drive-wheels</th>\n",
       "      <th>engine-location</th>\n",
       "      <th>wheel-base</th>\n",
       "      <th>length</th>\n",
       "      <th>width</th>\n",
       "      <th>...</th>\n",
       "      <th>make_volkswagen</th>\n",
       "      <th>make_volvo</th>\n",
       "      <th>body-style_hardtop</th>\n",
       "      <th>body-style_hatchback</th>\n",
       "      <th>body-style_sedan</th>\n",
       "      <th>body-style_wagon</th>\n",
       "      <th>fuel-system_others</th>\n",
       "      <th>fuel-system_2bbl</th>\n",
       "      <th>fuel-system_idi</th>\n",
       "      <th>fuel-system_mpfi</th>\n",
       "    </tr>\n",
       "  </thead>\n",
       "  <tbody>\n",
       "    <tr>\n",
       "      <th>0</th>\n",
       "      <td>3</td>\n",
       "      <td>122</td>\n",
       "      <td>0</td>\n",
       "      <td>0</td>\n",
       "      <td>2</td>\n",
       "      <td>1</td>\n",
       "      <td>0</td>\n",
       "      <td>88.6</td>\n",
       "      <td>168.8</td>\n",
       "      <td>64.1</td>\n",
       "      <td>...</td>\n",
       "      <td>0.0</td>\n",
       "      <td>0.0</td>\n",
       "      <td>0</td>\n",
       "      <td>0</td>\n",
       "      <td>0</td>\n",
       "      <td>0</td>\n",
       "      <td>0</td>\n",
       "      <td>0</td>\n",
       "      <td>0</td>\n",
       "      <td>1</td>\n",
       "    </tr>\n",
       "    <tr>\n",
       "      <th>1</th>\n",
       "      <td>3</td>\n",
       "      <td>122</td>\n",
       "      <td>0</td>\n",
       "      <td>0</td>\n",
       "      <td>2</td>\n",
       "      <td>1</td>\n",
       "      <td>0</td>\n",
       "      <td>88.6</td>\n",
       "      <td>168.8</td>\n",
       "      <td>64.1</td>\n",
       "      <td>...</td>\n",
       "      <td>0.0</td>\n",
       "      <td>0.0</td>\n",
       "      <td>0</td>\n",
       "      <td>0</td>\n",
       "      <td>0</td>\n",
       "      <td>0</td>\n",
       "      <td>0</td>\n",
       "      <td>0</td>\n",
       "      <td>0</td>\n",
       "      <td>1</td>\n",
       "    </tr>\n",
       "    <tr>\n",
       "      <th>2</th>\n",
       "      <td>1</td>\n",
       "      <td>122</td>\n",
       "      <td>0</td>\n",
       "      <td>0</td>\n",
       "      <td>2</td>\n",
       "      <td>1</td>\n",
       "      <td>0</td>\n",
       "      <td>94.5</td>\n",
       "      <td>171.2</td>\n",
       "      <td>65.5</td>\n",
       "      <td>...</td>\n",
       "      <td>0.0</td>\n",
       "      <td>0.0</td>\n",
       "      <td>0</td>\n",
       "      <td>1</td>\n",
       "      <td>0</td>\n",
       "      <td>0</td>\n",
       "      <td>0</td>\n",
       "      <td>0</td>\n",
       "      <td>0</td>\n",
       "      <td>1</td>\n",
       "    </tr>\n",
       "    <tr>\n",
       "      <th>3</th>\n",
       "      <td>2</td>\n",
       "      <td>164</td>\n",
       "      <td>0</td>\n",
       "      <td>0</td>\n",
       "      <td>4</td>\n",
       "      <td>0</td>\n",
       "      <td>0</td>\n",
       "      <td>99.8</td>\n",
       "      <td>176.6</td>\n",
       "      <td>66.2</td>\n",
       "      <td>...</td>\n",
       "      <td>0.0</td>\n",
       "      <td>0.0</td>\n",
       "      <td>0</td>\n",
       "      <td>0</td>\n",
       "      <td>1</td>\n",
       "      <td>0</td>\n",
       "      <td>0</td>\n",
       "      <td>0</td>\n",
       "      <td>0</td>\n",
       "      <td>1</td>\n",
       "    </tr>\n",
       "    <tr>\n",
       "      <th>4</th>\n",
       "      <td>2</td>\n",
       "      <td>164</td>\n",
       "      <td>0</td>\n",
       "      <td>0</td>\n",
       "      <td>4</td>\n",
       "      <td>4</td>\n",
       "      <td>0</td>\n",
       "      <td>99.4</td>\n",
       "      <td>176.6</td>\n",
       "      <td>66.4</td>\n",
       "      <td>...</td>\n",
       "      <td>0.0</td>\n",
       "      <td>0.0</td>\n",
       "      <td>0</td>\n",
       "      <td>0</td>\n",
       "      <td>1</td>\n",
       "      <td>0</td>\n",
       "      <td>0</td>\n",
       "      <td>0</td>\n",
       "      <td>0</td>\n",
       "      <td>1</td>\n",
       "    </tr>\n",
       "  </tbody>\n",
       "</table>\n",
       "<p>5 rows × 40 columns</p>\n",
       "</div>"
      ],
      "text/plain": [
       "   symboling  normalized-losses  fuel-type  aspiration  num-of-doors  \\\n",
       "0          3                122          0           0             2   \n",
       "1          3                122          0           0             2   \n",
       "2          1                122          0           0             2   \n",
       "3          2                164          0           0             4   \n",
       "4          2                164          0           0             4   \n",
       "\n",
       "   drive-wheels  engine-location  wheel-base  length  width  ...  \\\n",
       "0             1                0        88.6   168.8   64.1  ...   \n",
       "1             1                0        88.6   168.8   64.1  ...   \n",
       "2             1                0        94.5   171.2   65.5  ...   \n",
       "3             0                0        99.8   176.6   66.2  ...   \n",
       "4             4                0        99.4   176.6   66.4  ...   \n",
       "\n",
       "   make_volkswagen  make_volvo  body-style_hardtop  body-style_hatchback  \\\n",
       "0              0.0         0.0                   0                     0   \n",
       "1              0.0         0.0                   0                     0   \n",
       "2              0.0         0.0                   0                     1   \n",
       "3              0.0         0.0                   0                     0   \n",
       "4              0.0         0.0                   0                     0   \n",
       "\n",
       "   body-style_sedan  body-style_wagon  fuel-system_others  fuel-system_2bbl  \\\n",
       "0                 0                 0                   0                 0   \n",
       "1                 0                 0                   0                 0   \n",
       "2                 0                 0                   0                 0   \n",
       "3                 1                 0                   0                 0   \n",
       "4                 1                 0                   0                 0   \n",
       "\n",
       "   fuel-system_idi  fuel-system_mpfi  \n",
       "0                0                 1  \n",
       "1                0                 1  \n",
       "2                0                 1  \n",
       "3                0                 1  \n",
       "4                0                 1  \n",
       "\n",
       "[5 rows x 40 columns]"
      ]
     },
     "execution_count": 145,
     "metadata": {},
     "output_type": "execute_result"
    }
   ],
   "source": [
    "df.head(5)"
   ]
  },
  {
   "cell_type": "markdown",
   "id": "07624e13",
   "metadata": {},
   "source": [
    "### drive-wheels"
   ]
  },
  {
   "cell_type": "code",
   "execution_count": 146,
   "id": "d1df49b3",
   "metadata": {},
   "outputs": [
    {
     "data": {
      "text/plain": [
       "<AxesSubplot:xlabel='drive-wheels'>"
      ]
     },
     "execution_count": 146,
     "metadata": {},
     "output_type": "execute_result"
    },
    {
     "data": {
      "image/png": "[encoded data removed]",
      "text/plain": [
       "<Figure size 640x480 with 1 Axes>"
      ]
     },
     "metadata": {},
     "output_type": "display_data"
    }
   ],
   "source": [
    "sns.boxplot(x = df[\"drive-wheels\"])"
   ]
  },
  {
   "cell_type": "code",
   "execution_count": 147,
   "id": "d78dd8b3",
   "metadata": {},
   "outputs": [
    {
     "name": "stdout",
     "output_type": "stream",
     "text": [
      "value of Q1: 0.0\n",
      "value of Q2(Median): 0.0\n",
      "value of Q3: 1.0\n",
      "--------------------------------------------------\n",
      "value of Iqr: 1.0\n",
      "--------------------------------------------------\n",
      "value of Lower tail: -1.5\n",
      "value of Upper tail: 2.5\n"
     ]
    }
   ],
   "source": [
    "q1 = df[\"drive-wheels\"].quantile(0.25)\n",
    "q2 = df[\"drive-wheels\"].quantile(0.50)\n",
    "q3 = df[\"drive-wheels\"].quantile(0.75)\n",
    "\n",
    "iqr = q3 - q1 \n",
    "\n",
    "lower_tail = q1 - 1.5 * iqr\n",
    "upper_tail = q3 + 1.5 * iqr\n",
    "\n",
    "print(\"value of Q1:\",q1)\n",
    "print(\"value of Q2(Median):\",q2)\n",
    "print(\"value of Q3:\",q3)\n",
    "print(\"-\"*50)\n",
    "print(\"value of Iqr:\",iqr)\n",
    "print(\"-\"*50)\n",
    "print(\"value of Lower tail:\",lower_tail)\n",
    "print(\"value of Upper tail:\",upper_tail)"
   ]
  },
  {
   "cell_type": "code",
   "execution_count": 148,
   "id": "3ff10690",
   "metadata": {},
   "outputs": [
    {
     "data": {
      "text/plain": [
       "4      4\n",
       "9      4\n",
       "140    4\n",
       "144    4\n",
       "145    4\n",
       "148    4\n",
       "149    4\n",
       "154    4\n",
       "155    4\n",
       "Name: drive-wheels, dtype: int64"
      ]
     },
     "execution_count": 148,
     "metadata": {},
     "output_type": "execute_result"
    }
   ],
   "source": [
    "df.loc[df[\"drive-wheels\"] > upper_tail,\"drive-wheels\"]"
   ]
  },
  {
   "cell_type": "markdown",
   "id": "37b32112",
   "metadata": {},
   "source": [
    "### engine-location"
   ]
  },
  {
   "cell_type": "code",
   "execution_count": 149,
   "id": "0ebf70b8",
   "metadata": {},
   "outputs": [
    {
     "data": {
      "text/plain": [
       "<AxesSubplot:xlabel='engine-location'>"
      ]
     },
     "execution_count": 149,
     "metadata": {},
     "output_type": "execute_result"
    },
    {
     "data": {
      "image/png": "[encoded data removed]",
      "text/plain": [
       "<Figure size 640x480 with 1 Axes>"
      ]
     },
     "metadata": {},
     "output_type": "display_data"
    }
   ],
   "source": [
    "sns.boxplot(x = df[\"engine-location\"])"
   ]
  },
  {
   "cell_type": "markdown",
   "id": "f11e037f",
   "metadata": {},
   "source": [
    "### wheel-base"
   ]
  },
  {
   "cell_type": "code",
   "execution_count": 150,
   "id": "12adfd75",
   "metadata": {},
   "outputs": [
    {
     "data": {
      "text/plain": [
       "<AxesSubplot:xlabel='wheel-base'>"
      ]
     },
     "execution_count": 150,
     "metadata": {},
     "output_type": "execute_result"
    },
    {
     "data": {
      "image/png": "[encoded data removed]",
      "text/plain": [
       "<Figure size 640x480 with 1 Axes>"
      ]
     },
     "metadata": {},
     "output_type": "display_data"
    }
   ],
   "source": [
    "sns.boxplot(x = df[\"wheel-base\"])"
   ]
  },
  {
   "cell_type": "code",
   "execution_count": 151,
   "id": "61913bf0",
   "metadata": {},
   "outputs": [
    {
     "name": "stdout",
     "output_type": "stream",
     "text": [
      "value of Q1: 94.5\n",
      "value of Q2(Median): 97.0\n",
      "value of Q3: 102.4\n",
      "--------------------------------------------------\n",
      "value of Iqr: 7.900000000000006\n",
      "--------------------------------------------------\n",
      "value of Lower tail: 82.64999999999999\n",
      "value of Upper tail: 114.25000000000001\n"
     ]
    }
   ],
   "source": [
    "q1 = df[\"wheel-base\"].quantile(0.25)\n",
    "q2 = df[\"wheel-base\"].quantile(0.50)\n",
    "q3 = df[\"wheel-base\"].quantile(0.75)\n",
    "\n",
    "iqr = q3 - q1 \n",
    "\n",
    "lower_tail = q1 - 1.5 * iqr\n",
    "upper_tail = q3 + 1.5 * iqr\n",
    "\n",
    "print(\"value of Q1:\",q1)\n",
    "print(\"value of Q2(Median):\",q2)\n",
    "print(\"value of Q3:\",q3)\n",
    "print(\"-\"*50)\n",
    "print(\"value of Iqr:\",iqr)\n",
    "print(\"-\"*50)\n",
    "print(\"value of Lower tail:\",lower_tail)\n",
    "print(\"value of Upper tail:\",upper_tail)"
   ]
  },
  {
   "cell_type": "code",
   "execution_count": 152,
   "id": "6b606c60",
   "metadata": {},
   "outputs": [],
   "source": [
    "df.loc[df[\"wheel-base\"] > upper_tail,\"wheel-base\"] = upper_tail"
   ]
  },
  {
   "cell_type": "code",
   "execution_count": 153,
   "id": "c497183f",
   "metadata": {},
   "outputs": [
    {
     "data": {
      "text/plain": [
       "Series([], Name: wheel-base, dtype: float64)"
      ]
     },
     "execution_count": 153,
     "metadata": {},
     "output_type": "execute_result"
    }
   ],
   "source": [
    "df.loc[df[\"wheel-base\"] > upper_tail,\"wheel-base\"]"
   ]
  },
  {
   "cell_type": "code",
   "execution_count": 154,
   "id": "7a7ae3ce",
   "metadata": {},
   "outputs": [
    {
     "data": {
      "text/plain": [
       "<AxesSubplot:xlabel='wheel-base'>"
      ]
     },
     "execution_count": 154,
     "metadata": {},
     "output_type": "execute_result"
    },
    {
     "data": {
      "image/png": "[encoded data removed]",
      "text/plain": [
       "<Figure size 640x480 with 1 Axes>"
      ]
     },
     "metadata": {},
     "output_type": "display_data"
    }
   ],
   "source": [
    "sns.boxplot(x = df[\"wheel-base\"])"
   ]
  },
  {
   "cell_type": "markdown",
   "id": "9c53ba56",
   "metadata": {},
   "source": [
    "### length"
   ]
  },
  {
   "cell_type": "code",
   "execution_count": 155,
   "id": "61e71571",
   "metadata": {},
   "outputs": [
    {
     "data": {
      "text/plain": [
       "<AxesSubplot:xlabel='length'>"
      ]
     },
     "execution_count": 155,
     "metadata": {},
     "output_type": "execute_result"
    },
    {
     "data": {
      "image/png": "[encoded data removed]",
      "text/plain": [
       "<Figure size 640x480 with 1 Axes>"
      ]
     },
     "metadata": {},
     "output_type": "display_data"
    }
   ],
   "source": [
    "sns.boxplot(x = df[\"length\"])"
   ]
  },
  {
   "cell_type": "code",
   "execution_count": 156,
   "id": "a851f12b",
   "metadata": {},
   "outputs": [
    {
     "name": "stdout",
     "output_type": "stream",
     "text": [
      "value of Q1: 166.3\n",
      "value of Q2(Median): 173.2\n",
      "value of Q3: 183.1\n",
      "--------------------------------------------------\n",
      "value of Iqr: 16.799999999999983\n",
      "--------------------------------------------------\n",
      "value of Lower tail: 141.10000000000002\n",
      "value of Upper tail: 208.29999999999995\n"
     ]
    }
   ],
   "source": [
    "q1 = df[\"length\"].quantile(0.25)\n",
    "q2 = df[\"length\"].quantile(0.50)\n",
    "q3 = df[\"length\"].quantile(0.75)\n",
    "\n",
    "iqr = q3 - q1 \n",
    "\n",
    "lower_tail = q1 - 1.5 * iqr\n",
    "upper_tail = q3 + 1.5 * iqr\n",
    "\n",
    "print(\"value of Q1:\",q1)\n",
    "print(\"value of Q2(Median):\",q2)\n",
    "print(\"value of Q3:\",q3)\n",
    "print(\"-\"*50)\n",
    "print(\"value of Iqr:\",iqr)\n",
    "print(\"-\"*50)\n",
    "print(\"value of Lower tail:\",lower_tail)\n",
    "print(\"value of Upper tail:\",upper_tail)"
   ]
  },
  {
   "cell_type": "code",
   "execution_count": 157,
   "id": "2fc45403",
   "metadata": {},
   "outputs": [],
   "source": [
    "df.loc[df[\"length\"] < lower_tail,\"length\"] = lower_tail"
   ]
  },
  {
   "cell_type": "code",
   "execution_count": 158,
   "id": "d0db4410",
   "metadata": {},
   "outputs": [
    {
     "data": {
      "text/plain": [
       "Series([], Name: length, dtype: float64)"
      ]
     },
     "execution_count": 158,
     "metadata": {},
     "output_type": "execute_result"
    }
   ],
   "source": [
    "df.loc[df[\"length\"] < lower_tail,\"length\"] "
   ]
  },
  {
   "cell_type": "code",
   "execution_count": 159,
   "id": "99da18ac",
   "metadata": {},
   "outputs": [
    {
     "data": {
      "text/plain": [
       "<AxesSubplot:xlabel='length'>"
      ]
     },
     "execution_count": 159,
     "metadata": {},
     "output_type": "execute_result"
    },
    {
     "data": {
      "image/png": "[encoded data removed]",
      "text/plain": [
       "<Figure size 640x480 with 1 Axes>"
      ]
     },
     "metadata": {},
     "output_type": "display_data"
    }
   ],
   "source": [
    "sns.boxplot(x = df[\"length\"])"
   ]
  },
  {
   "cell_type": "markdown",
   "id": "e23989fd",
   "metadata": {},
   "source": [
    "### width"
   ]
  },
  {
   "cell_type": "code",
   "execution_count": 160,
   "id": "b458da51",
   "metadata": {},
   "outputs": [
    {
     "data": {
      "text/plain": [
       "<AxesSubplot:xlabel='width'>"
      ]
     },
     "execution_count": 160,
     "metadata": {},
     "output_type": "execute_result"
    },
    {
     "data": {
      "image/png": "[encoded data removed]",
      "text/plain": [
       "<Figure size 640x480 with 1 Axes>"
      ]
     },
     "metadata": {},
     "output_type": "display_data"
    }
   ],
   "source": [
    "sns.boxplot(x = df[\"width\"])"
   ]
  },
  {
   "cell_type": "code",
   "execution_count": 161,
   "id": "813f4c82",
   "metadata": {},
   "outputs": [
    {
     "name": "stdout",
     "output_type": "stream",
     "text": [
      "value of Q1: 64.1\n",
      "value of Q2(Median): 65.5\n",
      "value of Q3: 66.9\n",
      "--------------------------------------------------\n",
      "value of Iqr: 2.8000000000000114\n",
      "--------------------------------------------------\n",
      "value of Lower tail: 59.89999999999998\n",
      "value of Upper tail: 71.10000000000002\n"
     ]
    }
   ],
   "source": [
    "q1 = df[\"width\"].quantile(0.25)\n",
    "q2 = df[\"width\"].quantile(0.50)\n",
    "q3 = df[\"width\"].quantile(0.75)\n",
    "\n",
    "iqr = q3 - q1 \n",
    "\n",
    "lower_tail = q1 - 1.5 * iqr\n",
    "upper_tail = q3 + 1.5 * iqr\n",
    "\n",
    "print(\"value of Q1:\",q1)\n",
    "print(\"value of Q2(Median):\",q2)\n",
    "print(\"value of Q3:\",q3)\n",
    "print(\"-\"*50)\n",
    "print(\"value of Iqr:\",iqr)\n",
    "print(\"-\"*50)\n",
    "print(\"value of Lower tail:\",lower_tail)\n",
    "print(\"value of Upper tail:\",upper_tail)"
   ]
  },
  {
   "cell_type": "code",
   "execution_count": 162,
   "id": "50cec8b1",
   "metadata": {},
   "outputs": [],
   "source": [
    "df.loc[df[\"width\"] > upper_tail,\"width\"] = upper_tail"
   ]
  },
  {
   "cell_type": "code",
   "execution_count": 163,
   "id": "87e6fec8",
   "metadata": {},
   "outputs": [
    {
     "data": {
      "text/plain": [
       "Series([], Name: width, dtype: float64)"
      ]
     },
     "execution_count": 163,
     "metadata": {},
     "output_type": "execute_result"
    }
   ],
   "source": [
    "df.loc[df[\"width\"] > upper_tail,\"width\"]"
   ]
  },
  {
   "cell_type": "code",
   "execution_count": 164,
   "id": "6117702f",
   "metadata": {},
   "outputs": [
    {
     "data": {
      "text/plain": [
       "<AxesSubplot:xlabel='width'>"
      ]
     },
     "execution_count": 164,
     "metadata": {},
     "output_type": "execute_result"
    },
    {
     "data": {
      "image/png": "[encoded data removed]",
      "text/plain": [
       "<Figure size 640x480 with 1 Axes>"
      ]
     },
     "metadata": {},
     "output_type": "display_data"
    }
   ],
   "source": [
    "sns.boxplot(x = df[\"width\"])"
   ]
  },
  {
   "cell_type": "markdown",
   "id": "2910bd9b",
   "metadata": {},
   "source": [
    "### height"
   ]
  },
  {
   "cell_type": "code",
   "execution_count": 165,
   "id": "7eaa4d42",
   "metadata": {},
   "outputs": [
    {
     "data": {
      "text/plain": [
       "<AxesSubplot:xlabel='height'>"
      ]
     },
     "execution_count": 165,
     "metadata": {},
     "output_type": "execute_result"
    },
    {
     "data": {
      "image/png": "[encoded data removed]",
      "text/plain": [
       "<Figure size 640x480 with 1 Axes>"
      ]
     },
     "metadata": {},
     "output_type": "display_data"
    }
   ],
   "source": [
    "sns.boxplot(x = df[\"height\"])"
   ]
  },
  {
   "cell_type": "markdown",
   "id": "d5bd5d8a",
   "metadata": {},
   "source": [
    "### curb-weight"
   ]
  },
  {
   "cell_type": "code",
   "execution_count": 166,
   "id": "475be62b",
   "metadata": {},
   "outputs": [
    {
     "data": {
      "text/plain": [
       "<AxesSubplot:xlabel='curb-weight'>"
      ]
     },
     "execution_count": 166,
     "metadata": {},
     "output_type": "execute_result"
    },
    {
     "data": {
      "image/png": "[encoded data removed]",
      "text/plain": [
       "<Figure size 640x480 with 1 Axes>"
      ]
     },
     "metadata": {},
     "output_type": "display_data"
    }
   ],
   "source": [
    "sns.boxplot(x = df[\"curb-weight\"])"
   ]
  },
  {
   "cell_type": "markdown",
   "id": "56ee93a0",
   "metadata": {},
   "source": [
    "### engine-type"
   ]
  },
  {
   "cell_type": "code",
   "execution_count": 167,
   "id": "e0136283",
   "metadata": {},
   "outputs": [
    {
     "data": {
      "text/plain": [
       "<AxesSubplot:xlabel='engine-type'>"
      ]
     },
     "execution_count": 167,
     "metadata": {},
     "output_type": "execute_result"
    },
    {
     "data": {
      "image/png": "[encoded data removed]",
      "text/plain": [
       "<Figure size 640x480 with 1 Axes>"
      ]
     },
     "metadata": {},
     "output_type": "display_data"
    }
   ],
   "source": [
    "sns.boxplot(x = df[\"engine-type\"])"
   ]
  },
  {
   "cell_type": "markdown",
   "id": "2f61228d",
   "metadata": {},
   "source": [
    "### num-of-cylinders"
   ]
  },
  {
   "cell_type": "code",
   "execution_count": 168,
   "id": "d699fc2a",
   "metadata": {},
   "outputs": [
    {
     "data": {
      "text/plain": [
       "<AxesSubplot:xlabel='num-of-cylinders'>"
      ]
     },
     "execution_count": 168,
     "metadata": {},
     "output_type": "execute_result"
    },
    {
     "data": {
      "image/png": "[encoded data removed]",
      "text/plain": [
       "<Figure size 640x480 with 1 Axes>"
      ]
     },
     "metadata": {},
     "output_type": "display_data"
    }
   ],
   "source": [
    "sns.boxplot(x = df[\"num-of-cylinders\"])"
   ]
  },
  {
   "cell_type": "markdown",
   "id": "e7571896",
   "metadata": {},
   "source": [
    "### engine-size"
   ]
  },
  {
   "cell_type": "code",
   "execution_count": 169,
   "id": "19149553",
   "metadata": {},
   "outputs": [
    {
     "data": {
      "text/plain": [
       "<AxesSubplot:xlabel='engine-size'>"
      ]
     },
     "execution_count": 169,
     "metadata": {},
     "output_type": "execute_result"
    },
    {
     "data": {
      "image/png": "[encoded data removed]",
      "text/plain": [
       "<Figure size 640x480 with 1 Axes>"
      ]
     },
     "metadata": {},
     "output_type": "display_data"
    }
   ],
   "source": [
    "sns.boxplot(x = df[\"engine-size\"])"
   ]
  },
  {
   "cell_type": "code",
   "execution_count": 170,
   "id": "c1cfcfe1",
   "metadata": {},
   "outputs": [
    {
     "name": "stdout",
     "output_type": "stream",
     "text": [
      "value of Q1: 97.0\n",
      "value of Q2(Median): 120.0\n",
      "value of Q3: 141.0\n",
      "--------------------------------------------------\n",
      "value of Iqr: 44.0\n",
      "--------------------------------------------------\n",
      "value of Lower tail: 31.0\n",
      "value of Upper tail: 207.0\n"
     ]
    }
   ],
   "source": [
    "q1 = df[\"engine-size\"].quantile(0.25)\n",
    "q2 = df[\"engine-size\"].quantile(0.50)\n",
    "q3 = df[\"engine-size\"].quantile(0.75)\n",
    "\n",
    "iqr = q3 - q1 \n",
    "\n",
    "lower_tail = q1 - 1.5 * iqr\n",
    "upper_tail = q3 + 1.5 * iqr\n",
    "\n",
    "print(\"value of Q1:\",q1)\n",
    "print(\"value of Q2(Median):\",q2)\n",
    "print(\"value of Q3:\",q3)\n",
    "print(\"-\"*50)\n",
    "print(\"value of Iqr:\",iqr)\n",
    "print(\"-\"*50)\n",
    "print(\"value of Lower tail:\",lower_tail)\n",
    "print(\"value of Upper tail:\",upper_tail)"
   ]
  },
  {
   "cell_type": "code",
   "execution_count": 171,
   "id": "9de15837",
   "metadata": {},
   "outputs": [],
   "source": [
    "df.loc[df[\"engine-size\"] > upper_tail,\"engine-size\"] = upper_tail"
   ]
  },
  {
   "cell_type": "code",
   "execution_count": 172,
   "id": "1d3e121e",
   "metadata": {},
   "outputs": [
    {
     "data": {
      "text/plain": [
       "Series([], Name: engine-size, dtype: int64)"
      ]
     },
     "execution_count": 172,
     "metadata": {},
     "output_type": "execute_result"
    }
   ],
   "source": [
    "df.loc[df[\"engine-size\"] > upper_tail,\"engine-size\"]"
   ]
  },
  {
   "cell_type": "code",
   "execution_count": 173,
   "id": "f75e72f6",
   "metadata": {},
   "outputs": [
    {
     "data": {
      "text/plain": [
       "<AxesSubplot:xlabel='engine-size'>"
      ]
     },
     "execution_count": 173,
     "metadata": {},
     "output_type": "execute_result"
    },
    {
     "data": {
      "image/png": "[encoded data removed]",
      "text/plain": [
       "<Figure size 640x480 with 1 Axes>"
      ]
     },
     "metadata": {},
     "output_type": "display_data"
    }
   ],
   "source": [
    "sns.boxplot(x = df[\"engine-size\"])"
   ]
  },
  {
   "cell_type": "markdown",
   "id": "b3a1a6cd",
   "metadata": {},
   "source": [
    "### bore"
   ]
  },
  {
   "cell_type": "code",
   "execution_count": 174,
   "id": "f5acb029",
   "metadata": {},
   "outputs": [
    {
     "data": {
      "text/plain": [
       "<AxesSubplot:xlabel='bore'>"
      ]
     },
     "execution_count": 174,
     "metadata": {},
     "output_type": "execute_result"
    },
    {
     "data": {
      "image/png": "[encoded data removed]",
      "text/plain": [
       "<Figure size 640x480 with 1 Axes>"
      ]
     },
     "metadata": {},
     "output_type": "display_data"
    }
   ],
   "source": [
    "sns.boxplot(x = df[\"bore\"])"
   ]
  },
  {
   "cell_type": "markdown",
   "id": "b7f53825",
   "metadata": {},
   "source": [
    "### stroke"
   ]
  },
  {
   "cell_type": "code",
   "execution_count": 175,
   "id": "f4677224",
   "metadata": {},
   "outputs": [
    {
     "data": {
      "text/plain": [
       "<AxesSubplot:xlabel='stroke'>"
      ]
     },
     "execution_count": 175,
     "metadata": {},
     "output_type": "execute_result"
    },
    {
     "data": {
      "image/png": "[encoded data removed]",
      "text/plain": [
       "<Figure size 640x480 with 1 Axes>"
      ]
     },
     "metadata": {},
     "output_type": "display_data"
    }
   ],
   "source": [
    "sns.boxplot(x = df[\"stroke\"])"
   ]
  },
  {
   "cell_type": "code",
   "execution_count": 176,
   "id": "77b0141a",
   "metadata": {},
   "outputs": [
    {
     "name": "stdout",
     "output_type": "stream",
     "text": [
      "value of Q1: 3.11\n",
      "value of Q2(Median): 3.29\n",
      "value of Q3: 3.41\n",
      "--------------------------------------------------\n",
      "value of Iqr: 0.30000000000000027\n",
      "--------------------------------------------------\n",
      "value of Lower tail: 2.6599999999999993\n",
      "value of Upper tail: 3.8600000000000003\n"
     ]
    }
   ],
   "source": [
    "q1 = df[\"stroke\"].quantile(0.25)\n",
    "q2 = df[\"stroke\"].quantile(0.50)\n",
    "q3 = df[\"stroke\"].quantile(0.75)\n",
    "\n",
    "iqr = q3 - q1 \n",
    "\n",
    "lower_tail = q1 - 1.5 * iqr\n",
    "upper_tail = q3 + 1.5 * iqr\n",
    "\n",
    "print(\"value of Q1:\",q1)\n",
    "print(\"value of Q2(Median):\",q2)\n",
    "print(\"value of Q3:\",q3)\n",
    "print(\"-\"*50)\n",
    "print(\"value of Iqr:\",iqr)\n",
    "print(\"-\"*50)\n",
    "print(\"value of Lower tail:\",lower_tail)\n",
    "print(\"value of Upper tail:\",upper_tail)"
   ]
  },
  {
   "cell_type": "code",
   "execution_count": 177,
   "id": "de0ceaaf",
   "metadata": {},
   "outputs": [],
   "source": [
    "df.loc[df[\"stroke\"] > upper_tail,\"stroke\"] = upper_tail"
   ]
  },
  {
   "cell_type": "code",
   "execution_count": 178,
   "id": "1a67fbf8",
   "metadata": {},
   "outputs": [
    {
     "data": {
      "text/plain": [
       "Series([], Name: stroke, dtype: float64)"
      ]
     },
     "execution_count": 178,
     "metadata": {},
     "output_type": "execute_result"
    }
   ],
   "source": [
    "df.loc[df[\"stroke\"] > upper_tail,\"stroke\"]"
   ]
  },
  {
   "cell_type": "code",
   "execution_count": 179,
   "id": "1ef336b2",
   "metadata": {},
   "outputs": [],
   "source": [
    "df.loc[df[\"stroke\"] < lower_tail,\"stroke\"] = lower_tail"
   ]
  },
  {
   "cell_type": "code",
   "execution_count": 180,
   "id": "1e9e66e1",
   "metadata": {},
   "outputs": [
    {
     "data": {
      "text/plain": [
       "Series([], Name: stroke, dtype: float64)"
      ]
     },
     "execution_count": 180,
     "metadata": {},
     "output_type": "execute_result"
    }
   ],
   "source": [
    "df.loc[df[\"stroke\"] < lower_tail,\"stroke\"]"
   ]
  },
  {
   "cell_type": "code",
   "execution_count": 181,
   "id": "0d3779d4",
   "metadata": {},
   "outputs": [
    {
     "data": {
      "text/plain": [
       "<AxesSubplot:xlabel='stroke'>"
      ]
     },
     "execution_count": 181,
     "metadata": {},
     "output_type": "execute_result"
    },
    {
     "data": {
      "image/png": "[encoded data removed]",
      "text/plain": [
       "<Figure size 640x480 with 1 Axes>"
      ]
     },
     "metadata": {},
     "output_type": "display_data"
    }
   ],
   "source": [
    "sns.boxplot(x = df[\"stroke\"])"
   ]
  },
  {
   "cell_type": "markdown",
   "id": "69eec862",
   "metadata": {},
   "source": [
    "### compression-ratio"
   ]
  },
  {
   "cell_type": "code",
   "execution_count": 182,
   "id": "53c81937",
   "metadata": {},
   "outputs": [
    {
     "data": {
      "text/plain": [
       "<AxesSubplot:xlabel='compression-ratio'>"
      ]
     },
     "execution_count": 182,
     "metadata": {},
     "output_type": "execute_result"
    },
    {
     "data": {
      "image/png": "[encoded data removed]",
      "text/plain": [
       "<Figure size 640x480 with 1 Axes>"
      ]
     },
     "metadata": {},
     "output_type": "display_data"
    }
   ],
   "source": [
    "sns.boxplot(x = df[\"compression-ratio\"])"
   ]
  },
  {
   "cell_type": "code",
   "execution_count": 183,
   "id": "81a2ab6e",
   "metadata": {},
   "outputs": [
    {
     "name": "stdout",
     "output_type": "stream",
     "text": [
      "value of Q1: 8.6\n",
      "value of Q2(Median): 9.0\n",
      "value of Q3: 9.4\n",
      "--------------------------------------------------\n",
      "value of Iqr: 0.8000000000000007\n",
      "--------------------------------------------------\n",
      "value of Lower tail: 7.399999999999999\n",
      "value of Upper tail: 10.600000000000001\n"
     ]
    }
   ],
   "source": [
    "q1 = df[\"compression-ratio\"].quantile(0.25)\n",
    "q2 = df[\"compression-ratio\"].quantile(0.50)\n",
    "q3 = df[\"compression-ratio\"].quantile(0.75)\n",
    "\n",
    "iqr = q3 - q1 \n",
    "\n",
    "lower_tail = q1 - 1.5 * iqr\n",
    "upper_tail = q3 + 1.5 * iqr\n",
    "\n",
    "print(\"value of Q1:\",q1)\n",
    "print(\"value of Q2(Median):\",q2)\n",
    "print(\"value of Q3:\",q3)\n",
    "print(\"-\"*50)\n",
    "print(\"value of Iqr:\",iqr)\n",
    "print(\"-\"*50)\n",
    "print(\"value of Lower tail:\",lower_tail)\n",
    "print(\"value of Upper tail:\",upper_tail)"
   ]
  },
  {
   "cell_type": "code",
   "execution_count": 184,
   "id": "e4feb3da",
   "metadata": {},
   "outputs": [],
   "source": [
    "df.loc[df[\"compression-ratio\"] > upper_tail,\"compression-ratio\"] = upper_tail"
   ]
  },
  {
   "cell_type": "code",
   "execution_count": 185,
   "id": "a159cfd7",
   "metadata": {},
   "outputs": [
    {
     "data": {
      "text/plain": [
       "Series([], Name: compression-ratio, dtype: float64)"
      ]
     },
     "execution_count": 185,
     "metadata": {},
     "output_type": "execute_result"
    }
   ],
   "source": [
    "df.loc[df[\"compression-ratio\"] > upper_tail,\"compression-ratio\"]"
   ]
  },
  {
   "cell_type": "code",
   "execution_count": 186,
   "id": "323923ea",
   "metadata": {},
   "outputs": [],
   "source": [
    "df.loc[df[\"compression-ratio\"] < lower_tail,\"compression-ratio\"] = lower_tail"
   ]
  },
  {
   "cell_type": "code",
   "execution_count": 187,
   "id": "2e685c32",
   "metadata": {},
   "outputs": [
    {
     "data": {
      "text/plain": [
       "Series([], Name: compression-ratio, dtype: float64)"
      ]
     },
     "execution_count": 187,
     "metadata": {},
     "output_type": "execute_result"
    }
   ],
   "source": [
    "df.loc[df[\"compression-ratio\"] < lower_tail,\"compression-ratio\"]"
   ]
  },
  {
   "cell_type": "code",
   "execution_count": 188,
   "id": "bab7a707",
   "metadata": {},
   "outputs": [
    {
     "data": {
      "text/plain": [
       "<AxesSubplot:xlabel='compression-ratio'>"
      ]
     },
     "execution_count": 188,
     "metadata": {},
     "output_type": "execute_result"
    },
    {
     "data": {
      "image/png": "[encoded data removed]",
      "text/plain": [
       "<Figure size 640x480 with 1 Axes>"
      ]
     },
     "metadata": {},
     "output_type": "display_data"
    }
   ],
   "source": [
    "sns.boxplot(x = df[\"compression-ratio\"])"
   ]
  },
  {
   "cell_type": "markdown",
   "id": "bdf9f0fd",
   "metadata": {},
   "source": [
    "### horsepower"
   ]
  },
  {
   "cell_type": "code",
   "execution_count": 189,
   "id": "6a39b449",
   "metadata": {},
   "outputs": [
    {
     "data": {
      "text/plain": [
       "<AxesSubplot:xlabel='horsepower'>"
      ]
     },
     "execution_count": 189,
     "metadata": {},
     "output_type": "execute_result"
    },
    {
     "data": {
      "image/png": "[encoded data removed]",
      "text/plain": [
       "<Figure size 640x480 with 1 Axes>"
      ]
     },
     "metadata": {},
     "output_type": "display_data"
    }
   ],
   "source": [
    "sns.boxplot(x = df[\"horsepower\"])"
   ]
  },
  {
   "cell_type": "code",
   "execution_count": 190,
   "id": "8161d735",
   "metadata": {},
   "outputs": [
    {
     "name": "stdout",
     "output_type": "stream",
     "text": [
      "value of Q1: 70.0\n",
      "value of Q2(Median): 95.0\n",
      "value of Q3: 116.0\n",
      "--------------------------------------------------\n",
      "value of Iqr: 46.0\n",
      "--------------------------------------------------\n",
      "value of Lower tail: 1.0\n",
      "value of Upper tail: 185.0\n"
     ]
    }
   ],
   "source": [
    "q1 = df[\"horsepower\"].quantile(0.25)\n",
    "q2 = df[\"horsepower\"].quantile(0.50)\n",
    "q3 = df[\"horsepower\"].quantile(0.75)\n",
    "\n",
    "iqr = q3 - q1 \n",
    "\n",
    "lower_tail = q1 - 1.5 * iqr\n",
    "upper_tail = q3 + 1.5 * iqr\n",
    "\n",
    "print(\"value of Q1:\",q1)\n",
    "print(\"value of Q2(Median):\",q2)\n",
    "print(\"value of Q3:\",q3)\n",
    "print(\"-\"*50)\n",
    "print(\"value of Iqr:\",iqr)\n",
    "print(\"-\"*50)\n",
    "print(\"value of Lower tail:\",lower_tail)\n",
    "print(\"value of Upper tail:\",upper_tail)"
   ]
  },
  {
   "cell_type": "code",
   "execution_count": 191,
   "id": "d815a24c",
   "metadata": {},
   "outputs": [],
   "source": [
    "df.loc[df[\"horsepower\"] > upper_tail,\"horsepower\"] = upper_tail"
   ]
  },
  {
   "cell_type": "code",
   "execution_count": 192,
   "id": "0eda1e57",
   "metadata": {},
   "outputs": [
    {
     "data": {
      "text/plain": [
       "Series([], Name: horsepower, dtype: float64)"
      ]
     },
     "execution_count": 192,
     "metadata": {},
     "output_type": "execute_result"
    }
   ],
   "source": [
    "df.loc[df[\"horsepower\"] > upper_tail,\"horsepower\"]"
   ]
  },
  {
   "cell_type": "markdown",
   "id": "2ef0a9fd",
   "metadata": {},
   "source": [
    "### peak-rpm"
   ]
  },
  {
   "cell_type": "code",
   "execution_count": 193,
   "id": "c0747d22",
   "metadata": {},
   "outputs": [
    {
     "data": {
      "text/plain": [
       "<AxesSubplot:xlabel='peak-rpm'>"
      ]
     },
     "execution_count": 193,
     "metadata": {},
     "output_type": "execute_result"
    },
    {
     "data": {
      "image/png": "[encoded data removed]",
      "text/plain": [
       "<Figure size 640x480 with 1 Axes>"
      ]
     },
     "metadata": {},
     "output_type": "display_data"
    }
   ],
   "source": [
    "sns.boxplot(x = df[\"peak-rpm\"])"
   ]
  },
  {
   "cell_type": "code",
   "execution_count": 194,
   "id": "2f1cb8ef",
   "metadata": {},
   "outputs": [
    {
     "name": "stdout",
     "output_type": "stream",
     "text": [
      "value of Q1: 4800.0\n",
      "value of Q2(Median): 5200.0\n",
      "value of Q3: 5500.0\n",
      "--------------------------------------------------\n",
      "value of Iqr: 700.0\n",
      "--------------------------------------------------\n",
      "value of Lower tail: 3750.0\n",
      "value of Upper tail: 6550.0\n"
     ]
    }
   ],
   "source": [
    "q1 = df[\"peak-rpm\"].quantile(0.25)\n",
    "q2 = df[\"peak-rpm\"].quantile(0.50)\n",
    "q3 = df[\"peak-rpm\"].quantile(0.75)\n",
    "\n",
    "iqr = q3 - q1 \n",
    "\n",
    "lower_tail = q1 - 1.5 * iqr\n",
    "upper_tail = q3 + 1.5 * iqr\n",
    "\n",
    "print(\"value of Q1:\",q1)\n",
    "print(\"value of Q2(Median):\",q2)\n",
    "print(\"value of Q3:\",q3)\n",
    "print(\"-\"*50)\n",
    "print(\"value of Iqr:\",iqr)\n",
    "print(\"-\"*50)\n",
    "print(\"value of Lower tail:\",lower_tail)\n",
    "print(\"value of Upper tail:\",upper_tail)"
   ]
  },
  {
   "cell_type": "code",
   "execution_count": 195,
   "id": "5789fbdc",
   "metadata": {},
   "outputs": [],
   "source": [
    "df.loc[df[\"peak-rpm\"] > upper_tail,\"peak-rpm\"] = upper_tail"
   ]
  },
  {
   "cell_type": "code",
   "execution_count": 196,
   "id": "53dd32d2",
   "metadata": {},
   "outputs": [
    {
     "data": {
      "text/plain": [
       "Series([], Name: peak-rpm, dtype: int32)"
      ]
     },
     "execution_count": 196,
     "metadata": {},
     "output_type": "execute_result"
    }
   ],
   "source": [
    "df.loc[df[\"peak-rpm\"] > upper_tail,\"peak-rpm\"] "
   ]
  },
  {
   "cell_type": "code",
   "execution_count": 197,
   "id": "1246f052",
   "metadata": {},
   "outputs": [
    {
     "data": {
      "text/plain": [
       "<AxesSubplot:xlabel='peak-rpm'>"
      ]
     },
     "execution_count": 197,
     "metadata": {},
     "output_type": "execute_result"
    },
    {
     "data": {
      "image/png": "[encoded data removed]",
      "text/plain": [
       "<Figure size 640x480 with 1 Axes>"
      ]
     },
     "metadata": {},
     "output_type": "display_data"
    }
   ],
   "source": [
    "sns.boxplot(x = df[\"peak-rpm\"])"
   ]
  },
  {
   "cell_type": "markdown",
   "id": "8b5e187b",
   "metadata": {},
   "source": [
    "### city-mpg"
   ]
  },
  {
   "cell_type": "code",
   "execution_count": 198,
   "id": "7cd896eb",
   "metadata": {},
   "outputs": [
    {
     "data": {
      "text/plain": [
       "<AxesSubplot:xlabel='city-mpg'>"
      ]
     },
     "execution_count": 198,
     "metadata": {},
     "output_type": "execute_result"
    },
    {
     "data": {
      "image/png": "[encoded data removed]",
      "text/plain": [
       "<Figure size 640x480 with 1 Axes>"
      ]
     },
     "metadata": {},
     "output_type": "display_data"
    }
   ],
   "source": [
    "sns.boxplot(x = df[\"city-mpg\"])"
   ]
  },
  {
   "cell_type": "code",
   "execution_count": 199,
   "id": "9ae587b6",
   "metadata": {},
   "outputs": [
    {
     "name": "stdout",
     "output_type": "stream",
     "text": [
      "value of Q1: 19.0\n",
      "value of Q2(Median): 24.0\n",
      "value of Q3: 30.0\n",
      "--------------------------------------------------\n",
      "value of Iqr: 11.0\n",
      "--------------------------------------------------\n",
      "value of Lower tail: 2.5\n",
      "value of Upper tail: 46.5\n"
     ]
    }
   ],
   "source": [
    "q1 = df[\"city-mpg\"].quantile(0.25)\n",
    "q2 = df[\"city-mpg\"].quantile(0.50)\n",
    "q3 = df[\"city-mpg\"].quantile(0.75)\n",
    "\n",
    "iqr = q3 - q1 \n",
    "\n",
    "lower_tail = q1 - 1.5 * iqr\n",
    "upper_tail = q3 + 1.5 * iqr\n",
    "\n",
    "print(\"value of Q1:\",q1)\n",
    "print(\"value of Q2(Median):\",q2)\n",
    "print(\"value of Q3:\",q3)\n",
    "print(\"-\"*50)\n",
    "print(\"value of Iqr:\",iqr)\n",
    "print(\"-\"*50)\n",
    "print(\"value of Lower tail:\",lower_tail)\n",
    "print(\"value of Upper tail:\",upper_tail)"
   ]
  },
  {
   "cell_type": "code",
   "execution_count": 200,
   "id": "5cc288e5",
   "metadata": {},
   "outputs": [],
   "source": [
    "df.loc[df[\"city-mpg\"] > upper_tail,\"city-mpg\"] = upper_tail"
   ]
  },
  {
   "cell_type": "code",
   "execution_count": 201,
   "id": "1493cdac",
   "metadata": {},
   "outputs": [
    {
     "data": {
      "text/plain": [
       "Series([], Name: city-mpg, dtype: float64)"
      ]
     },
     "execution_count": 201,
     "metadata": {},
     "output_type": "execute_result"
    }
   ],
   "source": [
    "df.loc[df[\"city-mpg\"] > upper_tail,\"city-mpg\"]"
   ]
  },
  {
   "cell_type": "code",
   "execution_count": 202,
   "id": "ebf2e5b3",
   "metadata": {},
   "outputs": [
    {
     "data": {
      "text/plain": [
       "<AxesSubplot:xlabel='city-mpg'>"
      ]
     },
     "execution_count": 202,
     "metadata": {},
     "output_type": "execute_result"
    },
    {
     "data": {
      "image/png": "[encoded data removed]",
      "text/plain": [
       "<Figure size 640x480 with 1 Axes>"
      ]
     },
     "metadata": {},
     "output_type": "display_data"
    }
   ],
   "source": [
    "sns.boxplot(x = df[\"city-mpg\"])"
   ]
  },
  {
   "cell_type": "markdown",
   "id": "fb9283d5",
   "metadata": {},
   "source": [
    "### highway-mpg"
   ]
  },
  {
   "cell_type": "code",
   "execution_count": 203,
   "id": "e068bd8c",
   "metadata": {},
   "outputs": [
    {
     "data": {
      "text/plain": [
       "<AxesSubplot:xlabel='highway-mpg'>"
      ]
     },
     "execution_count": 203,
     "metadata": {},
     "output_type": "execute_result"
    },
    {
     "data": {
      "image/png": "[encoded data removed]",
      "text/plain": [
       "<Figure size 640x480 with 1 Axes>"
      ]
     },
     "metadata": {},
     "output_type": "display_data"
    }
   ],
   "source": [
    "sns.boxplot(x = df[\"highway-mpg\"])"
   ]
  },
  {
   "cell_type": "code",
   "execution_count": 204,
   "id": "540737c7",
   "metadata": {},
   "outputs": [
    {
     "name": "stdout",
     "output_type": "stream",
     "text": [
      "value of Q1: 25.0\n",
      "value of Q2(Median): 30.0\n",
      "value of Q3: 34.0\n",
      "--------------------------------------------------\n",
      "value of Iqr: 9.0\n",
      "--------------------------------------------------\n",
      "value of Lower tail: 11.5\n",
      "value of Upper tail: 47.5\n"
     ]
    }
   ],
   "source": [
    "q1 = df[\"highway-mpg\"].quantile(0.25)\n",
    "q2 = df[\"highway-mpg\"].quantile(0.50)\n",
    "q3 = df[\"highway-mpg\"].quantile(0.75)\n",
    "\n",
    "iqr = q3 - q1 \n",
    "\n",
    "lower_tail = q1 - 1.5 * iqr\n",
    "upper_tail = q3 + 1.5 * iqr\n",
    "\n",
    "print(\"value of Q1:\",q1)\n",
    "print(\"value of Q2(Median):\",q2)\n",
    "print(\"value of Q3:\",q3)\n",
    "print(\"-\"*50)\n",
    "print(\"value of Iqr:\",iqr)\n",
    "print(\"-\"*50)\n",
    "print(\"value of Lower tail:\",lower_tail)\n",
    "print(\"value of Upper tail:\",upper_tail)"
   ]
  },
  {
   "cell_type": "code",
   "execution_count": 205,
   "id": "b0017242",
   "metadata": {},
   "outputs": [],
   "source": [
    "df.loc[df[\"highway-mpg\"] > upper_tail,\"highway-mpg\"] = upper_tail"
   ]
  },
  {
   "cell_type": "code",
   "execution_count": 206,
   "id": "2ab31d53",
   "metadata": {},
   "outputs": [
    {
     "data": {
      "text/plain": [
       "Series([], Name: highway-mpg, dtype: float64)"
      ]
     },
     "execution_count": 206,
     "metadata": {},
     "output_type": "execute_result"
    }
   ],
   "source": [
    "df.loc[df[\"highway-mpg\"] > upper_tail,\"highway-mpg\"] "
   ]
  },
  {
   "cell_type": "code",
   "execution_count": 207,
   "id": "a7189150",
   "metadata": {},
   "outputs": [
    {
     "data": {
      "text/plain": [
       "<AxesSubplot:xlabel='highway-mpg'>"
      ]
     },
     "execution_count": 207,
     "metadata": {},
     "output_type": "execute_result"
    },
    {
     "data": {
      "image/png": "[encoded data removed]",
      "text/plain": [
       "<Figure size 640x480 with 1 Axes>"
      ]
     },
     "metadata": {},
     "output_type": "display_data"
    }
   ],
   "source": [
    "sns.boxplot(x = df[\"highway-mpg\"])"
   ]
  },
  {
   "cell_type": "markdown",
   "id": "f27a05d2",
   "metadata": {},
   "source": [
    "# Again Training our model"
   ]
  },
  {
   "cell_type": "markdown",
   "id": "101e1eaa",
   "metadata": {},
   "source": [
    "# Train-Test Model"
   ]
  },
  {
   "cell_type": "code",
   "execution_count": 208,
   "id": "4b295a15",
   "metadata": {},
   "outputs": [],
   "source": [
    "x = df.drop(\"price\",axis=1)\n",
    "y = df[\"price\"]"
   ]
  },
  {
   "cell_type": "code",
   "execution_count": 209,
   "id": "f3dced9b",
   "metadata": {},
   "outputs": [],
   "source": [
    "x_train,x_test,y_train,y_test = train_test_split(x,y,test_size=0.2,random_state=101)"
   ]
  },
  {
   "cell_type": "code",
   "execution_count": 210,
   "id": "7e0c8d6f",
   "metadata": {},
   "outputs": [
    {
     "name": "stdout",
     "output_type": "stream",
     "text": [
      "(164, 39)\n",
      "(41, 39)\n",
      "(164,)\n",
      "(41,)\n"
     ]
    }
   ],
   "source": [
    "print(x_train.shape)\n",
    "print(x_test.shape)\n",
    "print(y_train.shape)\n",
    "print(y_test.shape)"
   ]
  },
  {
   "cell_type": "code",
   "execution_count": 211,
   "id": "7610eeb2",
   "metadata": {},
   "outputs": [
    {
     "data": {
      "text/plain": [
       "LinearRegression()"
      ]
     },
     "execution_count": 211,
     "metadata": {},
     "output_type": "execute_result"
    }
   ],
   "source": [
    "model1 = LinearRegression()\n",
    "model1.fit(x_train,y_train)"
   ]
  },
  {
   "cell_type": "code",
   "execution_count": 212,
   "id": "9f9cc65f",
   "metadata": {},
   "outputs": [
    {
     "data": {
      "text/plain": [
       "array([ 5951.63617243,  8150.99349157, 18712.384047  ,  7139.10083744,\n",
       "       15480.79784621, 16686.1295971 , 16678.45262766,  4997.2597418 ,\n",
       "        8174.79927086,  7620.16359226, 10037.30262225, 20331.66025798,\n",
       "        4419.20615161,  4596.49078889, 11774.20190623, 16822.43970787,\n",
       "        9837.04863568, 10014.70515625,  2820.88287309,  5183.27185995,\n",
       "       11140.14155464,  9729.77537274,  4337.38844762,  7214.86460749,\n",
       "       13695.40098294, 32740.33052374,  8540.32679944, 11087.72017243,\n",
       "        9014.21199041, 11950.40224095,  7996.97081339,  9261.16951434,\n",
       "       21602.43513188, 11627.38204498, 17456.37600024, 14985.19942466,\n",
       "        5665.59167681,  5013.34407055,  9823.27689377,  9967.62747046,\n",
       "        7143.18930766])"
      ]
     },
     "execution_count": 212,
     "metadata": {},
     "output_type": "execute_result"
    }
   ],
   "source": [
    "y_pred1 = model1.predict(x_test)\n",
    "y_pred1"
   ]
  },
  {
   "cell_type": "code",
   "execution_count": 213,
   "id": "cdda5b6c",
   "metadata": {},
   "outputs": [
    {
     "data": {
      "text/plain": [
       "120     6229\n",
       "185     8195\n",
       "180    15690\n",
       "119     7957\n",
       "109    12440\n",
       "104    17199\n",
       "133    12170\n",
       "89      5499\n",
       "37      7895\n",
       "34      7129\n",
       "145    11259\n",
       "65     18280\n",
       "78      6669\n",
       "152     6488\n",
       "149    11694\n",
       "66     18344\n",
       "85      6989\n",
       "173     8948\n",
       "31      6855\n",
       "91      6649\n",
       "42     10345\n",
       "41     12945\n",
       "153     6918\n",
       "54      7395\n",
       "167     8449\n",
       "48     35550\n",
       "50      5195\n",
       "158     7898\n",
       "184     7995\n",
       "144     9233\n",
       "25      6692\n",
       "55     10945\n",
       "201    19045\n",
       "2      16500\n",
       "12     20970\n",
       "197    16515\n",
       "96      7499\n",
       "22      6377\n",
       "100     9549\n",
       "39      8845\n",
       "32      5399\n",
       "Name: price, dtype: int32"
      ]
     },
     "execution_count": 213,
     "metadata": {},
     "output_type": "execute_result"
    }
   ],
   "source": [
    "y_test"
   ]
  },
  {
   "cell_type": "code",
   "execution_count": 214,
   "id": "74193a60",
   "metadata": {},
   "outputs": [
    {
     "data": {
      "text/plain": [
       "120    -277.363828\n",
       "185     -44.006508\n",
       "180    3022.384047\n",
       "119    -817.899163\n",
       "109    3040.797846\n",
       "104    -512.870403\n",
       "133    4508.452628\n",
       "89     -501.740258\n",
       "37      279.799271\n",
       "34      491.163592\n",
       "145   -1221.697378\n",
       "65     2051.660258\n",
       "78    -2249.793848\n",
       "152   -1891.509211\n",
       "149      80.201906\n",
       "66    -1521.560292\n",
       "85     2848.048636\n",
       "173    1066.705156\n",
       "31    -4034.117127\n",
       "91    -1465.728140\n",
       "42      795.141555\n",
       "41    -3215.224627\n",
       "153   -2580.611552\n",
       "54     -180.135393\n",
       "167    5246.400983\n",
       "48    -2809.669476\n",
       "50     3345.326799\n",
       "158    3189.720172\n",
       "184    1019.211990\n",
       "144    2717.402241\n",
       "25     1304.970813\n",
       "55    -1683.830486\n",
       "201    2557.435132\n",
       "2     -4872.617955\n",
       "12    -3513.624000\n",
       "197   -1529.800575\n",
       "96    -1833.408323\n",
       "22    -1363.655929\n",
       "100     274.276894\n",
       "39     1122.627470\n",
       "32     1744.189308\n",
       "Name: price, dtype: float64"
      ]
     },
     "execution_count": 214,
     "metadata": {},
     "output_type": "execute_result"
    }
   ],
   "source": [
    "residual = y_pred1 - y_test\n",
    "residual"
   ]
  },
  {
   "cell_type": "markdown",
   "id": "4db6da0d",
   "metadata": {},
   "source": [
    "# Model Evalution"
   ]
  },
  {
   "cell_type": "code",
   "execution_count": 215,
   "id": "ec5e9b37",
   "metadata": {},
   "outputs": [
    {
     "name": "stdout",
     "output_type": "stream",
     "text": [
      "Mean Squared Error:  7055308.816743332\n",
      "Root Mean Squared Error:  2656.1831293687815\n",
      "Mean Absolute Error:  1955.0167248892546\n",
      "r_squared_value for Training:  0.8948869477323793\n"
     ]
    }
   ],
   "source": [
    "# Training Data\n",
    "\n",
    "y_pred_train1 = model1.predict(x_train)\n",
    "\n",
    "mse = mean_squared_error(y_train,y_pred_train1)\n",
    "print(\"Mean Squared Error: \",mse)\n",
    "\n",
    "rmse = np.sqrt(mse)\n",
    "print(\"Root Mean Squared Error: \",rmse)\n",
    "\n",
    "mae = mean_absolute_error(y_train,y_pred_train1)\n",
    "print(\"Mean Absolute Error: \",mae)\n",
    "\n",
    "r_square = r2_score(y_train,y_pred_train1)\n",
    "print(\"r_squared_value for Training: \",r_square)\n"
   ]
  },
  {
   "cell_type": "code",
   "execution_count": 216,
   "id": "e71bbe67",
   "metadata": {},
   "outputs": [
    {
     "name": "stdout",
     "output_type": "stream",
     "text": [
      "Mean Squared Error:  5526808.5756095555\n",
      "Root Mean Squared Error:  2350.9165394819006\n",
      "Mean Absolute Error:  1922.6044188032001\n",
      "r_squared_value for Training:  0.835042209264605\n"
     ]
    }
   ],
   "source": [
    "mse = mean_squared_error(y_test,y_pred1)\n",
    "print(\"Mean Squared Error: \",mse)\n",
    "\n",
    "rmse = np.sqrt(mse)\n",
    "print(\"Root Mean Squared Error: \",rmse)\n",
    "\n",
    "mae = mean_absolute_error(y_test,y_pred1)\n",
    "print(\"Mean Absolute Error: \",mae)\n",
    "\n",
    "r_square = r2_score(y_test,y_pred1)\n",
    "print(\"r_squared_value for Training: \",r_square)"
   ]
  },
  {
   "cell_type": "markdown",
   "id": "d0d080cc",
   "metadata": {},
   "source": [
    "# Now Preforming Hyperparameter Testing"
   ]
  },
  {
   "cell_type": "markdown",
   "id": "e2657fae",
   "metadata": {},
   "source": [
    "## 1. Ridge Regression Model"
   ]
  },
  {
   "cell_type": "markdown",
   "id": "d2913c42",
   "metadata": {},
   "source": [
    "### 1. Grid-SearchCV"
   ]
  },
  {
   "cell_type": "code",
   "execution_count": 217,
   "id": "0cf6dcb5",
   "metadata": {},
   "outputs": [],
   "source": [
    "Ridge_model = Ridge()"
   ]
  },
  {
   "cell_type": "code",
   "execution_count": 218,
   "id": "b79bec72",
   "metadata": {},
   "outputs": [],
   "source": [
    "param_grid = {\"alpha\":np.arange(0.01,3,0.1)}"
   ]
  },
  {
   "cell_type": "code",
   "execution_count": 219,
   "id": "d39c2f07",
   "metadata": {},
   "outputs": [
    {
     "data": {
      "text/plain": [
       "GridSearchCV(estimator=Ridge(), n_jobs=-1,\n",
       "             param_grid={'alpha': array([0.01, 0.11, 0.21, 0.31, 0.41, 0.51, 0.61, 0.71, 0.81, 0.91, 1.01,\n",
       "       1.11, 1.21, 1.31, 1.41, 1.51, 1.61, 1.71, 1.81, 1.91, 2.01, 2.11,\n",
       "       2.21, 2.31, 2.41, 2.51, 2.61, 2.71, 2.81, 2.91])})"
      ]
     },
     "execution_count": 219,
     "metadata": {},
     "output_type": "execute_result"
    }
   ],
   "source": [
    "gscv_ridge_model = GridSearchCV(Ridge_model,param_grid,n_jobs=-1)\n",
    "gscv_ridge_model.fit(x_train,y_train)"
   ]
  },
  {
   "cell_type": "code",
   "execution_count": 220,
   "id": "e7800f2e",
   "metadata": {},
   "outputs": [
    {
     "data": {
      "text/plain": [
       "Ridge(alpha=0.11)"
      ]
     },
     "execution_count": 220,
     "metadata": {},
     "output_type": "execute_result"
    }
   ],
   "source": [
    "gscv_ridge_model.best_estimator_"
   ]
  },
  {
   "cell_type": "code",
   "execution_count": 221,
   "id": "cfd8a248",
   "metadata": {},
   "outputs": [
    {
     "data": {
      "text/plain": [
       "Ridge(alpha=0.11)"
      ]
     },
     "execution_count": 221,
     "metadata": {},
     "output_type": "execute_result"
    }
   ],
   "source": [
    "ridge_reg_model = Ridge(alpha=0.11)\n",
    "\n",
    "ridge_reg_model.fit(x_train,y_train)"
   ]
  },
  {
   "cell_type": "code",
   "execution_count": 222,
   "id": "6466d15a",
   "metadata": {},
   "outputs": [
    {
     "name": "stdout",
     "output_type": "stream",
     "text": [
      "MSE : 7075221.128953105\n",
      "RMSE : 2659.9287826844356\n",
      "MAE : 1963.611932321768\n",
      "R2 Scored : 0.8945902854645126\n"
     ]
    }
   ],
   "source": [
    "# Testing on Training data\n",
    "\n",
    "y_pred_train = ridge_reg_model.predict(x_train)\n",
    "\n",
    "mse = mean_squared_error(y_train,y_pred_train)\n",
    "print(\"MSE :\",mse)\n",
    "\n",
    "rmse = np.sqrt(mse)\n",
    "print(\"RMSE :\",rmse)\n",
    "\n",
    "mae = mean_absolute_error(y_train, y_pred_train)\n",
    "print(\"MAE :\",mae)\n",
    "\n",
    "r2 = r2_score(y_train, y_pred_train)\n",
    "print(\"R2 Scored :\", r2)"
   ]
  },
  {
   "cell_type": "code",
   "execution_count": 223,
   "id": "c488a540",
   "metadata": {},
   "outputs": [
    {
     "name": "stdout",
     "output_type": "stream",
     "text": [
      "MSE : 5522470.8868638575\n",
      "RMSE : 2349.9938057075506\n",
      "MAE : 1899.9424167126956\n",
      "R2 Scored : 0.8351716755818475\n"
     ]
    }
   ],
   "source": [
    "# Testing on Testing data\n",
    "y_pred = ridge_reg_model.predict(x_test)\n",
    "\n",
    "mse = mean_squared_error(y_test, y_pred)\n",
    "print(\"MSE :\",mse)\n",
    "\n",
    "rmse = np.sqrt(mse)\n",
    "print(\"RMSE :\",rmse)\n",
    "\n",
    "mae = mean_absolute_error(y_test, y_pred)\n",
    "print(\"MAE :\",mae)\n",
    "\n",
    "r2 = r2_score(y_test, y_pred)\n",
    "print(\"R2 Scored :\", r2)"
   ]
  },
  {
   "cell_type": "markdown",
   "id": "810fedac",
   "metadata": {},
   "source": [
    "### 2.Randomize SearchCV "
   ]
  },
  {
   "cell_type": "code",
   "execution_count": 224,
   "id": "3c8f8b38",
   "metadata": {},
   "outputs": [
    {
     "data": {
      "text/plain": [
       "Ridge(alpha=0.21000000000000002)"
      ]
     },
     "execution_count": 224,
     "metadata": {},
     "output_type": "execute_result"
    }
   ],
   "source": [
    "param_grid = {\"alpha\":np.arange(0.01,3,0.1)}\n",
    "\n",
    "rscv = RandomizedSearchCV(Ridge_model,param_grid,n_jobs=-1)\n",
    "\n",
    "rscv.fit(x_train,y_train)\n",
    "rscv.best_estimator_"
   ]
  },
  {
   "cell_type": "code",
   "execution_count": 225,
   "id": "a0fcc58f",
   "metadata": {},
   "outputs": [
    {
     "data": {
      "text/plain": [
       "Ridge(alpha=0.81)"
      ]
     },
     "execution_count": 225,
     "metadata": {},
     "output_type": "execute_result"
    }
   ],
   "source": [
    "ridge_reg_model = Ridge(alpha=0.81)\n",
    "\n",
    "ridge_reg_model.fit(x_train,y_train)"
   ]
  },
  {
   "cell_type": "code",
   "execution_count": 226,
   "id": "e21da606",
   "metadata": {},
   "outputs": [
    {
     "name": "stdout",
     "output_type": "stream",
     "text": [
      "MSE : 5806974.098126907\n",
      "RMSE : 2409.766399078323\n",
      "MAE : 1877.697380825146\n",
      "R2 Scored : 0.8266801527536116\n"
     ]
    }
   ],
   "source": [
    "# Testing on Testing data\n",
    "y_pred = ridge_reg_model.predict(x_test)\n",
    "\n",
    "mse = mean_squared_error(y_test, y_pred)\n",
    "print(\"MSE :\",mse)\n",
    "\n",
    "rmse = np.sqrt(mse)\n",
    "print(\"RMSE :\",rmse)\n",
    "\n",
    "mae = mean_absolute_error(y_test, y_pred)\n",
    "print(\"MAE :\",mae)\n",
    "\n",
    "r2 = r2_score(y_test, y_pred)\n",
    "print(\"R2 Scored :\", r2)"
   ]
  },
  {
   "cell_type": "code",
   "execution_count": 227,
   "id": "d36c253d",
   "metadata": {},
   "outputs": [
    {
     "name": "stdout",
     "output_type": "stream",
     "text": [
      "MSE : 5806974.098126907\n",
      "RMSE : 2409.766399078323\n",
      "MAE : 1877.697380825146\n",
      "R2 Scored : 0.8266801527536116\n"
     ]
    }
   ],
   "source": [
    "# Testing on Testing data\n",
    "y_pred = ridge_reg_model.predict(x_test)\n",
    "\n",
    "mse = mean_squared_error(y_test, y_pred)\n",
    "print(\"MSE :\",mse)\n",
    "\n",
    "rmse = np.sqrt(mse)\n",
    "print(\"RMSE :\",rmse)\n",
    "\n",
    "mae = mean_absolute_error(y_test, y_pred)\n",
    "print(\"MAE :\",mae)\n",
    "\n",
    "r2 = r2_score(y_test, y_pred)\n",
    "print(\"R2 Scored :\", r2)"
   ]
  },
  {
   "cell_type": "markdown",
   "id": "4ec1c51b",
   "metadata": {},
   "source": [
    "## Lasso Regreration Model"
   ]
  },
  {
   "cell_type": "markdown",
   "id": "e4495fb7",
   "metadata": {},
   "source": [
    "### 1. Grid-SearchCV"
   ]
  },
  {
   "cell_type": "code",
   "execution_count": 228,
   "id": "02759b43",
   "metadata": {},
   "outputs": [],
   "source": [
    "Lasso_model = Lasso()"
   ]
  },
  {
   "cell_type": "code",
   "execution_count": 229,
   "id": "e8618df7",
   "metadata": {},
   "outputs": [
    {
     "data": {
      "text/plain": [
       "GridSearchCV(estimator=Lasso(), n_jobs=-1,\n",
       "             param_grid={'alpha': array([0.01, 0.11, 0.21, 0.31, 0.41, 0.51, 0.61, 0.71, 0.81, 0.91, 1.01,\n",
       "       1.11, 1.21, 1.31, 1.41, 1.51, 1.61, 1.71, 1.81, 1.91, 2.01, 2.11,\n",
       "       2.21, 2.31, 2.41, 2.51, 2.61, 2.71, 2.81, 2.91])})"
      ]
     },
     "execution_count": 229,
     "metadata": {},
     "output_type": "execute_result"
    }
   ],
   "source": [
    "gridsearchcv_lasso_model = GridSearchCV(Lasso_model,param_grid,n_jobs=-1)\n",
    "gridsearchcv_lasso_model.fit(x_train,y_train)"
   ]
  },
  {
   "cell_type": "code",
   "execution_count": 230,
   "id": "882e88fd",
   "metadata": {},
   "outputs": [
    {
     "data": {
      "text/plain": [
       "Lasso(alpha=1.81)"
      ]
     },
     "execution_count": 230,
     "metadata": {},
     "output_type": "execute_result"
    }
   ],
   "source": [
    "gridsearchcv_lasso_model.best_estimator_"
   ]
  },
  {
   "cell_type": "markdown",
   "id": "dcbd8fd7",
   "metadata": {},
   "source": [
    "### Now putting the alpha value in lasso model"
   ]
  },
  {
   "cell_type": "code",
   "execution_count": 231,
   "id": "87434979",
   "metadata": {},
   "outputs": [
    {
     "data": {
      "text/plain": [
       "Lasso(alpha=1.81)"
      ]
     },
     "execution_count": 231,
     "metadata": {},
     "output_type": "execute_result"
    }
   ],
   "source": [
    "Lasso_model = Lasso(alpha=1.81)\n",
    "Lasso_model.fit(x_train,y_train)"
   ]
  },
  {
   "cell_type": "code",
   "execution_count": 232,
   "id": "719fd1c7",
   "metadata": {},
   "outputs": [
    {
     "name": "stdout",
     "output_type": "stream",
     "text": [
      "MSE : 5386220.861728573\n",
      "RMSE : 2320.823315491417\n",
      "MAE : 1888.1218328033424\n",
      "R2 Scored : 0.839238308762006\n"
     ]
    }
   ],
   "source": [
    "# Testing on Testing data\n",
    "y_pred = Lasso_model.predict(x_test)\n",
    "\n",
    "mse = mean_squared_error(y_test, y_pred)\n",
    "print(\"MSE :\",mse)\n",
    "\n",
    "rmse = np.sqrt(mse)\n",
    "print(\"RMSE :\",rmse)\n",
    "\n",
    "mae = mean_absolute_error(y_test, y_pred)\n",
    "print(\"MAE :\",mae)\n",
    "\n",
    "r2 = r2_score(y_test, y_pred)\n",
    "print(\"R2 Scored :\", r2)"
   ]
  },
  {
   "cell_type": "code",
   "execution_count": 233,
   "id": "bab7cc70",
   "metadata": {},
   "outputs": [
    {
     "name": "stdout",
     "output_type": "stream",
     "text": [
      "MSE : 5386220.861728573\n",
      "RMSE : 2320.823315491417\n",
      "MAE : 1888.1218328033424\n",
      "R2 Scored : 0.839238308762006\n"
     ]
    }
   ],
   "source": [
    "# Testing on Testing data\n",
    "y_pred = Lasso_model.predict(x_test)\n",
    "\n",
    "mse = mean_squared_error(y_test, y_pred)\n",
    "print(\"MSE :\",mse)\n",
    "\n",
    "rmse = np.sqrt(mse)\n",
    "print(\"RMSE :\",rmse)\n",
    "\n",
    "mae = mean_absolute_error(y_test, y_pred)\n",
    "print(\"MAE :\",mae)\n",
    "\n",
    "r2 = r2_score(y_test, y_pred)\n",
    "print(\"R2 Scored :\", r2)"
   ]
  },
  {
   "cell_type": "markdown",
   "id": "2b5be365",
   "metadata": {},
   "source": [
    "### 2.Randomize SearchCV "
   ]
  },
  {
   "cell_type": "code",
   "execution_count": 234,
   "id": "a7fdf4b8",
   "metadata": {},
   "outputs": [],
   "source": [
    "Lasso_model = Lasso()"
   ]
  },
  {
   "cell_type": "code",
   "execution_count": 235,
   "id": "ef51e6b7",
   "metadata": {},
   "outputs": [],
   "source": [
    "randomizecv_model = RandomizedSearchCV(Lasso_model,param_grid,n_jobs=-1) "
   ]
  },
  {
   "cell_type": "code",
   "execution_count": 236,
   "id": "be69a8b5",
   "metadata": {},
   "outputs": [
    {
     "data": {
      "text/plain": [
       "RandomizedSearchCV(estimator=Lasso(), n_jobs=-1,\n",
       "                   param_distributions={'alpha': array([0.01, 0.11, 0.21, 0.31, 0.41, 0.51, 0.61, 0.71, 0.81, 0.91, 1.01,\n",
       "       1.11, 1.21, 1.31, 1.41, 1.51, 1.61, 1.71, 1.81, 1.91, 2.01, 2.11,\n",
       "       2.21, 2.31, 2.41, 2.51, 2.61, 2.71, 2.81, 2.91])})"
      ]
     },
     "execution_count": 236,
     "metadata": {},
     "output_type": "execute_result"
    }
   ],
   "source": [
    "randomizecv_model.fit(x_train,y_train)"
   ]
  },
  {
   "cell_type": "code",
   "execution_count": 237,
   "id": "fe80f805",
   "metadata": {},
   "outputs": [
    {
     "data": {
      "text/plain": [
       "Lasso(alpha=1.7100000000000002)"
      ]
     },
     "execution_count": 237,
     "metadata": {},
     "output_type": "execute_result"
    }
   ],
   "source": [
    "randomizecv_model.best_estimator_"
   ]
  },
  {
   "cell_type": "markdown",
   "id": "e4c22002",
   "metadata": {},
   "source": [
    "### Now putting the alpha value in Lasso model"
   ]
  },
  {
   "cell_type": "code",
   "execution_count": 238,
   "id": "ffdf8b69",
   "metadata": {},
   "outputs": [
    {
     "data": {
      "text/plain": [
       "Lasso(alpha=2.01)"
      ]
     },
     "execution_count": 238,
     "metadata": {},
     "output_type": "execute_result"
    }
   ],
   "source": [
    "Lasso_model = Lasso(alpha=2.01)\n",
    "Lasso_model.fit(x_train,y_train)"
   ]
  },
  {
   "cell_type": "code",
   "execution_count": 239,
   "id": "d8c7dbff",
   "metadata": {},
   "outputs": [
    {
     "name": "stdout",
     "output_type": "stream",
     "text": [
      "MSE : 5372316.222516041\n",
      "RMSE : 2317.8257532687917\n",
      "MAE : 1884.3115045261259\n",
      "R2 Scored : 0.8396533183528202\n"
     ]
    }
   ],
   "source": [
    "# Testing on Testing data\n",
    "y_pred = Lasso_model.predict(x_test)\n",
    "\n",
    "mse = mean_squared_error(y_test, y_pred)\n",
    "print(\"MSE :\",mse)\n",
    "\n",
    "rmse = np.sqrt(mse)\n",
    "print(\"RMSE :\",rmse)\n",
    "\n",
    "mae = mean_absolute_error(y_test, y_pred)\n",
    "print(\"MAE :\",mae)\n",
    "\n",
    "r2 = r2_score(y_test, y_pred)\n",
    "print(\"R2 Scored :\", r2)"
   ]
  },
  {
   "cell_type": "code",
   "execution_count": 240,
   "id": "3c42bcc5",
   "metadata": {},
   "outputs": [
    {
     "name": "stdout",
     "output_type": "stream",
     "text": [
      "MSE : 5372316.222516041\n",
      "RMSE : 2317.8257532687917\n",
      "MAE : 1884.3115045261259\n",
      "R2 Scored : 0.8396533183528202\n"
     ]
    }
   ],
   "source": [
    "# Testing on Testing data\n",
    "y_pred = Lasso_model.predict(x_test)\n",
    "\n",
    "mse = mean_squared_error(y_test, y_pred)\n",
    "print(\"MSE :\",mse)\n",
    "\n",
    "rmse = np.sqrt(mse)\n",
    "print(\"RMSE :\",rmse)\n",
    "\n",
    "mae = mean_absolute_error(y_test, y_pred)\n",
    "print(\"MAE :\",mae)\n",
    "\n",
    "r2 = r2_score(y_test, y_pred)\n",
    "print(\"R2 Scored :\", r2)"
   ]
  },
  {
   "cell_type": "markdown",
   "id": "2e921eab",
   "metadata": {},
   "source": [
    "# Taking inputs from user"
   ]
  },
  {
   "cell_type": "code",
   "execution_count": 241,
   "id": "192f3191",
   "metadata": {},
   "outputs": [],
   "source": [
    "# with open(\"Auto_linear_model.pkl\",\"wb\") as f:\n",
    "#     pickle.dump(model,f)"
   ]
  },
  {
   "cell_type": "code",
   "execution_count": 242,
   "id": "eb578972",
   "metadata": {},
   "outputs": [
    {
     "data": {
      "text/plain": [
       "Index(['symboling', 'normalized-losses', 'fuel-type', 'aspiration',\n",
       "       'num-of-doors', 'drive-wheels', 'engine-location', 'wheel-base',\n",
       "       'length', 'width', 'height', 'curb-weight', 'engine-type',\n",
       "       'num-of-cylinders', 'engine-size', 'bore', 'stroke',\n",
       "       'compression-ratio', 'horsepower', 'peak-rpm', 'city-mpg',\n",
       "       'highway-mpg', 'price', 'make_others', 'make_mazda', 'make_mitsubishi',\n",
       "       'make_nissan', 'make_peugot', 'make_subaru', 'make_toyota',\n",
       "       'make_volkswagen', 'make_volvo', 'body-style_hardtop',\n",
       "       'body-style_hatchback', 'body-style_sedan', 'body-style_wagon',\n",
       "       'fuel-system_others', 'fuel-system_2bbl', 'fuel-system_idi',\n",
       "       'fuel-system_mpfi'],\n",
       "      dtype='object')"
      ]
     },
     "execution_count": 242,
     "metadata": {},
     "output_type": "execute_result"
    }
   ],
   "source": [
    "df.columns"
   ]
  },
  {
   "cell_type": "code",
   "execution_count": 243,
   "id": "f5d6179c",
   "metadata": {
    "scrolled": true
   },
   "outputs": [
    {
     "data": {
      "text/plain": [
       "{'fuel_type': {'gas': 0, 'diesel': 1},\n",
       " 'aspiration': {'std': 0, 'turbo': 1},\n",
       " 'num_of_doors': {'four': 4, 'two': 2},\n",
       " 'drive_wheels': {'fwd': 0, 'rwd': 1, '4wd': 4},\n",
       " 'engine_location': {'front': 0, 'rear': 1},\n",
       " 'engine_type': {'ohc': 0,\n",
       "  'ohcf': 1,\n",
       "  'ohcv': 2,\n",
       "  'dohc': 3,\n",
       "  'rotor': 4,\n",
       "  'dohcv': 5},\n",
       " 'num_of_cylinders': {'four': 4,\n",
       "  'six': 6,\n",
       "  'five': 5,\n",
       "  'eight': 8,\n",
       "  'two': 2,\n",
       "  'three': 3,\n",
       "  'twelve': 12},\n",
       " 'columns': ['symboling',\n",
       "  'normalized-losses',\n",
       "  'fuel-type',\n",
       "  'aspiration',\n",
       "  'num-of-doors',\n",
       "  'drive-wheels',\n",
       "  'engine-location',\n",
       "  'wheel-base',\n",
       "  'length',\n",
       "  'width',\n",
       "  'height',\n",
       "  'curb-weight',\n",
       "  'engine-type',\n",
       "  'num-of-cylinders',\n",
       "  'engine-size',\n",
       "  'bore',\n",
       "  'stroke',\n",
       "  'compression-ratio',\n",
       "  'horsepower',\n",
       "  'peak-rpm',\n",
       "  'city-mpg',\n",
       "  'highway-mpg',\n",
       "  'make_others',\n",
       "  'make_mazda',\n",
       "  'make_mitsubishi',\n",
       "  'make_nissan',\n",
       "  'make_peugot',\n",
       "  'make_subaru',\n",
       "  'make_toyota',\n",
       "  'make_volkswagen',\n",
       "  'make_volvo',\n",
       "  'body-style_hardtop',\n",
       "  'body-style_hatchback',\n",
       "  'body-style_sedan',\n",
       "  'body-style_wagon',\n",
       "  'fuel-system_others',\n",
       "  'fuel-system_2bbl',\n",
       "  'fuel-system_idi',\n",
       "  'fuel-system_mpfi']}"
      ]
     },
     "execution_count": 243,
     "metadata": {},
     "output_type": "execute_result"
    }
   ],
   "source": [
    "fuel_type\n",
    "aspiration\n",
    "num_of_doors\n",
    "drive_wheels\n",
    "engine_location\n",
    "engine_type\n",
    "num_of_cylinders\n",
    "column_names = x.columns\n",
    "\n",
    "\n",
    "json_dict = {\"fuel_type\":fuel_type,\n",
    "            \"aspiration\":aspiration,\n",
    "            \"num_of_doors\":num_of_doors,\n",
    "            \"drive_wheels\":drive_wheels,\n",
    "            \"engine_location\":engine_location,\n",
    "            \"engine_type\":engine_type,\n",
    "            \"num_of_cylinders\":num_of_cylinders,\n",
    "             \"columns\":list(column_names)}\n",
    "\n",
    "json_dict\n"
   ]
  },
  {
   "cell_type": "markdown",
   "id": "9a2009e3",
   "metadata": {},
   "source": [
    "## Creating json file"
   ]
  },
  {
   "cell_type": "code",
   "execution_count": 244,
   "id": "fa45db73",
   "metadata": {},
   "outputs": [],
   "source": [
    "# with open(\"Autos_data.json\",\"w\") as f:\n",
    "#     json.dump(json_dict,f)"
   ]
  },
  {
   "cell_type": "markdown",
   "id": "4a0e0743",
   "metadata": {},
   "source": [
    "# Taking user input "
   ]
  },
  {
   "cell_type": "code",
   "execution_count": 245,
   "id": "22c93ded",
   "metadata": {},
   "outputs": [
    {
     "data": {
      "text/html": [
       "<div>\n",
       "<style scoped>\n",
       "    .dataframe tbody tr th:only-of-type {\n",
       "        vertical-align: middle;\n",
       "    }\n",
       "\n",
       "    .dataframe tbody tr th {\n",
       "        vertical-align: top;\n",
       "    }\n",
       "\n",
       "    .dataframe thead th {\n",
       "        text-align: right;\n",
       "    }\n",
       "</style>\n",
       "<table border=\"1\" class=\"dataframe\">\n",
       "  <thead>\n",
       "    <tr style=\"text-align: right;\">\n",
       "      <th></th>\n",
       "      <th>symboling</th>\n",
       "      <th>normalized-losses</th>\n",
       "      <th>fuel-type</th>\n",
       "      <th>aspiration</th>\n",
       "      <th>num-of-doors</th>\n",
       "      <th>drive-wheels</th>\n",
       "      <th>engine-location</th>\n",
       "      <th>wheel-base</th>\n",
       "      <th>length</th>\n",
       "      <th>width</th>\n",
       "      <th>...</th>\n",
       "      <th>make_volkswagen</th>\n",
       "      <th>make_volvo</th>\n",
       "      <th>body-style_hardtop</th>\n",
       "      <th>body-style_hatchback</th>\n",
       "      <th>body-style_sedan</th>\n",
       "      <th>body-style_wagon</th>\n",
       "      <th>fuel-system_others</th>\n",
       "      <th>fuel-system_2bbl</th>\n",
       "      <th>fuel-system_idi</th>\n",
       "      <th>fuel-system_mpfi</th>\n",
       "    </tr>\n",
       "  </thead>\n",
       "  <tbody>\n",
       "    <tr>\n",
       "      <th>0</th>\n",
       "      <td>3</td>\n",
       "      <td>122</td>\n",
       "      <td>0</td>\n",
       "      <td>0</td>\n",
       "      <td>2</td>\n",
       "      <td>1</td>\n",
       "      <td>0</td>\n",
       "      <td>88.6</td>\n",
       "      <td>168.8</td>\n",
       "      <td>64.1</td>\n",
       "      <td>...</td>\n",
       "      <td>0.0</td>\n",
       "      <td>0.0</td>\n",
       "      <td>0</td>\n",
       "      <td>0</td>\n",
       "      <td>0</td>\n",
       "      <td>0</td>\n",
       "      <td>0</td>\n",
       "      <td>0</td>\n",
       "      <td>0</td>\n",
       "      <td>1</td>\n",
       "    </tr>\n",
       "  </tbody>\n",
       "</table>\n",
       "<p>1 rows × 40 columns</p>\n",
       "</div>"
      ],
      "text/plain": [
       "   symboling  normalized-losses  fuel-type  aspiration  num-of-doors  \\\n",
       "0          3                122          0           0             2   \n",
       "\n",
       "   drive-wheels  engine-location  wheel-base  length  width  ...  \\\n",
       "0             1                0        88.6   168.8   64.1  ...   \n",
       "\n",
       "   make_volkswagen  make_volvo  body-style_hardtop  body-style_hatchback  \\\n",
       "0              0.0         0.0                   0                     0   \n",
       "\n",
       "   body-style_sedan  body-style_wagon  fuel-system_others  fuel-system_2bbl  \\\n",
       "0                 0                 0                   0                 0   \n",
       "\n",
       "   fuel-system_idi  fuel-system_mpfi  \n",
       "0                0                 1  \n",
       "\n",
       "[1 rows x 40 columns]"
      ]
     },
     "execution_count": 245,
     "metadata": {},
     "output_type": "execute_result"
    }
   ],
   "source": [
    "df.head(1)"
   ]
  },
  {
   "cell_type": "code",
   "execution_count": 246,
   "id": "f1c339a8",
   "metadata": {},
   "outputs": [
    {
     "data": {
      "text/html": [
       "<div>\n",
       "<style scoped>\n",
       "    .dataframe tbody tr th:only-of-type {\n",
       "        vertical-align: middle;\n",
       "    }\n",
       "\n",
       "    .dataframe tbody tr th {\n",
       "        vertical-align: top;\n",
       "    }\n",
       "\n",
       "    .dataframe thead th {\n",
       "        text-align: right;\n",
       "    }\n",
       "</style>\n",
       "<table border=\"1\" class=\"dataframe\">\n",
       "  <thead>\n",
       "    <tr style=\"text-align: right;\">\n",
       "      <th></th>\n",
       "      <th>0</th>\n",
       "    </tr>\n",
       "  </thead>\n",
       "  <tbody>\n",
       "    <tr>\n",
       "      <th>symboling</th>\n",
       "      <td>3.00</td>\n",
       "    </tr>\n",
       "    <tr>\n",
       "      <th>normalized-losses</th>\n",
       "      <td>122.00</td>\n",
       "    </tr>\n",
       "    <tr>\n",
       "      <th>fuel-type</th>\n",
       "      <td>0.00</td>\n",
       "    </tr>\n",
       "    <tr>\n",
       "      <th>aspiration</th>\n",
       "      <td>0.00</td>\n",
       "    </tr>\n",
       "    <tr>\n",
       "      <th>num-of-doors</th>\n",
       "      <td>2.00</td>\n",
       "    </tr>\n",
       "    <tr>\n",
       "      <th>drive-wheels</th>\n",
       "      <td>1.00</td>\n",
       "    </tr>\n",
       "    <tr>\n",
       "      <th>engine-location</th>\n",
       "      <td>0.00</td>\n",
       "    </tr>\n",
       "    <tr>\n",
       "      <th>wheel-base</th>\n",
       "      <td>88.60</td>\n",
       "    </tr>\n",
       "    <tr>\n",
       "      <th>length</th>\n",
       "      <td>168.80</td>\n",
       "    </tr>\n",
       "    <tr>\n",
       "      <th>width</th>\n",
       "      <td>64.10</td>\n",
       "    </tr>\n",
       "    <tr>\n",
       "      <th>height</th>\n",
       "      <td>48.80</td>\n",
       "    </tr>\n",
       "    <tr>\n",
       "      <th>curb-weight</th>\n",
       "      <td>2548.00</td>\n",
       "    </tr>\n",
       "    <tr>\n",
       "      <th>engine-type</th>\n",
       "      <td>3.00</td>\n",
       "    </tr>\n",
       "    <tr>\n",
       "      <th>num-of-cylinders</th>\n",
       "      <td>4.00</td>\n",
       "    </tr>\n",
       "    <tr>\n",
       "      <th>engine-size</th>\n",
       "      <td>130.00</td>\n",
       "    </tr>\n",
       "    <tr>\n",
       "      <th>bore</th>\n",
       "      <td>3.47</td>\n",
       "    </tr>\n",
       "    <tr>\n",
       "      <th>stroke</th>\n",
       "      <td>2.68</td>\n",
       "    </tr>\n",
       "    <tr>\n",
       "      <th>compression-ratio</th>\n",
       "      <td>9.00</td>\n",
       "    </tr>\n",
       "    <tr>\n",
       "      <th>horsepower</th>\n",
       "      <td>111.00</td>\n",
       "    </tr>\n",
       "    <tr>\n",
       "      <th>peak-rpm</th>\n",
       "      <td>5000.00</td>\n",
       "    </tr>\n",
       "    <tr>\n",
       "      <th>city-mpg</th>\n",
       "      <td>21.00</td>\n",
       "    </tr>\n",
       "    <tr>\n",
       "      <th>highway-mpg</th>\n",
       "      <td>27.00</td>\n",
       "    </tr>\n",
       "    <tr>\n",
       "      <th>price</th>\n",
       "      <td>13495.00</td>\n",
       "    </tr>\n",
       "    <tr>\n",
       "      <th>make_others</th>\n",
       "      <td>0.00</td>\n",
       "    </tr>\n",
       "    <tr>\n",
       "      <th>make_mazda</th>\n",
       "      <td>0.00</td>\n",
       "    </tr>\n",
       "    <tr>\n",
       "      <th>make_mitsubishi</th>\n",
       "      <td>0.00</td>\n",
       "    </tr>\n",
       "    <tr>\n",
       "      <th>make_nissan</th>\n",
       "      <td>0.00</td>\n",
       "    </tr>\n",
       "    <tr>\n",
       "      <th>make_peugot</th>\n",
       "      <td>0.00</td>\n",
       "    </tr>\n",
       "    <tr>\n",
       "      <th>make_subaru</th>\n",
       "      <td>0.00</td>\n",
       "    </tr>\n",
       "    <tr>\n",
       "      <th>make_toyota</th>\n",
       "      <td>0.00</td>\n",
       "    </tr>\n",
       "    <tr>\n",
       "      <th>make_volkswagen</th>\n",
       "      <td>0.00</td>\n",
       "    </tr>\n",
       "    <tr>\n",
       "      <th>make_volvo</th>\n",
       "      <td>0.00</td>\n",
       "    </tr>\n",
       "    <tr>\n",
       "      <th>body-style_hardtop</th>\n",
       "      <td>0.00</td>\n",
       "    </tr>\n",
       "    <tr>\n",
       "      <th>body-style_hatchback</th>\n",
       "      <td>0.00</td>\n",
       "    </tr>\n",
       "    <tr>\n",
       "      <th>body-style_sedan</th>\n",
       "      <td>0.00</td>\n",
       "    </tr>\n",
       "    <tr>\n",
       "      <th>body-style_wagon</th>\n",
       "      <td>0.00</td>\n",
       "    </tr>\n",
       "    <tr>\n",
       "      <th>fuel-system_others</th>\n",
       "      <td>0.00</td>\n",
       "    </tr>\n",
       "    <tr>\n",
       "      <th>fuel-system_2bbl</th>\n",
       "      <td>0.00</td>\n",
       "    </tr>\n",
       "    <tr>\n",
       "      <th>fuel-system_idi</th>\n",
       "      <td>0.00</td>\n",
       "    </tr>\n",
       "    <tr>\n",
       "      <th>fuel-system_mpfi</th>\n",
       "      <td>1.00</td>\n",
       "    </tr>\n",
       "  </tbody>\n",
       "</table>\n",
       "</div>"
      ],
      "text/plain": [
       "                             0\n",
       "symboling                 3.00\n",
       "normalized-losses       122.00\n",
       "fuel-type                 0.00\n",
       "aspiration                0.00\n",
       "num-of-doors              2.00\n",
       "drive-wheels              1.00\n",
       "engine-location           0.00\n",
       "wheel-base               88.60\n",
       "length                  168.80\n",
       "width                    64.10\n",
       "height                   48.80\n",
       "curb-weight            2548.00\n",
       "engine-type               3.00\n",
       "num-of-cylinders          4.00\n",
       "engine-size             130.00\n",
       "bore                      3.47\n",
       "stroke                    2.68\n",
       "compression-ratio         9.00\n",
       "horsepower              111.00\n",
       "peak-rpm               5000.00\n",
       "city-mpg                 21.00\n",
       "highway-mpg              27.00\n",
       "price                 13495.00\n",
       "make_others               0.00\n",
       "make_mazda                0.00\n",
       "make_mitsubishi           0.00\n",
       "make_nissan               0.00\n",
       "make_peugot               0.00\n",
       "make_subaru               0.00\n",
       "make_toyota               0.00\n",
       "make_volkswagen           0.00\n",
       "make_volvo                0.00\n",
       "body-style_hardtop        0.00\n",
       "body-style_hatchback      0.00\n",
       "body-style_sedan          0.00\n",
       "body-style_wagon          0.00\n",
       "fuel-system_others        0.00\n",
       "fuel-system_2bbl          0.00\n",
       "fuel-system_idi           0.00\n",
       "fuel-system_mpfi          1.00"
      ]
     },
     "execution_count": 246,
     "metadata": {},
     "output_type": "execute_result"
    }
   ],
   "source": [
    "df.head(1).T"
   ]
  },
  {
   "cell_type": "code",
   "execution_count": 247,
   "id": "e796ac9e",
   "metadata": {
    "scrolled": true
   },
   "outputs": [
    {
     "data": {
      "text/plain": [
       "{'fuel_type': {'gas': 0, 'diesel': 1},\n",
       " 'aspiration': {'std': 0, 'turbo': 1},\n",
       " 'num_of_doors': {'four': 4, 'two': 2},\n",
       " 'drive_wheels': {'fwd': 0, 'rwd': 1, '4wd': 4},\n",
       " 'engine_location': {'front': 0, 'rear': 1},\n",
       " 'engine_type': {'ohc': 0,\n",
       "  'ohcf': 1,\n",
       "  'ohcv': 2,\n",
       "  'dohc': 3,\n",
       "  'rotor': 4,\n",
       "  'dohcv': 5},\n",
       " 'num_of_cylinders': {'four': 4,\n",
       "  'six': 6,\n",
       "  'five': 5,\n",
       "  'eight': 8,\n",
       "  'two': 2,\n",
       "  'three': 3,\n",
       "  'twelve': 12},\n",
       " 'columns': ['symboling',\n",
       "  'normalized-losses',\n",
       "  'fuel-type',\n",
       "  'aspiration',\n",
       "  'num-of-doors',\n",
       "  'drive-wheels',\n",
       "  'engine-location',\n",
       "  'wheel-base',\n",
       "  'length',\n",
       "  'width',\n",
       "  'height',\n",
       "  'curb-weight',\n",
       "  'engine-type',\n",
       "  'num-of-cylinders',\n",
       "  'engine-size',\n",
       "  'bore',\n",
       "  'stroke',\n",
       "  'compression-ratio',\n",
       "  'horsepower',\n",
       "  'peak-rpm',\n",
       "  'city-mpg',\n",
       "  'highway-mpg',\n",
       "  'make_others',\n",
       "  'make_mazda',\n",
       "  'make_mitsubishi',\n",
       "  'make_nissan',\n",
       "  'make_peugot',\n",
       "  'make_subaru',\n",
       "  'make_toyota',\n",
       "  'make_volkswagen',\n",
       "  'make_volvo',\n",
       "  'body-style_hardtop',\n",
       "  'body-style_hatchback',\n",
       "  'body-style_sedan',\n",
       "  'body-style_wagon',\n",
       "  'fuel-system_others',\n",
       "  'fuel-system_2bbl',\n",
       "  'fuel-system_idi',\n",
       "  'fuel-system_mpfi']}"
      ]
     },
     "execution_count": 247,
     "metadata": {},
     "output_type": "execute_result"
    }
   ],
   "source": [
    "json_dict"
   ]
  },
  {
   "cell_type": "code",
   "execution_count": 248,
   "id": "ae8d8ba1",
   "metadata": {},
   "outputs": [],
   "source": [
    "symboling              = 3\n",
    "normalized_losses      = 122\n",
    "fuel_type              = \"gas\"\n",
    "aspiration             = \"std\"\n",
    "num_of_doors           = \"four\"\n",
    "drive_wheels           = \"fwd\"\n",
    "engine_location        = \"front\"\n",
    "wheel_base             = 88.60\n",
    "length                 = 168.80\n",
    "width                  = 64.10\n",
    "height                 = 48.80\n",
    "curb_weight            = 2548.00\n",
    "engine_type            = \"ohc\"\n",
    "num_of_cylinders       = \"four\"\n",
    "engine_size            = 130\n",
    "bore                   = 3.47\n",
    "stroke                 = 2.68\n",
    "compression_ratio      = 9.00\n",
    "horsepower             = 111\n",
    "peak_rpm               = 5000\n",
    "city_mpg               = 21\n",
    "highway_mpg            = 27\n",
    "make                   = \"mazda\"\n",
    "make                   = \"make_\" + make\n",
    "body_style             = \"hardtop\"\n",
    "body_style             = \"body-style_\" + body_style\n",
    "fuel_system            = \"mpfi\"\n",
    "fuel_system            = \"fuel-system_\" + fuel_system"
   ]
  },
  {
   "cell_type": "code",
   "execution_count": 249,
   "id": "d620d422",
   "metadata": {},
   "outputs": [
    {
     "data": {
      "text/plain": [
       "23"
      ]
     },
     "execution_count": 249,
     "metadata": {},
     "output_type": "execute_result"
    }
   ],
   "source": [
    "make_index = list(column_names).index(make)\n",
    "make_index"
   ]
  },
  {
   "cell_type": "code",
   "execution_count": 250,
   "id": "2d8e1a09",
   "metadata": {},
   "outputs": [
    {
     "data": {
      "text/plain": [
       "31"
      ]
     },
     "execution_count": 250,
     "metadata": {},
     "output_type": "execute_result"
    }
   ],
   "source": [
    "body_style_index = list(column_names).index(body_style)\n",
    "body_style_index"
   ]
  },
  {
   "cell_type": "code",
   "execution_count": 251,
   "id": "ba7387e7",
   "metadata": {},
   "outputs": [
    {
     "data": {
      "text/plain": [
       "38"
      ]
     },
     "execution_count": 251,
     "metadata": {},
     "output_type": "execute_result"
    }
   ],
   "source": [
    "fuel_system_index = list(column_names).index(fuel_system)\n",
    "fuel_system_index"
   ]
  },
  {
   "cell_type": "code",
   "execution_count": 252,
   "id": "ddc9110e",
   "metadata": {},
   "outputs": [
    {
     "data": {
      "text/plain": [
       "array([3.000e+00, 1.220e+02, 0.000e+00, 0.000e+00, 4.000e+00, 0.000e+00,\n",
       "       0.000e+00, 8.860e+01, 1.688e+02, 6.410e+01, 4.880e+01, 2.548e+03,\n",
       "       0.000e+00, 4.000e+00, 1.300e+02, 3.470e+00, 2.680e+00, 9.000e+00,\n",
       "       1.110e+02, 5.000e+03, 2.100e+01, 2.700e+01, 0.000e+00, 1.000e+00,\n",
       "       0.000e+00, 0.000e+00, 0.000e+00, 0.000e+00, 0.000e+00, 0.000e+00,\n",
       "       0.000e+00, 1.000e+00, 0.000e+00, 0.000e+00, 0.000e+00, 0.000e+00,\n",
       "       0.000e+00, 0.000e+00, 1.000e+00])"
      ]
     },
     "execution_count": 252,
     "metadata": {},
     "output_type": "execute_result"
    }
   ],
   "source": [
    "test_array = np.zeros(len(column_names))\n",
    "\n",
    "test_array[0] = symboling\n",
    "test_array[1] = normalized_losses\n",
    "test_array[2] = json_dict['fuel_type'][fuel_type]\n",
    "test_array[3] = json_dict['aspiration'][aspiration]\n",
    "test_array[4] = json_dict['num_of_doors'][num_of_doors]\n",
    "test_array[5] = json_dict['drive_wheels'][drive_wheels]\n",
    "test_array[6] = json_dict['engine_location'][engine_location]\n",
    "test_array[7] = wheel_base\n",
    "test_array[8] = length\n",
    "test_array[9] = width\n",
    "test_array[10] = height\n",
    "test_array[11] = curb_weight\n",
    "test_array[12] = json_dict['engine_type'][engine_type]\n",
    "test_array[13] = json_dict['num_of_cylinders'][num_of_cylinders]\n",
    "test_array[14] = engine_size\n",
    "test_array[15] = bore\n",
    "test_array[16] = stroke\n",
    "test_array[17] = compression_ratio\n",
    "test_array[18] = horsepower\n",
    "test_array[19] = peak_rpm\n",
    "test_array[20] = city_mpg\n",
    "test_array[21] = highway_mpg\n",
    "test_array[make_index] = 1\n",
    "test_array[body_style_index] = 1\n",
    "test_array[fuel_system_index] = 1\n",
    "\n",
    "test_array"
   ]
  },
  {
   "cell_type": "code",
   "execution_count": 256,
   "id": "fe3460e7",
   "metadata": {},
   "outputs": [
    {
     "name": "stdout",
     "output_type": "stream",
     "text": [
      "The Total Price of your Car is: $ 15835.63/- Only\n"
     ]
    }
   ],
   "source": [
    "price = round(model.predict([test_array])[0],2)\n",
    "print(f\"The Total Price of your Car is: $ {price}/- Only\")"
   ]
  }
 ],
 "metadata": {
  "kernelspec": {
   "display_name": "Python 3 (ipykernel)",
   "language": "python",
   "name": "python3"
  },
  "language_info": {
   "codemirror_mode": {
    "name": "ipython",
    "version": 3
   },
   "file_extension": ".py",
   "mimetype": "text/x-python",
   "name": "python",
   "nbconvert_exporter": "python",
   "pygments_lexer": "ipython3",
   "version": "3.9.13"
  }
 },
 "nbformat": 4,
 "nbformat_minor": 5
}
